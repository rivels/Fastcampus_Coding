{
 "cells": [
  {
   "cell_type": "code",
   "execution_count": 1,
   "metadata": {},
   "outputs": [
    {
     "data": {
      "text/plain": [
       "'/Users/song-kang/Desktop/Fastcampus/code'"
      ]
     },
     "execution_count": 1,
     "metadata": {},
     "output_type": "execute_result"
    }
   ],
   "source": [
    "%pwd"
   ]
  },
  {
   "cell_type": "code",
   "execution_count": 2,
   "metadata": {},
   "outputs": [
    {
     "name": "stdout",
     "output_type": "stream",
     "text": [
      "/Users/song-kang/Desktop/Fastcampus/code\r\n"
     ]
    }
   ],
   "source": [
    "!pwd\n",
    "# !를 붙이면 주피터 노트북에서 Terminal의 명령어를 입력할 수 있음."
   ]
  },
  {
   "cell_type": "markdown",
   "metadata": {},
   "source": [
    "# Markdown\n",
    "    - 코드에 대한 설명글을 넣을때 사용\n",
    "    \n",
    "    * '-'나 '*'을 사용해서 글머리 기호로 사용할 수 있음\n",
    "    - code : `\n",
    "        - 코드를 출력할 때 사용 ``로 감싸면 됨.\n",
    "`print(a)`\n",
    "\n",
    "    - link : [text](link)\n",
    "        - 다른웹페이지로 이동하는 하이퍼링크를 출력할 때 사용\n",
    "[text](link)\n",
    "    \n",
    "    - line : ---\n",
    "        셀을 구분해줄 때 사용\n",
    "---\n",
    "\n",
    "\n",
    "    - emphasis : **글자**\n",
    "        -굵은 글자로 표현할 때 사용\n",
    "**볼드체**\n"
   ]
  },
  {
   "cell_type": "markdown",
   "metadata": {},
   "source": [
    "`print(A)`"
   ]
  },
  {
   "cell_type": "markdown",
   "metadata": {},
   "source": [
    "## shell command 실행\n",
    "- 가장 앞에 !를 붙이고 shell 명령어 입력해서 실행\n",
    "- bash shell 환경에서 실행"
   ]
  },
  {
   "cell_type": "code",
   "execution_count": 13,
   "metadata": {},
   "outputs": [
    {
     "name": "stdout",
     "output_type": "stream",
     "text": [
      "/Users/song-kang/Desktop/Fastcampus/code\n",
      "total 16\n",
      "drwxr-xr-x@ 4 song-kang  staff   128  2 23 14:13 \u001b[34m.\u001b[m\u001b[m\n",
      "drwxr-xr-x@ 9 song-kang  staff   288  2 23 13:48 \u001b[34m..\u001b[m\u001b[m\n",
      "drwxr-xr-x@ 3 song-kang  staff    96  2 23 13:06 \u001b[34m.ipynb_checkpoints\u001b[m\u001b[m\n",
      "-rw-r--r--  1 song-kang  staff  4131  2 23 14:13 Untitled.ipynb\n",
      "\u001b[34mcode\u001b[m\u001b[m                           \u001b[34m아이디어\u001b[m\u001b[m\n",
      "\u001b[34mprecourse\u001b[m\u001b[m                      \u001b[34m수업내용\u001b[m\u001b[m\n",
      "\u001b[34m이력서\u001b[m\u001b[m\n"
     ]
    }
   ],
   "source": [
    "!pwd\n",
    "!ls -al\n",
    "!ls ../ #상위 디렉토리의 파일리스트를 보여줌\n",
    "filelist = !ls ../"
   ]
  },
  {
   "cell_type": "markdown",
   "metadata": {},
   "source": [
    "## Magic Command\n",
    "- jupyter notebook에서 제공하는 명령\n",
    "- 앞에 '%'나 '%%'를 붙이고 명령을 입력해서 실행\n",
    "- %하나는 한 줄에 모든 내용이 담길때, %%는 셀 전체에 매직커맨드의 내용이 들어갈때"
   ]
  },
  {
   "cell_type": "code",
   "execution_count": 16,
   "metadata": {},
   "outputs": [
    {
     "name": "stdout",
     "output_type": "stream",
     "text": [
      "Once deleted, variables cannot be recovered. Proceed (y/[n])? y\n"
     ]
    }
   ],
   "source": [
    "%pwd\n",
    "%reset\n",
    "# 주피터 노트북에 선언된 모든 변수를 삭제"
   ]
  },
  {
   "cell_type": "code",
   "execution_count": 3,
   "metadata": {},
   "outputs": [
    {
     "data": {
      "text/plain": [
       "<list_reverseiterator at 0x7fa3c9582130>"
      ]
     },
     "execution_count": 3,
     "metadata": {},
     "output_type": "execute_result"
    }
   ],
   "source": [
    "'''\n",
    "function + shift + tab 은 함수나 클래스의 정보를 보여줌\n",
    "'''"
   ]
  },
  {
   "cell_type": "markdown",
   "metadata": {},
   "source": [
    "# whos, time, writefile, cat, load, _,\n",
    "- %whos : 주피터 노트북에서 선언된 변수를 출력\n",
    "- %%time : 코드가 실행된 시간출력\n",
    "- %writefile : 파일을 작성할때\n",
    "- %cat : 파일내용을 가져올때\n",
    "- %load : 파일을 불러올때 사용"
   ]
  },
  {
   "cell_type": "code",
   "execution_count": null,
   "metadata": {},
   "outputs": [],
   "source": [
    "# %load 02_basic_syntax.ipynb\n",
    "{\n",
    " \"cells\": [\n",
    "  {\n",
    "   \"cell_type\": \"markdown\",\n",
    "   \"metadata\": {},\n",
    "   \"source\": [\n",
    "    \"# python basic syntax\"\n",
    "   ]\n",
    "  },\n",
    "  {\n",
    "   \"cell_type\": \"code\",\n",
    "   \"execution_count\": 2,\n",
    "   \"metadata\": {},\n",
    "   \"outputs\": [\n",
    "    {\n",
    "     \"name\": \"stdout\",\n",
    "     \"output_type\": \"stream\",\n",
    "     \"text\": [\n",
    "      \"The Zen of Python, by Tim Peters\\n\",\n",
    "      \"\\n\",\n",
    "      \"Beautiful is better than ugly.\\n\",\n",
    "      \"Explicit is better than implicit.\\n\",\n",
    "      \"Simple is better than complex.\\n\",\n",
    "      \"Complex is better than complicated.\\n\",\n",
    "      \"Flat is better than nested.\\n\",\n",
    "      \"Sparse is better than dense.\\n\",\n",
    "      \"Readability counts.\\n\",\n",
    "      \"Special cases aren't special enough to break the rules.\\n\",\n",
    "      \"Although practicality beats purity.\\n\",\n",
    "      \"Errors should never pass silently.\\n\",\n",
    "      \"Unless explicitly silenced.\\n\",\n",
    "      \"In the face of ambiguity, refuse the temptation to guess.\\n\",\n",
    "      \"There should be one-- and preferably only one --obvious way to do it.\\n\",\n",
    "      \"Although that way may not be obvious at first unless you're Dutch.\\n\",\n",
    "      \"Now is better than never.\\n\",\n",
    "      \"Although never is often better than *right* now.\\n\",\n",
    "      \"If the implementation is hard to explain, it's a bad idea.\\n\",\n",
    "      \"If the implementation is easy to explain, it may be a good idea.\\n\",\n",
    "      \"Namespaces are one honking great idea -- let's do more of those!\\n\"\n",
    "     ]\n",
    "    }\n",
    "   ],\n",
    "   \"source\": [\n",
    "    \"import this\"\n",
    "   ]\n",
    "  },\n",
    "  {\n",
    "   \"cell_type\": \"code\",\n",
    "   \"execution_count\": null,\n",
    "   \"metadata\": {},\n",
    "   \"outputs\": [],\n",
    "   \"source\": []\n",
    "  }\n",
    " ],\n",
    " \"metadata\": {\n",
    "  \"kernelspec\": {\n",
    "   \"display_name\": \"Python 3\",\n",
    "   \"language\": \"python\",\n",
    "   \"name\": \"python3\"\n",
    "  },\n",
    "  \"language_info\": {\n",
    "   \"codemirror_mode\": {\n",
    "    \"name\": \"ipython\",\n",
    "    \"version\": 3\n",
    "   },\n",
    "   \"file_extension\": \".py\",\n",
    "   \"mimetype\": \"text/x-python\",\n",
    "   \"name\": \"python\",\n",
    "   \"nbconvert_exporter\": \"python\",\n",
    "   \"pygments_lexer\": \"ipython3\",\n",
    "   \"version\": \"3.8.5\"\n",
    "  }\n",
    " },\n",
    " \"nbformat\": 4,\n",
    " \"nbformat_minor\": 4\n",
    "}\n"
   ]
  },
  {
   "cell_type": "code",
   "execution_count": 33,
   "metadata": {},
   "outputs": [
    {
     "name": "stdout",
     "output_type": "stream",
     "text": [
      "{\r\n",
      " \"cells\": [\r\n",
      "  {\r\n",
      "   \"cell_type\": \"markdown\",\r\n",
      "   \"metadata\": {},\r\n",
      "   \"source\": [\r\n",
      "    \"# python basic syntax\"\r\n",
      "   ]\r\n",
      "  },\r\n",
      "  {\r\n",
      "   \"cell_type\": \"code\",\r\n",
      "   \"execution_count\": 2,\r\n",
      "   \"metadata\": {},\r\n",
      "   \"outputs\": [\r\n",
      "    {\r\n",
      "     \"name\": \"stdout\",\r\n",
      "     \"output_type\": \"stream\",\r\n",
      "     \"text\": [\r\n",
      "      \"The Zen of Python, by Tim Peters\\n\",\r\n",
      "      \"\\n\",\r\n",
      "      \"Beautiful is better than ugly.\\n\",\r\n",
      "      \"Explicit is better than implicit.\\n\",\r\n",
      "      \"Simple is better than complex.\\n\",\r\n",
      "      \"Complex is better than complicated.\\n\",\r\n",
      "      \"Flat is better than nested.\\n\",\r\n",
      "      \"Sparse is better than dense.\\n\",\r\n",
      "      \"Readability counts.\\n\",\r\n",
      "      \"Special cases aren't special enough to break the rules.\\n\",\r\n",
      "      \"Although practicality beats purity.\\n\",\r\n",
      "      \"Errors should never pass silently.\\n\",\r\n",
      "      \"Unless explicitly silenced.\\n\",\r\n",
      "      \"In the face of ambiguity, refuse the temptation to guess.\\n\",\r\n",
      "      \"There should be one-- and preferably only one --obvious way to do it.\\n\",\r\n",
      "      \"Although that way may not be obvious at first unless you're Dutch.\\n\",\r\n",
      "      \"Now is better than never.\\n\",\r\n",
      "      \"Although never is often better than *right* now.\\n\",\r\n",
      "      \"If the implementation is hard to explain, it's a bad idea.\\n\",\r\n",
      "      \"If the implementation is easy to explain, it may be a good idea.\\n\",\r\n",
      "      \"Namespaces are one honking great idea -- let's do more of those!\\n\"\r\n",
      "     ]\r\n",
      "    }\r\n",
      "   ],\r\n",
      "   \"source\": [\r\n",
      "    \"import this\"\r\n",
      "   ]\r\n",
      "  },\r\n",
      "  {\r\n",
      "   \"cell_type\": \"code\",\r\n",
      "   \"execution_count\": null,\r\n",
      "   \"metadata\": {},\r\n",
      "   \"outputs\": [],\r\n",
      "   \"source\": []\r\n",
      "  }\r\n",
      " ],\r\n",
      " \"metadata\": {\r\n",
      "  \"kernelspec\": {\r\n",
      "   \"display_name\": \"Python 3\",\r\n",
      "   \"language\": \"python\",\r\n",
      "   \"name\": \"python3\"\r\n",
      "  },\r\n",
      "  \"language_info\": {\r\n",
      "   \"codemirror_mode\": {\r\n",
      "    \"name\": \"ipython\",\r\n",
      "    \"version\": 3\r\n",
      "   },\r\n",
      "   \"file_extension\": \".py\",\r\n",
      "   \"mimetype\": \"text/x-python\",\r\n",
      "   \"name\": \"python\",\r\n",
      "   \"nbconvert_exporter\": \"python\",\r\n",
      "   \"pygments_lexer\": \"ipython3\",\r\n",
      "   \"version\": \"3.8.5\"\r\n",
      "  }\r\n",
      " },\r\n",
      " \"nbformat\": 4,\r\n",
      " \"nbformat_minor\": 4\r\n",
      "}\r\n"
     ]
    }
   ],
   "source": [
    "%cat 02_basic_syntax.ipynb"
   ]
  },
  {
   "cell_type": "code",
   "execution_count": 19,
   "metadata": {},
   "outputs": [
    {
     "name": "stdout",
     "output_type": "stream",
     "text": [
      "Variable   Type     Data/Info\n",
      "-----------------------------\n",
      "A          list     n=0\n",
      "B          tuple    n=0\n",
      "C          dict     n=0\n",
      "a          int      0\n",
      "b          str      a\n"
     ]
    }
   ],
   "source": [
    "%whos\n",
    "# 주피터 노트북에서 선언된 변수를 출력"
   ]
  },
  {
   "cell_type": "code",
   "execution_count": 20,
   "metadata": {},
   "outputs": [
    {
     "name": "stdout",
     "output_type": "stream",
     "text": [
      "1\n",
      "2\n",
      "CPU times: user 201 µs, sys: 79 µs, total: 280 µs\n",
      "Wall time: 251 µs\n"
     ]
    }
   ],
   "source": [
    "%%time\n",
    "print(1)\n",
    "print(2)"
   ]
  },
  {
   "cell_type": "code",
   "execution_count": 21,
   "metadata": {},
   "outputs": [
    {
     "name": "stdout",
     "output_type": "stream",
     "text": [
      "Writing test.py\n"
     ]
    }
   ],
   "source": [
    "%%writefile test.py\n",
    "#파일을 write 할 때 사용"
   ]
  },
  {
   "cell_type": "code",
   "execution_count": 22,
   "metadata": {},
   "outputs": [
    {
     "name": "stdout",
     "output_type": "stream",
     "text": [
      "Untitled.ipynb test.py\r\n"
     ]
    }
   ],
   "source": [
    "!ls"
   ]
  },
  {
   "cell_type": "code",
   "execution_count": 12,
   "metadata": {},
   "outputs": [
    {
     "name": "stdout",
     "output_type": "stream",
     "text": [
      "['code', 'precourse', '이력서', '아이디어', '수업내용']\n"
     ]
    }
   ],
   "source": [
    "print(filelist)"
   ]
  },
  {
   "cell_type": "code",
   "execution_count": 18,
   "metadata": {},
   "outputs": [],
   "source": [
    "A = []\n",
    "B = ()\n",
    "C = {}\n",
    "a = 0\n",
    "b = 'a'"
   ]
  },
  {
   "cell_type": "markdown",
   "metadata": {},
   "source": [
    "## jupyter notebook expression\n",
    "- '_' 문자를 사용하면 가장 마지막에 실행된 결과 데이터를 가져옵니다"
   ]
  },
  {
   "cell_type": "code",
   "execution_count": 24,
   "metadata": {},
   "outputs": [
    {
     "data": {
      "text/plain": [
       "5"
      ]
     },
     "execution_count": 24,
     "metadata": {},
     "output_type": "execute_result"
    }
   ],
   "source": [
    "1+2\n",
    "2+3"
   ]
  },
  {
   "cell_type": "code",
   "execution_count": 25,
   "metadata": {},
   "outputs": [
    {
     "data": {
      "text/plain": [
       "15"
      ]
     },
     "execution_count": 25,
     "metadata": {},
     "output_type": "execute_result"
    }
   ],
   "source": [
    "_+10"
   ]
  },
  {
   "cell_type": "code",
   "execution_count": null,
   "metadata": {},
   "outputs": [],
   "source": []
  }
 ],
 "metadata": {
  "kernelspec": {
   "display_name": "Python 3",
   "language": "python",
   "name": "python3"
  },
  "language_info": {
   "codemirror_mode": {
    "name": "ipython",
    "version": 3
   },
   "file_extension": ".py",
   "mimetype": "text/x-python",
   "name": "python",
   "nbconvert_exporter": "python",
   "pygments_lexer": "ipython3",
   "version": "3.8.5"
  }
 },
 "nbformat": 4,
 "nbformat_minor": 4
}
