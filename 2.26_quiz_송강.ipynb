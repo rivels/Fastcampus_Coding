{
 "cells": [
  {
   "cell_type": "markdown",
   "metadata": {},
   "source": [
    "# 재밌는 퀴즈! 😋"
   ]
  },
  {
   "cell_type": "markdown",
   "metadata": {},
   "source": [
    "# python 퀴즈 1 번"
   ]
  },
  {
   "cell_type": "markdown",
   "metadata": {},
   "source": [
    "- `list(range(10))  -->[0, 1, 2, 3, 4, 5, 6, 7, 8, 9]`\n",
    "- **pass 에 코드를 채워서**\n",
    "- 홀수 일 때는 홀수를 출력 짝수 일때는 짝수를 출력 해주세요!"
   ]
  },
  {
   "cell_type": "code",
   "execution_count": 4,
   "metadata": {},
   "outputs": [
    {
     "name": "stdout",
     "output_type": "stream",
     "text": [
      "0 는 짝수\n",
      "1 는 홀수\n",
      "2 는 짝수\n",
      "3 는 홀수\n",
      "4 는 짝수\n",
      "5 는 홀수\n",
      "6 는 짝수\n",
      "7 는 홀수\n",
      "8 는 짝수\n",
      "9 는 홀수\n"
     ]
    }
   ],
   "source": [
    "a = [0, 1, 2, 3, 4, 5, 6, 7, 8, 9]\n",
    "for i in a:\n",
    "    if i % 2:\n",
    "        print(i, '는 홀수')\n",
    "    else:\n",
    "        print(i,'는 짝수')\n"
   ]
  },
  {
   "cell_type": "markdown",
   "metadata": {},
   "source": [
    "# python 퀴즈 2번"
   ]
  },
  {
   "cell_type": "markdown",
   "metadata": {},
   "source": [
    "- remove_duplicates 라는 함수는 리스트에 중복된 값을 제거 후 반환 해주는 함수입니다\n",
    "- **pass 부분을 채워 주세요**"
   ]
  },
  {
   "cell_type": "code",
   "execution_count": 11,
   "metadata": {},
   "outputs": [
    {
     "data": {
      "text/plain": [
       "[1, 2, 3]"
      ]
     },
     "execution_count": 11,
     "metadata": {},
     "output_type": "execute_result"
    }
   ],
   "source": [
    "# 2번 \n",
    "def remove_duplicates(ls):\n",
    "    \n",
    "    LS = set(ls)\n",
    "    \n",
    "    return list(LS)\n",
    "\n",
    "remove_duplicates([1,2,3,3])"
   ]
  },
  {
   "cell_type": "markdown",
   "metadata": {},
   "source": [
    "# 퀴즈 3번"
   ]
  },
  {
   "cell_type": "markdown",
   "metadata": {},
   "source": [
    "# toy story magic 8-ball\n",
    "- magic 볼이라는게 어떤 질문을 하던 8가지의 정해진 점궤 중 하나를 출력 해주는 신비의 볼입니다\n",
    "- 어떤 질문이든 응답해주는 awsome 한 이 매직 볼의 코드를 만들어 주세요!"
   ]
  },
  {
   "cell_type": "markdown",
   "metadata": {},
   "source": [
    "**매직 볼의 8가지 점궤는 다음과 같습니다**\n",
    "- \"It is certain\",  \"Outlook good\", \"You may rely on it\", \"Ask again later\", \"Concentrate and ask again\", \n",
    "- \"Reply hazy, try again\", \"My reply is no\", \"My sources say no\""
   ]
  },
  {
   "cell_type": "code",
   "execution_count": 90,
   "metadata": {},
   "outputs": [],
   "source": [
    "# hint random.randint(1,8)"
   ]
  },
  {
   "cell_type": "code",
   "execution_count": 27,
   "metadata": {},
   "outputs": [
    {
     "name": "stdout",
     "output_type": "stream",
     "text": [
      "Ask the magic 8 ball a question: (press enter to quit) a\n",
      "You may rely on it\n",
      "Ask the magic 8 ball a question: (press enter to quit) a\n",
      "My reply is no\n",
      "Ask the magic 8 ball a question: (press enter to quit) a\n",
      "It is certain\n",
      "Ask the magic 8 ball a question: (press enter to quit) a\n",
      "Reply hazy, try again\n",
      "Ask the magic 8 ball a question: (press enter to quit) a\n",
      "Ask again later\n",
      "Ask the magic 8 ball a question: (press enter to quit) a\n",
      "Concentrate and ask again\n",
      "Ask the magic 8 ball a question: (press enter to quit) a\n",
      "My sources say no\n",
      "Ask the magic 8 ball a question: (press enter to quit) a\n",
      "My reply is no\n",
      "Ask the magic 8 ball a question: (press enter to quit) a\n",
      "My sources say no\n",
      "Ask the magic 8 ball a question: (press enter to quit) a\n",
      "Ask again later\n",
      "Ask the magic 8 ball a question: (press enter to quit) a\n",
      "Concentrate and ask again\n",
      "Ask the magic 8 ball a question: (press enter to quit) a\n",
      "Reply hazy, try again\n",
      "Ask the magic 8 ball a question: (press enter to quit) a\n",
      "You may rely on it\n",
      "Ask the magic 8 ball a question: (press enter to quit) a\n",
      "You may rely on it\n",
      "Ask the magic 8 ball a question: (press enter to quit) a\n",
      "My sources say no\n",
      "Ask the magic 8 ball a question: (press enter to quit) a\n",
      "It is certain\n",
      "Ask the magic 8 ball a question: (press enter to quit) a\n",
      "It is certain\n",
      "Ask the magic 8 ball a question: (press enter to quit) \n",
      "Ask again later\n"
     ]
    }
   ],
   "source": [
    "import sys\n",
    "import random\n",
    "\n",
    "question = True\n",
    "\n",
    "while question:\n",
    "    magic_ball = [\"It is certain\", \"Outlook good\", \"You may rely on it\", \"Ask again later\", \n",
    "                  \"Concentrate and ask again\",\"Reply hazy, try again\", \"My reply is no\", \"My sources say no\"]\n",
    "    \n",
    "    question = input(\"Ask the magic 8 ball a question: (press enter to quit) \")\n",
    "    \n",
    "    answers = random.randint(0,7)\n",
    "    print(magic_ball[answers])\n",
    "    \n",
    "    pass"
   ]
  }
 ],
 "metadata": {
  "kernelspec": {
   "display_name": "Python 3",
   "language": "python",
   "name": "python3"
  },
  "language_info": {
   "codemirror_mode": {
    "name": "ipython",
    "version": 3
   },
   "file_extension": ".py",
   "mimetype": "text/x-python",
   "name": "python",
   "nbconvert_exporter": "python",
   "pygments_lexer": "ipython3",
   "version": "3.8.5"
  }
 },
 "nbformat": 4,
 "nbformat_minor": 2
}
