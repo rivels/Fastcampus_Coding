{
 "cells": [
  {
   "cell_type": "markdown",
   "metadata": {},
   "source": [
    "# 연산자\n",
    "- 산술 : +, -, *, /, //, %, **\n",
    "- 할당 : 변수에 산술연산을 한 결과를 대입\n",
    "- 비교 : ==, !=, <, >, <=, >= : 결과가 True or False로 결괏값 나옴\n",
    "- 논리 : AND, OR, NOT\n",
    "- 멤버 : in, not in : collection 데이터에서 특정 값이 있는지 판단 : True or False로 결괏값 나옴\n",
    "- 식별 : is : 주소값을 비교할때 사용"
   ]
  },
  {
   "cell_type": "code",
   "execution_count": null,
   "metadata": {},
   "outputs": [],
   "source": [
    "# 부동소수점 연산\n",
    "# 컴퓨터가 연산할때 2진수로 연산하는데 10진수를 2진수로 변환해서 연산할때 발생하는 문제"
   ]
  },
  {
   "cell_type": "code",
   "execution_count": 10,
   "metadata": {},
   "outputs": [
    {
     "data": {
      "text/plain": [
       "False"
      ]
     },
     "execution_count": 10,
     "metadata": {},
     "output_type": "execute_result"
    }
   ],
   "source": [
    "data1, data2 = 0.1, 0.2\n",
    "data1 + data2 == 0.3"
   ]
  },
  {
   "cell_type": "code",
   "execution_count": null,
   "metadata": {},
   "outputs": [],
   "source": [
    "# 해결방법 1 : 반올림\n",
    "# 해결방법 2 : 고정소수점방식으로 연산을 한다"
   ]
  },
  {
   "cell_type": "code",
   "execution_count": 11,
   "metadata": {},
   "outputs": [
    {
     "data": {
      "text/plain": [
       "True"
      ]
     },
     "execution_count": 11,
     "metadata": {},
     "output_type": "execute_result"
    }
   ],
   "source": [
    "round(data1 + data2,1) == 0.3"
   ]
  },
  {
   "cell_type": "code",
   "execution_count": 13,
   "metadata": {},
   "outputs": [
    {
     "data": {
      "text/plain": [
       "0.3"
      ]
     },
     "execution_count": 13,
     "metadata": {},
     "output_type": "execute_result"
    }
   ],
   "source": [
    "from decimal import Decimal\n",
    "\n",
    "float(Decimal('0.1') + Decimal('0.2'))"
   ]
  },
  {
   "cell_type": "markdown",
   "metadata": {},
   "source": [
    "# 할당연산자\n",
    "- <변수> <산술연산자> = <값>\n",
    "- 변수에 값을 산술연산해서 누적시킴"
   ]
  },
  {
   "cell_type": "code",
   "execution_count": 39,
   "metadata": {},
   "outputs": [],
   "source": [
    "# 윤년 판별하기\n",
    "# 4년에 한번씩 윤년\n",
    "# 100년에 한번씩 윤년이 아님\n",
    "# 400년에 한번씩은 윤년임\n",
    "\n",
    "def YY(x):\n",
    "    if x%400 == 0:\n",
    "        return('윤년')\n",
    "    elif x%100 == 0:\n",
    "        return('윤년아님')\n",
    "    elif x%4 == 0:\n",
    "        return('윤년')\n",
    "    else:\n",
    "        return('윤년아님')\n",
    "\n",
    "def yy(x):\n",
    "    if (x % 4 ==0) and (x%100 != 0) or (x % 400 == 0):\n",
    "        print('윤년')\n",
    "    else:\n",
    "        print('윤년아님')\n",
    "    "
   ]
  },
  {
   "cell_type": "code",
   "execution_count": 43,
   "metadata": {},
   "outputs": [
    {
     "data": {
      "text/plain": [
       "'윤년아님'"
      ]
     },
     "execution_count": 43,
     "metadata": {},
     "output_type": "execute_result"
    }
   ],
   "source": [
    "YY(2900)"
   ]
  },
  {
   "cell_type": "code",
   "execution_count": 45,
   "metadata": {},
   "outputs": [
    {
     "name": "stdout",
     "output_type": "stream",
     "text": [
      "윤년아님\n"
     ]
    }
   ],
   "source": [
    "yy(2900)"
   ]
  },
  {
   "cell_type": "markdown",
   "metadata": {},
   "source": [
    "### 식별연산자\n",
    "- is, is not\n",
    "- 주소값을 비교할때 사용"
   ]
  },
  {
   "cell_type": "code",
   "execution_count": 50,
   "metadata": {},
   "outputs": [
    {
     "name": "stdout",
     "output_type": "stream",
     "text": [
      "4\n"
     ]
    }
   ],
   "source": [
    "import random as rd\n",
    "idx = rd.randint(1,5)\n",
    "print(idx)"
   ]
  },
  {
   "cell_type": "code",
   "execution_count": null,
   "metadata": {},
   "outputs": [],
   "source": []
  }
 ],
 "metadata": {
  "kernelspec": {
   "display_name": "Python 3",
   "language": "python",
   "name": "python3"
  },
  "language_info": {
   "codemirror_mode": {
    "name": "ipython",
    "version": 3
   },
   "file_extension": ".py",
   "mimetype": "text/x-python",
   "name": "python",
   "nbconvert_exporter": "python",
   "pygments_lexer": "ipython3",
   "version": "3.8.5"
  }
 },
 "nbformat": 4,
 "nbformat_minor": 4
}
