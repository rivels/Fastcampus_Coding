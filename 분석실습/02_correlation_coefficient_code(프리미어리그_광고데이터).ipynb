{
 "cells": [
  {
   "cell_type": "markdown",
   "metadata": {
    "slideshow": {
     "slide_type": "slide"
    }
   },
   "source": [
    "### 상관계수 ( Correlation Coefficient )\n",
    "- numpy를 이용하여 데이터의 상관계수를 구합니다.\n",
    "- python 코드와 numpy의 함수의 속도차이를 비교합니다."
   ]
  },
  {
   "cell_type": "markdown",
   "metadata": {
    "slideshow": {
     "slide_type": "slide"
    }
   },
   "source": [
    "#### Index\n",
    "\n",
    "1. 분산\n",
    "1. 공분산\n",
    "1. 상관계수\n",
    "1. 결정계수\n",
    "1. 프리미어리그 데이터 상관계수 분석"
   ]
  },
  {
   "cell_type": "code",
   "execution_count": 1,
   "metadata": {},
   "outputs": [],
   "source": [
    "import numpy as np"
   ]
  },
  {
   "cell_type": "markdown",
   "metadata": {
    "slideshow": {
     "slide_type": "slide"
    }
   },
   "source": [
    "샘플 데이터 생성"
   ]
  },
  {
   "cell_type": "code",
   "execution_count": 2,
   "metadata": {},
   "outputs": [],
   "source": [
    "data1 = np.array([80, 85, 100, 90, 95])\n",
    "data2 = np.array([70, 80, 100, 95, 95])"
   ]
  },
  {
   "cell_type": "markdown",
   "metadata": {
    "slideshow": {
     "slide_type": "slide"
    }
   },
   "source": [
    "#### 1. 분산(variance)\n",
    "- 1개의 이산정도를 나타냄\n",
    "- 편차제곱의 평균 : 요소들의 편차의 제곱들을 모두 더해서 총 갯수로 나누어주면 됨."
   ]
  },
  {
   "cell_type": "markdown",
   "metadata": {},
   "source": [
    "$ variance = \\frac{\\sum_{i=1}^n{(x_i-\\bar{x})^2}}{n}, (\\bar{x}:평균) $"
   ]
  },
  {
   "cell_type": "code",
   "execution_count": 3,
   "metadata": {},
   "outputs": [],
   "source": [
    "# variance code\n",
    "avg = np.average(data1)\n",
    "c = 0\n",
    "def variance(data):\n",
    "    for i in data1:\n",
    "        (i - avg)**2"
   ]
  },
  {
   "cell_type": "code",
   "execution_count": 6,
   "metadata": {},
   "outputs": [],
   "source": [
    "def variance(datas):\n",
    "    var = 0\n",
    "    x_ = np.average(datas)\n",
    "    for data in datas:\n",
    "        var += (data - x_) **2\n",
    "    return var/len(datas)"
   ]
  },
  {
   "cell_type": "code",
   "execution_count": 9,
   "metadata": {},
   "outputs": [
    {
     "data": {
      "text/plain": [
       "(50.0, 126.0)"
      ]
     },
     "execution_count": 9,
     "metadata": {},
     "output_type": "execute_result"
    }
   ],
   "source": [
    "variance(data1),variance(data2)"
   ]
  },
  {
   "cell_type": "code",
   "execution_count": 7,
   "metadata": {},
   "outputs": [
    {
     "data": {
      "text/plain": [
       "2.0"
      ]
     },
     "execution_count": 7,
     "metadata": {},
     "output_type": "execute_result"
    }
   ],
   "source": [
    "4**0.5"
   ]
  },
  {
   "cell_type": "code",
   "execution_count": 5,
   "metadata": {},
   "outputs": [
    {
     "data": {
      "text/plain": [
       "(7.0710678118654755, 11.224972160321824)"
      ]
     },
     "execution_count": 5,
     "metadata": {},
     "output_type": "execute_result"
    }
   ],
   "source": [
    "variance(data1)**0.5,variance(data2)**0.5\n",
    "#0.5 제곱을 해주면 루트씌워준것과 같음. 위의 결과 수치는 표준편차\n",
    "#분산 = 편차의 제곱을 모두 더해서 총 갯수로 나눠주고\n",
    "#표준편차 = 분산에 루트를 씌워주면 됨\n",
    "'''\n",
    "평균\n",
    "분산 = \n",
    "표준편차 =\n",
    "\n",
    "'''"
   ]
  },
  {
   "cell_type": "code",
   "execution_count": 20,
   "metadata": {
    "scrolled": true
   },
   "outputs": [
    {
     "data": {
      "text/plain": [
       "(50.0, 126.0, 7.0710678118654755, 11.224972160321824)"
      ]
     },
     "execution_count": 20,
     "metadata": {},
     "output_type": "execute_result"
    }
   ],
   "source": [
    "np.var(data1),np.var(data2),np.std(data1),np.std(data2),\n",
    "\n",
    "'''\n",
    "np.var로 분산을 바로 구할 수 있고\n",
    "np.std로 표준편차를 바로 구할 수 있다.\n",
    "\n",
    "'''"
   ]
  },
  {
   "cell_type": "code",
   "execution_count": 10,
   "metadata": {},
   "outputs": [],
   "source": [
    "p_data1 = np.random.randint(60,100,int(1E5))   # 1E5 : 10의 5승\n",
    "p_data2 = np.random.randint(60,100,int(1E5))   # 1E5 : 10의 5승"
   ]
  },
  {
   "cell_type": "code",
   "execution_count": 24,
   "metadata": {},
   "outputs": [
    {
     "name": "stdout",
     "output_type": "stream",
     "text": [
      "CPU times: user 558 ms, sys: 4 ms, total: 562 ms\n",
      "Wall time: 562 ms\n"
     ]
    },
    {
     "data": {
      "text/plain": [
       "(133.4082933319165, 133.45788041439823)"
      ]
     },
     "execution_count": 24,
     "metadata": {},
     "output_type": "execute_result"
    }
   ],
   "source": [
    "%%time\n",
    "variance(p_data1),variance(p_data2)"
   ]
  },
  {
   "cell_type": "code",
   "execution_count": 25,
   "metadata": {},
   "outputs": [
    {
     "name": "stdout",
     "output_type": "stream",
     "text": [
      "CPU times: user 1.47 ms, sys: 984 µs, total: 2.45 ms\n",
      "Wall time: 1.23 ms\n"
     ]
    },
    {
     "data": {
      "text/plain": [
       "(133.40829333189998, 133.4578804144)"
      ]
     },
     "execution_count": 25,
     "metadata": {},
     "output_type": "execute_result"
    }
   ],
   "source": [
    "%%time\n",
    "np.var(p_data1),np.var(p_data2)"
   ]
  },
  {
   "cell_type": "code",
   "execution_count": null,
   "metadata": {},
   "outputs": [],
   "source": []
  },
  {
   "cell_type": "markdown",
   "metadata": {
    "slideshow": {
     "slide_type": "slide"
    }
   },
   "source": [
    "일반 함수와 numpy 함수의 퍼포먼스 비교"
   ]
  },
  {
   "cell_type": "markdown",
   "metadata": {
    "slideshow": {
     "slide_type": "slide"
    }
   },
   "source": [
    "#### 2. 공분산(covariance)\n",
    "- 2개의 확률변수의 상관정도를 나타냄\n",
    "- 평균 편차곱\n",
    "- 방향성은 보여줄수 있으나 강도를 나타내는데 한계가 있다 (강도 : 어느정도로 닮고 다른지)\n",
    "    - 표본데이터의 크기에 따라서 값의 차이가 큰 단점이 있다"
   ]
  },
  {
   "cell_type": "markdown",
   "metadata": {},
   "source": [
    "$ covariance = \\frac{\\sum_{i=1}^{n}{(x_i-\\bar{x})(y_i-\\bar{y})}}{n-1}, (\\bar{x}:x의 평균, \\bar{y}:y의 평균) $"
   ]
  },
  {
   "cell_type": "code",
   "execution_count": 11,
   "metadata": {
    "slideshow": {
     "slide_type": "slide"
    }
   },
   "outputs": [],
   "source": [
    "# covariance function"
   ]
  },
  {
   "cell_type": "code",
   "execution_count": 11,
   "metadata": {},
   "outputs": [],
   "source": [
    "data1 = np.array([80, 85, 100, 90, 95])\n",
    "data2 = np.array([70, 80, 100, 95, 95])\n",
    "data3 = np.array([100, 90, 70, 90, 80])"
   ]
  },
  {
   "cell_type": "code",
   "execution_count": 12,
   "metadata": {},
   "outputs": [
    {
     "data": {
      "text/plain": [
       "array([[ 62.5 ,  93.75],\n",
       "       [ 93.75, 157.5 ]])"
      ]
     },
     "execution_count": 12,
     "metadata": {},
     "output_type": "execute_result"
    }
   ],
   "source": [
    "np.cov(data1,data2)"
   ]
  },
  {
   "cell_type": "code",
   "execution_count": 34,
   "metadata": {
    "scrolled": true
   },
   "outputs": [
    {
     "data": {
      "text/plain": [
       "(93.75, -87.5)"
      ]
     },
     "execution_count": 34,
     "metadata": {},
     "output_type": "execute_result"
    }
   ],
   "source": [
    "np.cov(data1,data2)[0,1],np.cov(data1,data3)[0,1]"
   ]
  },
  {
   "cell_type": "code",
   "execution_count": 35,
   "metadata": {},
   "outputs": [
    {
     "data": {
      "text/plain": [
       "(array([ 800,  850, 1000,  900,  950]), array([1000,  900,  700,  900,  800]))"
      ]
     },
     "execution_count": 35,
     "metadata": {},
     "output_type": "execute_result"
    }
   ],
   "source": [
    "data4 = data1 *10\n",
    "data5 = data3 *10\n",
    "data4, data5"
   ]
  },
  {
   "cell_type": "code",
   "execution_count": 37,
   "metadata": {},
   "outputs": [
    {
     "data": {
      "text/plain": [
       "-8750.0"
      ]
     },
     "execution_count": 37,
     "metadata": {},
     "output_type": "execute_result"
    }
   ],
   "source": [
    "np.cov(data4,data5)[0,1]"
   ]
  },
  {
   "cell_type": "markdown",
   "metadata": {
    "slideshow": {
     "slide_type": "slide"
    }
   },
   "source": [
    "#### 3. 상관계수(correlation coefficient)\n",
    "- 공분산의 한계를 극복하기 위해서 만들어짐\n",
    "- -1 ~ 1까지의 수를 가지며 0과 가까울수록 상관도가 적음을 의미\n",
    "- x의 분산과 y의 분산을 곱한 결과의 제곱근을 나눠주면 x나 y의 변화량이 클수록 0에 가까워짐\n",
    "- https://docs.scipy.org/doc/numpy-1.13.0/reference/generated/numpy.corrcoef.html"
   ]
  },
  {
   "cell_type": "markdown",
   "metadata": {},
   "source": [
    "$ correlation-coefficient = \\frac{공분산}{\\sqrt{{x분산} \\cdot {y분산}}} $"
   ]
  },
  {
   "cell_type": "markdown",
   "metadata": {},
   "source": [
    "최종 상관계수"
   ]
  },
  {
   "cell_type": "markdown",
   "metadata": {},
   "source": [
    "$ r = \\frac{\\sum(x-\\bar{x})(y-\\bar{y})}{\\sqrt{{\\sum(x-\\bar{x})^2}\\cdot{\\sum(y-\\bar{y})^2}}} $"
   ]
  },
  {
   "cell_type": "code",
   "execution_count": 39,
   "metadata": {},
   "outputs": [
    {
     "data": {
      "text/plain": [
       "(-0.970725343394151, -0.970725343394151)"
      ]
     },
     "execution_count": 39,
     "metadata": {},
     "output_type": "execute_result"
    }
   ],
   "source": [
    "np.corrcoef(data1,data3)[0,1],np.corrcoef(data4,data5)[0,1]"
   ]
  },
  {
   "cell_type": "code",
   "execution_count": 40,
   "metadata": {},
   "outputs": [
    {
     "data": {
      "text/plain": [
       "128"
      ]
     },
     "execution_count": 40,
     "metadata": {},
     "output_type": "execute_result"
    }
   ],
   "source": [
    "2**7\n",
    "1 2 3 4 5 6 7\n"
   ]
  },
  {
   "cell_type": "markdown",
   "metadata": {
    "slideshow": {
     "slide_type": "slide"
    }
   },
   "source": [
    "#### 4. 결정계수(cofficient of determination: R-squared) : 상관계수를 제곱 for -를 제거하기 위해\n",
    "- x로부터 y를 예측할수 있는 정도\n",
    "- 상관계수의 제곱 (상관계수를 양수화)\n",
    "- 수치가 클수록 회기분석을 통해 예측할수 있는 수치의 정도가 더 정확\n",
    "- 회귀분석에서 자주 사용됨"
   ]
  },
  {
   "cell_type": "code",
   "execution_count": 43,
   "metadata": {},
   "outputs": [
    {
     "data": {
      "text/plain": [
       "(0.892857142857143, 0.9423076923076923)"
      ]
     },
     "execution_count": 43,
     "metadata": {},
     "output_type": "execute_result"
    }
   ],
   "source": [
    "np.corrcoef(data1,data2)[0,1]**2,np.corrcoef(data1,data3)[0,1]**2"
   ]
  },
  {
   "cell_type": "markdown",
   "metadata": {
    "slideshow": {
     "slide_type": "slide"
    }
   },
   "source": [
    "#### 5. 프리미어리그 데이터 상관계수 분석\n",
    "- 2016년 프리미어리그 성적에서 득점과 실점 데이터중에 승점에 영향을 더 많이 준 데이터는?"
   ]
  },
  {
   "cell_type": "code",
   "execution_count": 5,
   "metadata": {},
   "outputs": [],
   "source": [
    "import pickle"
   ]
  },
  {
   "cell_type": "code",
   "execution_count": 6,
   "metadata": {},
   "outputs": [
    {
     "name": "stdout",
     "output_type": "stream",
     "text": [
      "\u001b[34marticles\u001b[m\u001b[m/\r\n"
     ]
    }
   ],
   "source": [
    "%ls datas"
   ]
  },
  {
   "cell_type": "code",
   "execution_count": 7,
   "metadata": {},
   "outputs": [],
   "source": [
    "with open('datas2/premierleague.pkl',\"rb\") as file:\n",
    "    datas = pickle.load(file)"
   ]
  },
  {
   "cell_type": "code",
   "execution_count": 8,
   "metadata": {},
   "outputs": [],
   "source": [
    "datas\n",
    "gf = datas[:,1].astype(np.int)"
   ]
  },
  {
   "cell_type": "code",
   "execution_count": 9,
   "metadata": {},
   "outputs": [
    {
     "data": {
      "text/plain": [
       "array([['Manchester City', 106, 27, 100],\n",
       "       ['Manchester United', 68, 28, 81],\n",
       "       ['Tottenham Hotspur', 74, 36, 77],\n",
       "       ['Liverpool', 84, 38, 75],\n",
       "       ['Chelsea', 62, 38, 70],\n",
       "       ['Arsenal', 74, 51, 63],\n",
       "       ['Burnley', 36, 39, 54],\n",
       "       ['Everton', 44, 58, 49],\n",
       "       ['Leicester City', 56, 60, 47],\n",
       "       ['Newcastle United', 39, 47, 44],\n",
       "       ['Crystal Palace', 45, 55, 44],\n",
       "       ['Bournemouth', 45, 61, 44],\n",
       "       ['West Ham United', 48, 68, 42],\n",
       "       ['Watford', 44, 64, 41],\n",
       "       ['Brighton and Hove Albion', 34, 54, 40],\n",
       "       ['Huddersfield Town', 28, 58, 37],\n",
       "       ['Southampton', 37, 56, 36],\n",
       "       ['Swansea City', 28, 56, 33],\n",
       "       ['Stoke City', 35, 68, 33],\n",
       "       ['West Bromwich Albion', 31, 56, 31]], dtype=object)"
      ]
     },
     "execution_count": 9,
     "metadata": {},
     "output_type": "execute_result"
    }
   ],
   "source": [
    "datas"
   ]
  },
  {
   "cell_type": "code",
   "execution_count": 10,
   "metadata": {},
   "outputs": [],
   "source": [
    "ga = datas[:,2].astype(np.int)"
   ]
  },
  {
   "cell_type": "code",
   "execution_count": 11,
   "metadata": {},
   "outputs": [],
   "source": [
    "point = datas[:,3].astype(np.int)"
   ]
  },
  {
   "cell_type": "code",
   "execution_count": 13,
   "metadata": {},
   "outputs": [
    {
     "data": {
      "text/plain": [
       "(0.8683266496886471, 0.757933920368845)"
      ]
     },
     "execution_count": 13,
     "metadata": {},
     "output_type": "execute_result"
    }
   ],
   "source": [
    "np.corrcoef(gf,point)[0,1]**2,np.corrcoef(ga,point)[0,1]**2"
   ]
  },
  {
   "cell_type": "code",
   "execution_count": 2,
   "metadata": {},
   "outputs": [],
   "source": [
    "from sklearn.linear_model import LinearRegression"
   ]
  },
  {
   "cell_type": "code",
   "execution_count": 12,
   "metadata": {},
   "outputs": [
    {
     "data": {
      "text/plain": [
       "(array([106,  68,  74,  84,  62,  74,  36,  44,  56,  39,  45,  45,  48,\n",
       "         44,  34,  28,  37,  28,  35,  31]),\n",
       " array([27, 28, 36, 38, 38, 51, 39, 58, 60, 47, 55, 61, 68, 64, 54, 58, 56,\n",
       "        56, 68, 56]),\n",
       " array([100,  81,  77,  75,  70,  63,  54,  49,  47,  44,  44,  44,  42,\n",
       "         41,  40,  37,  36,  33,  33,  31]))"
      ]
     },
     "execution_count": 12,
     "metadata": {},
     "output_type": "execute_result"
    }
   ],
   "source": [
    "gf,ga,point"
   ]
  },
  {
   "cell_type": "code",
   "execution_count": 15,
   "metadata": {},
   "outputs": [],
   "source": [
    "#모델학습"
   ]
  },
  {
   "cell_type": "code",
   "execution_count": 18,
   "metadata": {},
   "outputs": [],
   "source": [
    "#득점 데이터 모델\n",
    "model_1 = LinearRegression().fit(gf.reshape(-1, 1), point)\n",
    "#실점 데이터 모델]\n",
    "model_1 = LinearRegression().fit(ga.reshape(-1, 1), point)"
   ]
  },
  {
   "cell_type": "code",
   "execution_count": 19,
   "metadata": {},
   "outputs": [
    {
     "data": {
      "text/plain": [
       "array([-21.70580269,  29.16026813,  21.12878326,   7.74297515,\n",
       "        37.191753  ,  21.12878326,  71.99485409,  61.2862076 ,\n",
       "        45.22323786,  67.97911165,  59.94762679,  59.94762679,\n",
       "        55.93188435,  61.2862076 ,  74.67201571,  82.70350058,\n",
       "        70.65627328,  82.70350058,  73.3334349 ,  78.68775814])"
      ]
     },
     "execution_count": 19,
     "metadata": {},
     "output_type": "execute_result"
    }
   ],
   "source": [
    "model_1.predict(gf.reshape(-1, 1))"
   ]
  },
  {
   "cell_type": "code",
   "execution_count": 20,
   "metadata": {},
   "outputs": [],
   "source": [
    "%matplotlib inline\n",
    "%config InlineBackend.figure_formats = {\"png\",\"retina\"}"
   ]
  },
  {
   "cell_type": "code",
   "execution_count": 21,
   "metadata": {},
   "outputs": [],
   "source": [
    "import matplotlib as mpl\n",
    "import matplotlib.pyplot as plt"
   ]
  },
  {
   "cell_type": "markdown",
   "metadata": {},
   "source": [
    "# 광고데이터의 광고효과 확인 및 예측\n",
    "- tv, radio, newspaper, sales(target)\n",
    "- 각 매체별 상관계수를 구하기\n",
    "- 각 매체별 회귀분석 모델 만들기 및 평가"
   ]
  },
  {
   "cell_type": "code",
   "execution_count": 13,
   "metadata": {},
   "outputs": [],
   "source": [
    "import pickle\n"
   ]
  },
  {
   "cell_type": "code",
   "execution_count": 16,
   "metadata": {},
   "outputs": [
    {
     "ename": "FileNotFoundError",
     "evalue": "[Errno 2] No such file or directory: 'data/advertising.plk'",
     "output_type": "error",
     "traceback": [
      "\u001b[0;31m---------------------------------------------------------------------------\u001b[0m",
      "\u001b[0;31mFileNotFoundError\u001b[0m                         Traceback (most recent call last)",
      "\u001b[0;32m<ipython-input-16-90a8aa880d13>\u001b[0m in \u001b[0;36m<module>\u001b[0;34m\u001b[0m\n\u001b[0;32m----> 1\u001b[0;31m \u001b[0;32mwith\u001b[0m \u001b[0mopen\u001b[0m\u001b[0;34m(\u001b[0m\u001b[0;34m\"data/advertising.plk\"\u001b[0m\u001b[0;34m,\u001b[0m \u001b[0;34m\"rb\"\u001b[0m\u001b[0;34m)\u001b[0m \u001b[0;32mas\u001b[0m \u001b[0mfile\u001b[0m\u001b[0;34m:\u001b[0m\u001b[0;34m\u001b[0m\u001b[0;34m\u001b[0m\u001b[0m\n\u001b[0m\u001b[1;32m      2\u001b[0m     \u001b[0mdatas\u001b[0m \u001b[0;34m=\u001b[0m \u001b[0mpickle\u001b[0m\u001b[0;34m.\u001b[0m\u001b[0mload\u001b[0m\u001b[0;34m(\u001b[0m\u001b[0mfile\u001b[0m\u001b[0;34m)\u001b[0m\u001b[0;34m\u001b[0m\u001b[0;34m\u001b[0m\u001b[0m\n",
      "\u001b[0;31mFileNotFoundError\u001b[0m: [Errno 2] No such file or directory: 'data/advertising.plk'"
     ]
    }
   ],
   "source": [
    "with open(\"datas/advertising.plk\", \"rb\") as file:\n",
    "    datas = pickle.load(file)"
   ]
  },
  {
   "cell_type": "code",
   "execution_count": 37,
   "metadata": {
    "collapsed": true
   },
   "outputs": [
    {
     "data": {
      "text/plain": [
       "array([[230.1,  37.8,  69.2,  22.1],\n",
       "       [ 44.5,  39.3,  45.1,  10.4],\n",
       "       [ 17.2,  45.9,  69.3,   9.3],\n",
       "       [151.5,  41.3,  58.5,  18.5],\n",
       "       [180.8,  10.8,  58.4,  12.9],\n",
       "       [  8.7,  48.9,  75. ,   7.2],\n",
       "       [ 57.5,  32.8,  23.5,  11.8],\n",
       "       [120.2,  19.6,  11.6,  13.2],\n",
       "       [  8.6,   2.1,   1. ,   4.8],\n",
       "       [199.8,   2.6,  21.2,  10.6],\n",
       "       [ 66.1,   5.8,  24.2,   8.6],\n",
       "       [214.7,  24. ,   4. ,  17.4],\n",
       "       [ 23.8,  35.1,  65.9,   9.2],\n",
       "       [ 97.5,   7.6,   7.2,   9.7],\n",
       "       [204.1,  32.9,  46. ,  19. ],\n",
       "       [195.4,  47.7,  52.9,  22.4],\n",
       "       [ 67.8,  36.6, 114. ,  12.5],\n",
       "       [281.4,  39.6,  55.8,  24.4],\n",
       "       [ 69.2,  20.5,  18.3,  11.3],\n",
       "       [147.3,  23.9,  19.1,  14.6],\n",
       "       [218.4,  27.7,  53.4,  18. ],\n",
       "       [237.4,   5.1,  23.5,  12.5],\n",
       "       [ 13.2,  15.9,  49.6,   5.6],\n",
       "       [228.3,  16.9,  26.2,  15.5],\n",
       "       [ 62.3,  12.6,  18.3,   9.7],\n",
       "       [262.9,   3.5,  19.5,  12. ],\n",
       "       [142.9,  29.3,  12.6,  15. ],\n",
       "       [240.1,  16.7,  22.9,  15.9],\n",
       "       [248.8,  27.1,  22.9,  18.9],\n",
       "       [ 70.6,  16. ,  40.8,  10.5],\n",
       "       [292.9,  28.3,  43.2,  21.4],\n",
       "       [112.9,  17.4,  38.6,  11.9],\n",
       "       [ 97.2,   1.5,  30. ,   9.6],\n",
       "       [265.6,  20. ,   0.3,  17.4],\n",
       "       [ 95.7,   1.4,   7.4,   9.5],\n",
       "       [290.7,   4.1,   8.5,  12.8],\n",
       "       [266.9,  43.8,   5. ,  25.4],\n",
       "       [ 74.7,  49.4,  45.7,  14.7],\n",
       "       [ 43.1,  26.7,  35.1,  10.1],\n",
       "       [228. ,  37.7,  32. ,  21.5],\n",
       "       [202.5,  22.3,  31.6,  16.6],\n",
       "       [177. ,  33.4,  38.7,  17.1],\n",
       "       [293.6,  27.7,   1.8,  20.7],\n",
       "       [206.9,   8.4,  26.4,  12.9],\n",
       "       [ 25.1,  25.7,  43.3,   8.5],\n",
       "       [175.1,  22.5,  31.5,  14.9],\n",
       "       [ 89.7,   9.9,  35.7,  10.6],\n",
       "       [239.9,  41.5,  18.5,  23.2],\n",
       "       [227.2,  15.8,  49.9,  14.8],\n",
       "       [ 66.9,  11.7,  36.8,   9.7],\n",
       "       [199.8,   3.1,  34.6,  11.4],\n",
       "       [100.4,   9.6,   3.6,  10.7],\n",
       "       [216.4,  41.7,  39.6,  22.6],\n",
       "       [182.6,  46.2,  58.7,  21.2],\n",
       "       [262.7,  28.8,  15.9,  20.2],\n",
       "       [198.9,  49.4,  60. ,  23.7],\n",
       "       [  7.3,  28.1,  41.4,   5.5],\n",
       "       [136.2,  19.2,  16.6,  13.2],\n",
       "       [210.8,  49.6,  37.7,  23.8],\n",
       "       [210.7,  29.5,   9.3,  18.4],\n",
       "       [ 53.5,   2. ,  21.4,   8.1],\n",
       "       [261.3,  42.7,  54.7,  24.2],\n",
       "       [239.3,  15.5,  27.3,  15.7],\n",
       "       [102.7,  29.6,   8.4,  14. ],\n",
       "       [131.1,  42.8,  28.9,  18. ],\n",
       "       [ 69. ,   9.3,   0.9,   9.3],\n",
       "       [ 31.5,  24.6,   2.2,   9.5],\n",
       "       [139.3,  14.5,  10.2,  13.4],\n",
       "       [237.4,  27.5,  11. ,  18.9],\n",
       "       [216.8,  43.9,  27.2,  22.3],\n",
       "       [199.1,  30.6,  38.7,  18.3],\n",
       "       [109.8,  14.3,  31.7,  12.4],\n",
       "       [ 26.8,  33. ,  19.3,   8.8],\n",
       "       [129.4,   5.7,  31.3,  11. ],\n",
       "       [213.4,  24.6,  13.1,  17. ],\n",
       "       [ 16.9,  43.7,  89.4,   8.7],\n",
       "       [ 27.5,   1.6,  20.7,   6.9],\n",
       "       [120.5,  28.5,  14.2,  14.2],\n",
       "       [  5.4,  29.9,   9.4,   5.3],\n",
       "       [116. ,   7.7,  23.1,  11. ],\n",
       "       [ 76.4,  26.7,  22.3,  11.8],\n",
       "       [239.8,   4.1,  36.9,  12.3],\n",
       "       [ 75.3,  20.3,  32.5,  11.3],\n",
       "       [ 68.4,  44.5,  35.6,  13.6],\n",
       "       [213.5,  43. ,  33.8,  21.7],\n",
       "       [193.2,  18.4,  65.7,  15.2],\n",
       "       [ 76.3,  27.5,  16. ,  12. ],\n",
       "       [110.7,  40.6,  63.2,  16. ],\n",
       "       [ 88.3,  25.5,  73.4,  12.9],\n",
       "       [109.8,  47.8,  51.4,  16.7],\n",
       "       [134.3,   4.9,   9.3,  11.2],\n",
       "       [ 28.6,   1.5,  33. ,   7.3],\n",
       "       [217.7,  33.5,  59. ,  19.4],\n",
       "       [250.9,  36.5,  72.3,  22.2],\n",
       "       [107.4,  14. ,  10.9,  11.5],\n",
       "       [163.3,  31.6,  52.9,  16.9],\n",
       "       [197.6,   3.5,   5.9,  11.7],\n",
       "       [184.9,  21. ,  22. ,  15.5],\n",
       "       [289.7,  42.3,  51.2,  25.4],\n",
       "       [135.2,  41.7,  45.9,  17.2],\n",
       "       [222.4,   4.3,  49.8,  11.7],\n",
       "       [296.4,  36.3, 100.9,  23.8],\n",
       "       [280.2,  10.1,  21.4,  14.8],\n",
       "       [187.9,  17.2,  17.9,  14.7],\n",
       "       [238.2,  34.3,   5.3,  20.7],\n",
       "       [137.9,  46.4,  59. ,  19.2],\n",
       "       [ 25. ,  11. ,  29.7,   7.2],\n",
       "       [ 90.4,   0.3,  23.2,   8.7],\n",
       "       [ 13.1,   0.4,  25.6,   5.3],\n",
       "       [255.4,  26.9,   5.5,  19.8],\n",
       "       [225.8,   8.2,  56.5,  13.4],\n",
       "       [241.7,  38. ,  23.2,  21.8],\n",
       "       [175.7,  15.4,   2.4,  14.1],\n",
       "       [209.6,  20.6,  10.7,  15.9],\n",
       "       [ 78.2,  46.8,  34.5,  14.6],\n",
       "       [ 75.1,  35. ,  52.7,  12.6],\n",
       "       [139.2,  14.3,  25.6,  12.2],\n",
       "       [ 76.4,   0.8,  14.8,   9.4],\n",
       "       [125.7,  36.9,  79.2,  15.9],\n",
       "       [ 19.4,  16. ,  22.3,   6.6],\n",
       "       [141.3,  26.8,  46.2,  15.5],\n",
       "       [ 18.8,  21.7,  50.4,   7. ],\n",
       "       [224. ,   2.4,  15.6,  11.6],\n",
       "       [123.1,  34.6,  12.4,  15.2],\n",
       "       [229.5,  32.3,  74.2,  19.7],\n",
       "       [ 87.2,  11.8,  25.9,  10.6],\n",
       "       [  7.8,  38.9,  50.6,   6.6],\n",
       "       [ 80.2,   0. ,   9.2,   8.8],\n",
       "       [220.3,  49. ,   3.2,  24.7],\n",
       "       [ 59.6,  12. ,  43.1,   9.7],\n",
       "       [  0.7,  39.6,   8.7,   1.6],\n",
       "       [265.2,   2.9,  43. ,  12.7],\n",
       "       [  8.4,  27.2,   2.1,   5.7],\n",
       "       [219.8,  33.5,  45.1,  19.6],\n",
       "       [ 36.9,  38.6,  65.6,  10.8],\n",
       "       [ 48.3,  47. ,   8.5,  11.6],\n",
       "       [ 25.6,  39. ,   9.3,   9.5],\n",
       "       [273.7,  28.9,  59.7,  20.8],\n",
       "       [ 43. ,  25.9,  20.5,   9.6],\n",
       "       [184.9,  43.9,   1.7,  20.7],\n",
       "       [ 73.4,  17. ,  12.9,  10.9],\n",
       "       [193.7,  35.4,  75.6,  19.2],\n",
       "       [220.5,  33.2,  37.9,  20.1],\n",
       "       [104.6,   5.7,  34.4,  10.4],\n",
       "       [ 96.2,  14.8,  38.9,  11.4],\n",
       "       [140.3,   1.9,   9. ,  10.3],\n",
       "       [240.1,   7.3,   8.7,  13.2],\n",
       "       [243.2,  49. ,  44.3,  25.4],\n",
       "       [ 38. ,  40.3,  11.9,  10.9],\n",
       "       [ 44.7,  25.8,  20.6,  10.1],\n",
       "       [280.7,  13.9,  37. ,  16.1],\n",
       "       [121. ,   8.4,  48.7,  11.6],\n",
       "       [197.6,  23.3,  14.2,  16.6],\n",
       "       [171.3,  39.7,  37.7,  19. ],\n",
       "       [187.8,  21.1,   9.5,  15.6],\n",
       "       [  4.1,  11.6,   5.7,   3.2],\n",
       "       [ 93.9,  43.5,  50.5,  15.3],\n",
       "       [149.8,   1.3,  24.3,  10.1],\n",
       "       [ 11.7,  36.9,  45.2,   7.3],\n",
       "       [131.7,  18.4,  34.6,  12.9],\n",
       "       [172.5,  18.1,  30.7,  14.4],\n",
       "       [ 85.7,  35.8,  49.3,  13.3],\n",
       "       [188.4,  18.1,  25.6,  14.9],\n",
       "       [163.5,  36.8,   7.4,  18. ],\n",
       "       [117.2,  14.7,   5.4,  11.9],\n",
       "       [234.5,   3.4,  84.8,  11.9],\n",
       "       [ 17.9,  37.6,  21.6,   8. ],\n",
       "       [206.8,   5.2,  19.4,  12.2],\n",
       "       [215.4,  23.6,  57.6,  17.1],\n",
       "       [284.3,  10.6,   6.4,  15. ],\n",
       "       [ 50. ,  11.6,  18.4,   8.4],\n",
       "       [164.5,  20.9,  47.4,  14.5],\n",
       "       [ 19.6,  20.1,  17. ,   7.6],\n",
       "       [168.4,   7.1,  12.8,  11.7],\n",
       "       [222.4,   3.4,  13.1,  11.5],\n",
       "       [276.9,  48.9,  41.8,  27. ],\n",
       "       [248.4,  30.2,  20.3,  20.2],\n",
       "       [170.2,   7.8,  35.2,  11.7],\n",
       "       [276.7,   2.3,  23.7,  11.8],\n",
       "       [165.6,  10. ,  17.6,  12.6],\n",
       "       [156.6,   2.6,   8.3,  10.5],\n",
       "       [218.5,   5.4,  27.4,  12.2],\n",
       "       [ 56.2,   5.7,  29.7,   8.7],\n",
       "       [287.6,  43. ,  71.8,  26.2],\n",
       "       [253.8,  21.3,  30. ,  17.6],\n",
       "       [205. ,  45.1,  19.6,  22.6],\n",
       "       [139.5,   2.1,  26.6,  10.3],\n",
       "       [191.1,  28.7,  18.2,  17.3],\n",
       "       [286. ,  13.9,   3.7,  15.9],\n",
       "       [ 18.7,  12.1,  23.4,   6.7],\n",
       "       [ 39.5,  41.1,   5.8,  10.8],\n",
       "       [ 75.5,  10.8,   6. ,   9.9],\n",
       "       [ 17.2,   4.1,  31.6,   5.9],\n",
       "       [166.8,  42. ,   3.6,  19.6],\n",
       "       [149.7,  35.6,   6. ,  17.3],\n",
       "       [ 38.2,   3.7,  13.8,   7.6],\n",
       "       [ 94.2,   4.9,   8.1,   9.7],\n",
       "       [177. ,   9.3,   6.4,  12.8],\n",
       "       [283.6,  42. ,  66.2,  25.5],\n",
       "       [232.1,   8.6,   8.7,  13.4]])"
      ]
     },
     "execution_count": 37,
     "metadata": {},
     "output_type": "execute_result"
    }
   ],
   "source": [
    "datas"
   ]
  },
  {
   "cell_type": "code",
   "execution_count": 26,
   "metadata": {},
   "outputs": [],
   "source": [
    "#각 컬럼별 상관계수 및 결정계수 출력\n"
   ]
  },
  {
   "cell_type": "code",
   "execution_count": null,
   "metadata": {},
   "outputs": [],
   "source": []
  },
  {
   "cell_type": "code",
   "execution_count": 78,
   "metadata": {},
   "outputs": [
    {
     "data": {
      "text/plain": [
       "60"
      ]
     },
     "execution_count": 78,
     "metadata": {},
     "output_type": "execute_result"
    }
   ],
   "source": [
    "rate = 0.3\n",
    "idx = int(len(datas) * rate)\n",
    "idx"
   ]
  },
  {
   "cell_type": "code",
   "execution_count": 79,
   "metadata": {},
   "outputs": [],
   "source": [
    "train_x_tv = datas[:-idx, 0]\n",
    "train_x_radio = datas[:-idx,1]\n",
    "train_x_newspaper = datas[:-idx,2]\n",
    "train_y = datas[:-idx, -1]\n",
    "\n",
    "test_x_tv = datas[-idx:, 0]\n",
    "test_x_radio = datas[-idx:,1]\n",
    "test_x_newspaper = datas[-idx:,2]\n",
    "test_y = datas[-idx:,-1]\n",
    "\n",
    "features = {\n",
    "    \"tv\": datas[:,0],\n",
    "    \"radio\": datas[:,1],\n",
    "    \"newspaper\": datas[:,2],\n",
    "}\n",
    "target = datas[:,-1]\n"
   ]
  },
  {
   "cell_type": "code",
   "execution_count": 80,
   "metadata": {},
   "outputs": [
    {
     "data": {
      "text/plain": [
       "array([[230.1,  44.5,  17.2, 151.5, 180.8,   8.7,  57.5, 120.2,   8.6,\n",
       "        199.8,  66.1, 214.7,  23.8,  97.5, 204.1, 195.4,  67.8, 281.4,\n",
       "         69.2, 147.3, 218.4, 237.4,  13.2, 228.3,  62.3, 262.9, 142.9,\n",
       "        240.1, 248.8,  70.6, 292.9, 112.9,  97.2, 265.6,  95.7, 290.7,\n",
       "        266.9,  74.7,  43.1, 228. , 202.5, 177. , 293.6, 206.9,  25.1,\n",
       "        175.1,  89.7, 239.9, 227.2,  66.9, 199.8, 100.4, 216.4, 182.6,\n",
       "        262.7, 198.9,   7.3, 136.2, 210.8, 210.7,  53.5, 261.3, 239.3,\n",
       "        102.7, 131.1,  69. ,  31.5, 139.3, 237.4, 216.8, 199.1, 109.8,\n",
       "         26.8, 129.4, 213.4,  16.9,  27.5, 120.5,   5.4, 116. ,  76.4,\n",
       "        239.8,  75.3,  68.4, 213.5, 193.2,  76.3, 110.7,  88.3, 109.8,\n",
       "        134.3,  28.6, 217.7, 250.9, 107.4, 163.3, 197.6, 184.9, 289.7,\n",
       "        135.2, 222.4, 296.4, 280.2, 187.9, 238.2, 137.9,  25. ,  90.4,\n",
       "         13.1, 255.4, 225.8, 241.7, 175.7, 209.6,  78.2,  75.1, 139.2,\n",
       "         76.4, 125.7,  19.4, 141.3,  18.8, 224. , 123.1, 229.5,  87.2,\n",
       "          7.8,  80.2, 220.3,  59.6,   0.7, 265.2,   8.4, 219.8,  36.9,\n",
       "         48.3,  25.6, 273.7,  43. , 184.9]])"
      ]
     },
     "execution_count": 80,
     "metadata": {},
     "output_type": "execute_result"
    }
   ],
   "source": [
    "train_x_tv.reshape(1,-1)"
   ]
  },
  {
   "cell_type": "code",
   "execution_count": 81,
   "metadata": {},
   "outputs": [],
   "source": [
    "model_tv = LinearRegression().fit(train_x_tv.reshape(-1,1), train_y)"
   ]
  },
  {
   "cell_type": "code",
   "execution_count": 82,
   "metadata": {},
   "outputs": [],
   "source": [
    "model_radio = LinearRegression().fit(train_x_radio.reshape(-1,1), train_y)"
   ]
  },
  {
   "cell_type": "code",
   "execution_count": 83,
   "metadata": {},
   "outputs": [],
   "source": [
    "model_newspaper = LinearRegression().fit(train_x_newspaper.reshape(-1,1), train_y)"
   ]
  },
  {
   "cell_type": "code",
   "execution_count": 84,
   "metadata": {},
   "outputs": [],
   "source": [
    "#모델평가 : MAE = sum(|pred - test|) / n"
   ]
  },
  {
   "cell_type": "code",
   "execution_count": 85,
   "metadata": {},
   "outputs": [
    {
     "data": {
      "text/plain": [
       "(array([10.7, 16.6, 17.9, 12.2, 11.8, 14. , 18.9, 19. ,  9. ,  9.3, 20.8,\n",
       "        13. , 16.8, 15.5, 16.3,  7.3, 11.7, 14.4,  7.7, 13.6, 15.6, 11.3,\n",
       "        16.3, 15.1, 12.8, 18.6,  8. , 17.2, 17.6, 21. ,  9.6, 15.2,  8.1,\n",
       "        15.4, 18. , 20.7, 19.3, 15.4, 20.6, 15.2, 14.8, 17.8,  9.9, 21.2,\n",
       "        19.5, 17.1, 13.9, 16.5, 21.1,  8. ,  9.1, 10.8,  8. , 15.3, 14.4,\n",
       "         9. , 11.7, 15.8, 21. , 18.5]),\n",
       " array([10.9, 19.2, 20.1, 10.4, 11.4, 10.3, 13.2, 25.4, 10.9, 10.1, 16.1,\n",
       "        11.6, 16.6, 19. , 15.6,  3.2, 15.3, 10.1,  7.3, 12.9, 14.4, 13.3,\n",
       "        14.9, 18. , 11.9, 11.9,  8. , 12.2, 17.1, 15. ,  8.4, 14.5,  7.6,\n",
       "        11.7, 11.5, 27. , 20.2, 11.7, 11.8, 12.6, 10.5, 12.2,  8.7, 26.2,\n",
       "        17.6, 22.6, 10.3, 17.3, 15.9,  6.7, 10.8,  9.9,  5.9, 19.6, 17.3,\n",
       "         7.6,  9.7, 12.8, 25.5, 13.4]))"
      ]
     },
     "execution_count": 85,
     "metadata": {},
     "output_type": "execute_result"
    }
   ],
   "source": [
    "pred_tv = model_tv.predict(test_x_tv.reshape(-1,1))\n",
    "pred_tv = np.round(pred_tv,1)\n",
    "mae_tv = np.round(mae_tv,3)\n",
    "pred_tv, test_y"
   ]
  },
  {
   "cell_type": "code",
   "execution_count": 86,
   "metadata": {},
   "outputs": [
    {
     "data": {
      "text/plain": [
       "(array([12.7, 16.2, 15.8, 10.5, 12.2,  9.7, 10.8, 18.9, 17.2, 14.4, 12. ,\n",
       "        11. , 13.9, 17.1, 13.4, 11.6, 17.8,  9.6, 16.5, 12.9, 12.9, 16.3,\n",
       "        12.9, 16.5, 12.2, 10. , 16.7, 10.4, 13.9, 11.4, 11.6, 13.4, 13.3,\n",
       "        10.7, 10. , 18.9, 15.2, 10.9,  9.8, 11.3,  9.8, 10.4, 10.5, 17.7,\n",
       "        13.5, 18.1,  9.7, 14.9, 12. , 11.7, 17.3, 11.4, 10.1, 17.5, 16.3,\n",
       "        10.1, 10.3, 11.2, 17.5, 11. ]),\n",
       " array([10.9, 19.2, 20.1, 10.4, 11.4, 10.3, 13.2, 25.4, 10.9, 10.1, 16.1,\n",
       "        11.6, 16.6, 19. , 15.6,  3.2, 15.3, 10.1,  7.3, 12.9, 14.4, 13.3,\n",
       "        14.9, 18. , 11.9, 11.9,  8. , 12.2, 17.1, 15. ,  8.4, 14.5,  7.6,\n",
       "        11.7, 11.5, 27. , 20.2, 11.7, 11.8, 12.6, 10.5, 12.2,  8.7, 26.2,\n",
       "        17.6, 22.6, 10.3, 17.3, 15.9,  6.7, 10.8,  9.9,  5.9, 19.6, 17.3,\n",
       "         7.6,  9.7, 12.8, 25.5, 13.4]))"
      ]
     },
     "execution_count": 86,
     "metadata": {},
     "output_type": "execute_result"
    }
   ],
   "source": [
    "pred_radio = model_radio.predict(test_x_radio.reshape(-1,1))\n",
    "pred_radio = np.round(pred_radio,1)\n",
    "mae_radio = np.round(mae_radio,3)\n",
    "pred_radio, test_y"
   ]
  },
  {
   "cell_type": "code",
   "execution_count": 87,
   "metadata": {},
   "outputs": [
    {
     "data": {
      "text/plain": [
       "(array([13.3, 15.9, 14.4, 14.2, 14.4, 13.2, 13.2, 14.6, 13.3, 13.7, 14.3,\n",
       "        14.8, 13.4, 14.4, 13.2, 13. , 14.9, 13.8, 14.7, 14.2, 14.1, 14.9,\n",
       "        13.9, 13.1, 13. , 16.3, 13.7, 13.6, 15.2, 13.1, 13.6, 14.8, 13.5,\n",
       "        13.3, 13.3, 14.5, 13.6, 14.3, 13.8, 13.5, 13.1, 13.9, 14. , 15.8,\n",
       "        14. , 13.6, 13.9, 13.6, 13. , 13.8, 13. , 13. , 14.1, 12.9, 13. ,\n",
       "        13.4, 13.1, 13.1, 15.6, 13.2]),\n",
       " array([10.9, 19.2, 20.1, 10.4, 11.4, 10.3, 13.2, 25.4, 10.9, 10.1, 16.1,\n",
       "        11.6, 16.6, 19. , 15.6,  3.2, 15.3, 10.1,  7.3, 12.9, 14.4, 13.3,\n",
       "        14.9, 18. , 11.9, 11.9,  8. , 12.2, 17.1, 15. ,  8.4, 14.5,  7.6,\n",
       "        11.7, 11.5, 27. , 20.2, 11.7, 11.8, 12.6, 10.5, 12.2,  8.7, 26.2,\n",
       "        17.6, 22.6, 10.3, 17.3, 15.9,  6.7, 10.8,  9.9,  5.9, 19.6, 17.3,\n",
       "         7.6,  9.7, 12.8, 25.5, 13.4]))"
      ]
     },
     "execution_count": 87,
     "metadata": {},
     "output_type": "execute_result"
    }
   ],
   "source": [
    "pred_newspaper = model_newspaper.predict(test_x_newspaper.reshape(-1,1))\n",
    "pred_newspaper = np.round(pred_newspaper,1)\n",
    "mae_newspaper = np.round(mae_newspaper,3)\n",
    "pred_newspaper, test_y"
   ]
  },
  {
   "cell_type": "code",
   "execution_count": 88,
   "metadata": {},
   "outputs": [],
   "source": [
    "mae_tv = np.sum(np.absolute(pred_tv - test_y)) /len(test_y)"
   ]
  },
  {
   "cell_type": "code",
   "execution_count": 89,
   "metadata": {},
   "outputs": [],
   "source": [
    "mae_radio = np.sum(np.absolute(pred_radio - test_y)) /len(test_y)"
   ]
  },
  {
   "cell_type": "code",
   "execution_count": 90,
   "metadata": {},
   "outputs": [],
   "source": [
    "mae_newspaper = np.sum(np.absolute(pred_newspaper - test_y)) /len(test_y)"
   ]
  },
  {
   "cell_type": "code",
   "execution_count": 91,
   "metadata": {},
   "outputs": [
    {
     "data": {
      "text/plain": [
       "(2.885, 3.0516666666666667, 3.8883333333333336)"
      ]
     },
     "execution_count": 91,
     "metadata": {},
     "output_type": "execute_result"
    }
   ],
   "source": [
    "mae_tv,mae_radio,mae_newspaper"
   ]
  },
  {
   "cell_type": "code",
   "execution_count": 73,
   "metadata": {},
   "outputs": [],
   "source": [
    "#상관계수"
   ]
  },
  {
   "cell_type": "code",
   "execution_count": 92,
   "metadata": {},
   "outputs": [
    {
     "data": {
      "text/plain": [
       "(0.7822244248616061, 0.5762225745710551, 0.22829902637616528)"
      ]
     },
     "execution_count": 92,
     "metadata": {},
     "output_type": "execute_result"
    }
   ],
   "source": [
    "datas[:,0],datas[:,-1]\n",
    "np.corrcoef(datas[:,0],datas[:,-1])[0,1],np.corrcoef(datas[:,1],datas[:,-1])[0,1],np.corrcoef(datas[:,2],datas[:,-1])[0,1]"
   ]
  },
  {
   "cell_type": "code",
   "execution_count": 93,
   "metadata": {},
   "outputs": [
    {
     "data": {
      "text/plain": [
       "'\\n도출된 상관계수와 MAE값이 다를땐 overfiting의 가능성이 있음\\n그래서 테스트의 개수를 조절해서 해결\\n'"
      ]
     },
     "execution_count": 93,
     "metadata": {},
     "output_type": "execute_result"
    }
   ],
   "source": [
    "'''\n",
    "도출된 상관계수와 MAE값이 다를땐 overfiting의 가능성이 있음\n",
    "그래서 테스트의 개수를 조절해서 해결\n",
    "'''"
   ]
  },
  {
   "cell_type": "code",
   "execution_count": 94,
   "metadata": {},
   "outputs": [],
   "source": [
    "#모델 생성시 모든 feature 사용"
   ]
  },
  {
   "cell_type": "code",
   "execution_count": 97,
   "metadata": {},
   "outputs": [],
   "source": [
    "model = LinearRegression().fit(train_x_tv.reshape(-1,1), train_y)"
   ]
  },
  {
   "cell_type": "code",
   "execution_count": 98,
   "metadata": {},
   "outputs": [],
   "source": [
    "train_x = datas[:-idx, :-1]\n",
    "train_y = datas[:-idx, -1]\n",
    "test_x = datas[-idx:, :-1]\n",
    "test_y = datas[-idx:, -1]\n",
    "\n",
    "model = LinearRegression().fit(train_x, train_y)"
   ]
  },
  {
   "cell_type": "code",
   "execution_count": 99,
   "metadata": {},
   "outputs": [
    {
     "data": {
      "text/plain": [
       "1.245"
      ]
     },
     "execution_count": 99,
     "metadata": {},
     "output_type": "execute_result"
    }
   ],
   "source": [
    "pred_y = model.predict(test_x)\n",
    "pred_y = np.round(pred_y, 1)\n",
    "mae = np.sum(np.absolute(pred_y - test_y)) / len(test_y) \n",
    "mae = np.round(mae, 3)\n",
    "mae"
   ]
  },
  {
   "cell_type": "code",
   "execution_count": 100,
   "metadata": {},
   "outputs": [
    {
     "data": {
      "text/plain": [
       "(0.6118750508500705, 0.33203245544529514, 0.05212044544430501)"
      ]
     },
     "execution_count": 100,
     "metadata": {},
     "output_type": "execute_result"
    }
   ],
   "source": [
    "np.corrcoef(datas[:, 0], datas[:, -1])[0, 1] ** 2,\\\n",
    "np.corrcoef(datas[:, 1], datas[:, -1])[0, 1] ** 2,\\\n",
    "np.corrcoef(datas[:, 2], datas[:, -1])[0, 1] ** 2,"
   ]
  },
  {
   "cell_type": "code",
   "execution_count": 101,
   "metadata": {},
   "outputs": [
    {
     "data": {
      "text/plain": [
       "array([10.74255704])"
      ]
     },
     "execution_count": 101,
     "metadata": {},
     "output_type": "execute_result"
    }
   ],
   "source": [
    "sample = np.array([[100,  20,  200]])\n",
    "model.predict(sample)"
   ]
  },
  {
   "cell_type": "code",
   "execution_count": null,
   "metadata": {},
   "outputs": [],
   "source": []
  }
 ],
 "metadata": {
  "kernelspec": {
   "display_name": "Python 3",
   "language": "python",
   "name": "python3"
  },
  "language_info": {
   "codemirror_mode": {
    "name": "ipython",
    "version": 3
   },
   "file_extension": ".py",
   "mimetype": "text/x-python",
   "name": "python",
   "nbconvert_exporter": "python",
   "pygments_lexer": "ipython3",
   "version": "3.8.5"
  },
  "varInspector": {
   "cols": {
    "lenName": 16,
    "lenType": 16,
    "lenVar": 40
   },
   "kernels_config": {
    "python": {
     "delete_cmd_postfix": "",
     "delete_cmd_prefix": "del ",
     "library": "var_list.py",
     "varRefreshCmd": "print(var_dic_list())"
    },
    "r": {
     "delete_cmd_postfix": ") ",
     "delete_cmd_prefix": "rm(",
     "library": "var_list.r",
     "varRefreshCmd": "cat(var_dic_list()) "
    }
   },
   "types_to_exclude": [
    "module",
    "function",
    "builtin_function_or_method",
    "instance",
    "_Feature"
   ],
   "window_display": false
  }
 },
 "nbformat": 4,
 "nbformat_minor": 2
}
