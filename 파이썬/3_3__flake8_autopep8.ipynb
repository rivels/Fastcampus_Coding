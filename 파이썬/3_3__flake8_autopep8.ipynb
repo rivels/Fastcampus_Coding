{
 "cells": [
  {
   "cell_type": "markdown",
   "metadata": {},
   "source": [
    "# flake8\n",
    "- 파이썬 파일의 코딩 스타일을 검사해주는 도구\n",
    "\n",
    "# autopep8\n",
    "- pep8 코딩 스타일에 어긋나는 코딩 스타일을 수정해주는 도구\n",
    "\n",
    "        - 프로젝트나 회사에서 코드를 작성할 때, 컨벤션에 잘 맞게 작성되었는지 체크해주는것이 flake8, 자동으로 수정해주는것이 autopep8"
   ]
  },
  {
   "cell_type": "code",
   "execution_count": 1,
   "metadata": {},
   "outputs": [
    {
     "name": "stdout",
     "output_type": "stream",
     "text": [
      "Requirement already satisfied: flake8 in /Users/song-kang/opt/anaconda3/lib/python3.8/site-packages (3.8.4)\r\n",
      "Requirement already satisfied: autopep8 in /Users/song-kang/opt/anaconda3/lib/python3.8/site-packages (1.5.4)\r\n",
      "Requirement already satisfied: pycodestyle<2.7.0,>=2.6.0a1 in /Users/song-kang/opt/anaconda3/lib/python3.8/site-packages (from flake8) (2.6.0)\r\n",
      "Requirement already satisfied: pyflakes<2.3.0,>=2.2.0 in /Users/song-kang/opt/anaconda3/lib/python3.8/site-packages (from flake8) (2.2.0)\r\n",
      "Requirement already satisfied: mccabe<0.7.0,>=0.6.0 in /Users/song-kang/opt/anaconda3/lib/python3.8/site-packages (from flake8) (0.6.1)\r\n",
      "Requirement already satisfied: toml in /Users/song-kang/opt/anaconda3/lib/python3.8/site-packages (from autopep8) (0.10.1)\r\n"
     ]
    }
   ],
   "source": [
    "!pip install flake8 autopep8"
   ]
  },
  {
   "cell_type": "code",
   "execution_count": 6,
   "metadata": {},
   "outputs": [
    {
     "name": "stdout",
     "output_type": "stream",
     "text": [
      "Overwriting test.py\n"
     ]
    }
   ],
   "source": [
    "%%writefile test.py\n",
    "def test(num1, num2 = 1):\n",
    "    data = 0\n",
    "    for n1 in range(num1):\n",
    "        for n2 in range(num2):\n",
    "            data += n1 * n2\n",
    "    return data\n",
    "\n",
    "def disp(n1,n2):\n",
    "    print(test(n1,n2))\n",
    "disp(5,10)"
   ]
  },
  {
   "cell_type": "code",
   "execution_count": 11,
   "metadata": {},
   "outputs": [],
   "source": [
    "!flake8 test.py"
   ]
  },
  {
   "cell_type": "code",
   "execution_count": 8,
   "metadata": {},
   "outputs": [],
   "source": [
    "# autopep 8 사용\n"
   ]
  },
  {
   "cell_type": "code",
   "execution_count": 9,
   "metadata": {},
   "outputs": [],
   "source": [
    "!autopep8 --in-place test.py"
   ]
  },
  {
   "cell_type": "code",
   "execution_count": 10,
   "metadata": {},
   "outputs": [
    {
     "name": "stdout",
     "output_type": "stream",
     "text": [
      "def test(num1, num2=1):\r\n",
      "    data = 0\r\n",
      "    for n1 in range(num1):\r\n",
      "        for n2 in range(num2):\r\n",
      "            data += n1 * n2\r\n",
      "    return data\r\n",
      "\r\n",
      "\r\n",
      "def disp(n1, n2):\r\n",
      "    print(test(n1, n2))\r\n",
      "\r\n",
      "\r\n",
      "disp(5, 10)\r\n"
     ]
    }
   ],
   "source": [
    "!cat test.py"
   ]
  },
  {
   "cell_type": "code",
   "execution_count": null,
   "metadata": {},
   "outputs": [],
   "source": []
  }
 ],
 "metadata": {
  "kernelspec": {
   "display_name": "Python 3",
   "language": "python",
   "name": "python3"
  },
  "language_info": {
   "codemirror_mode": {
    "name": "ipython",
    "version": 3
   },
   "file_extension": ".py",
   "mimetype": "text/x-python",
   "name": "python",
   "nbconvert_exporter": "python",
   "pygments_lexer": "ipython3",
   "version": "3.8.5"
  }
 },
 "nbformat": 4,
 "nbformat_minor": 4
}
