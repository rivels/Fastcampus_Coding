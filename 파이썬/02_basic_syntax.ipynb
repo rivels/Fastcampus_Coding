{
 "cells": [
  {
   "cell_type": "markdown",
   "metadata": {},
   "source": [
    "# python basic syntax"
   ]
  },
  {
   "cell_type": "code",
   "execution_count": 2,
   "metadata": {},
   "outputs": [
    {
     "name": "stdout",
     "output_type": "stream",
     "text": [
      "The Zen of Python, by Tim Peters\n",
      "\n",
      "Beautiful is better than ugly.\n",
      "Explicit is better than implicit.\n",
      "Simple is better than complex.\n",
      "Complex is better than complicated.\n",
      "Flat is better than nested.\n",
      "Sparse is better than dense.\n",
      "Readability counts.\n",
      "Special cases aren't special enough to break the rules.\n",
      "Although practicality beats purity.\n",
      "Errors should never pass silently.\n",
      "Unless explicitly silenced.\n",
      "In the face of ambiguity, refuse the temptation to guess.\n",
      "There should be one-- and preferably only one --obvious way to do it.\n",
      "Although that way may not be obvious at first unless you're Dutch.\n",
      "Now is better than never.\n",
      "Although never is often better than *right* now.\n",
      "If the implementation is hard to explain, it's a bad idea.\n",
      "If the implementation is easy to explain, it may be a good idea.\n",
      "Namespaces are one honking great idea -- let's do more of those!\n"
     ]
    }
   ],
   "source": [
    "import this"
   ]
  },
  {
   "cell_type": "markdown",
   "metadata": {},
   "source": [
    "# index\n",
    "- 변수선언 : RAM에 값을 할당하는 문법\n",
    "- 데이터 타입 : 효율적으로 RAM을 사용하기 위해 만들어진 문법\n",
    "- 연산자 : 계산을 해주는 문법, cpu자원을 사용함.\n",
    "- 조건문 : 조건에 따라 다른 코드를 실행시키는 방법\n",
    "- <u>**함수 : 반복적으로 사용되는 코드를 묶어서 사용하는 방법**\n",
    "- **클래스 : 동일한 기능을 하는 변수와 함수를 모아서 사용하는 방법**\n",
    "- **모듈 : 여러개의 변수, 함수, 클래스를 하나의 파일로 모아서 사용하는 문법**\n",
    "- **패키지 : 비슷한 기능의 모듈들을 디렉토리 단위로 묶어서 사용하는 문법</u>**\n",
    "- 예외처리 : 코드가 실행될 때 에러가 발생하면 에러를 어떻게 처리할지 정의하는 문법\n",
    "- 입출력 : RAM에 저장되어있는 데이터를 HDD에 저장하는 문법\n",
    "- 정규표현식 : 문자열 데이터를 특정 패턴으로 처리하는 문법"
   ]
  },
  {
   "cell_type": "markdown",
   "metadata": {},
   "source": [
    "## 데이터 타입\n",
    "- collection 데이터타입 : list, tuple, dict, set\n",
    "    - iterable : list, tuple // 순서가 있다\n",
    "    - non iterable : dict, set // 순서가 없다"
   ]
  },
  {
   "cell_type": "code",
   "execution_count": 3,
   "metadata": {},
   "outputs": [
    {
     "name": "stdout",
     "output_type": "stream",
     "text": [
      "28 24 28 52\n"
     ]
    }
   ],
   "source": [
    "import sys\n",
    "\n",
    "data1 = 1\n",
    "data2 = 1.1\n",
    "data3 = True\n",
    "data4 = \"abc\"\n",
    "\n",
    "print(sys.getsizeof(data1),sys.getsizeof(data2),sys.getsizeof(data3),sys.getsizeof(data4))"
   ]
  },
  {
   "cell_type": "code",
   "execution_count": 9,
   "metadata": {},
   "outputs": [
    {
     "data": {
      "text/plain": [
       "'cbc'"
      ]
     },
     "execution_count": 9,
     "metadata": {},
     "output_type": "execute_result"
    }
   ],
   "source": [
    "data4.replace('a','c')"
   ]
  },
  {
   "cell_type": "code",
   "execution_count": 21,
   "metadata": {},
   "outputs": [
    {
     "name": "stdout",
     "output_type": "stream",
     "text": [
      "Python is fun.\n"
     ]
    }
   ],
   "source": [
    "data = \"python IS Fun\"\n",
    "data = data.split(' ')\n",
    "data[0] = data[0][0].upper() + data[0][1:]\n",
    "data[1] = data[1].lower()\n",
    "data[2] = data[2].lower()\n",
    "R = data[0] +' '+ data[1] +' '+ data[2] + '.'\n",
    "print(R)"
   ]
  },
  {
   "cell_type": "code",
   "execution_count": 23,
   "metadata": {},
   "outputs": [],
   "source": [
    "R = list(R)"
   ]
  },
  {
   "cell_type": "code",
   "execution_count": 26,
   "metadata": {},
   "outputs": [
    {
     "data": {
      "text/plain": [
       "'u'"
      ]
     },
     "execution_count": 26,
     "metadata": {},
     "output_type": "execute_result"
    }
   ],
   "source": [
    "R.pop()"
   ]
  },
  {
   "cell_type": "code",
   "execution_count": 30,
   "metadata": {},
   "outputs": [
    {
     "name": "stdout",
     "output_type": "stream",
     "text": [
      "['python', 'is', 'fun']\n",
      "python is fun\n"
     ]
    }
   ],
   "source": [
    "data = \"python is fun\"\n",
    "data = data.split(' ')\n",
    "print(data)\n",
    "data = \" \".join(data)\n",
    "print(data)"
   ]
  },
  {
   "cell_type": "markdown",
   "metadata": {},
   "source": [
    "# 튜플과 리스트의 차이점\n",
    "- 튜플도 리스트와 마찬가지로 순서가 있지만 수정이 불가하다.\n",
    "- <u>**굳이 리스트보다 튜플을 쓰는 이유는 튜플이 저장공간을 덜 차지하기 때문**</u>"
   ]
  },
  {
   "cell_type": "code",
   "execution_count": 33,
   "metadata": {},
   "outputs": [],
   "source": [
    "tp = (1,2)\n",
    "d1,d2 = tp"
   ]
  },
  {
   "cell_type": "code",
   "execution_count": 34,
   "metadata": {},
   "outputs": [
    {
     "data": {
      "text/plain": [
       "1"
      ]
     },
     "execution_count": 34,
     "metadata": {},
     "output_type": "execute_result"
    }
   ],
   "source": [
    "d1"
   ]
  },
  {
   "cell_type": "code",
   "execution_count": 40,
   "metadata": {},
   "outputs": [
    {
     "name": "stdout",
     "output_type": "stream",
     "text": [
      "2,1\n"
     ]
    }
   ],
   "source": [
    "print('{1},{0}'.format(d1,d2))"
   ]
  },
  {
   "cell_type": "code",
   "execution_count": 41,
   "metadata": {},
   "outputs": [
    {
     "name": "stdout",
     "output_type": "stream",
     "text": [
      "1,2\n"
     ]
    }
   ],
   "source": [
    "print(f'{d1},{d2}')"
   ]
  },
  {
   "cell_type": "code",
   "execution_count": null,
   "metadata": {},
   "outputs": [],
   "source": []
  }
 ],
 "metadata": {
  "kernelspec": {
   "display_name": "Python 3",
   "language": "python",
   "name": "python3"
  },
  "language_info": {
   "codemirror_mode": {
    "name": "ipython",
    "version": 3
   },
   "file_extension": ".py",
   "mimetype": "text/x-python",
   "name": "python",
   "nbconvert_exporter": "python",
   "pygments_lexer": "ipython3",
   "version": "3.8.5"
  }
 },
 "nbformat": 4,
 "nbformat_minor": 4
}
