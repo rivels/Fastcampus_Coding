{
 "cells": [
  {
   "cell_type": "code",
   "execution_count": 3,
   "metadata": {},
   "outputs": [
    {
     "name": "stdout",
     "output_type": "stream",
     "text": [
      "점수입력 : 100\n",
      "A\n"
     ]
    }
   ],
   "source": [
    "p = int(input('점수입력 : '))\n",
    "\n",
    "if p >= 90:\n",
    "    print('A')\n",
    "elif p >= 80:\n",
    "    print('B')\n",
    "elif p >= 70:\n",
    "    print('C')\n",
    "elif p >= 60:\n",
    "    print('D')\n",
    "else:\n",
    "    print('F')"
   ]
  },
  {
   "cell_type": "code",
   "execution_count": null,
   "metadata": {},
   "outputs": [],
   "source": [
    "# fizz buzz\n",
    "# quiz : 숫자를 입력받아서 3의 배수이면 fizz, 5의 배수이면 buzz, 15의 배수이면 fizzbuzz 출력, 3과 5의 배수가 아니면 입력된 값 그대로 출력"
   ]
  },
  {
   "cell_type": "code",
   "execution_count": 11,
   "metadata": {},
   "outputs": [
    {
     "name": "stdout",
     "output_type": "stream",
     "text": [
      "1\n",
      "1\n"
     ]
    }
   ],
   "source": [
    "a = int(input())\n",
    "if a%15 == 0:\n",
    "    print('fizzbuzz')\n",
    "elif a % 3 == 0:\n",
    "    print('fizz')\n",
    "elif a % 5 == 0:\n",
    "    print('buzz')\n",
    "else:\n",
    "    print(a)"
   ]
  },
  {
   "cell_type": "markdown",
   "metadata": {},
   "source": [
    "# 삼항연산자\n",
    "- 간단한 조건문을 한줄의 코드로 나타낼 수 있다.\n",
    "- data = A if (condition) else B // condition이 참이면 A 거짓이면 B\n"
   ]
  },
  {
   "cell_type": "code",
   "execution_count": 14,
   "metadata": {},
   "outputs": [
    {
     "data": {
      "text/plain": [
       "'홀수'"
      ]
     },
     "execution_count": 14,
     "metadata": {},
     "output_type": "execute_result"
    }
   ],
   "source": [
    "'홀수' if 11%2 else '짝수'"
   ]
  },
  {
   "cell_type": "markdown",
   "metadata": {},
   "source": [
    "# 반복문\n",
    "- while\n",
    "- for\n",
    "- break, continue\n",
    "- list comprehension\n"
   ]
  },
  {
   "cell_type": "markdown",
   "metadata": {},
   "source": [
    "### while\n",
    "- 조건이 False가 될 때 까지 코드를 반복함."
   ]
  },
  {
   "cell_type": "code",
   "execution_count": 15,
   "metadata": {},
   "outputs": [
    {
     "name": "stdout",
     "output_type": "stream",
     "text": [
      "3\n",
      "2\n",
      "1\n"
     ]
    }
   ],
   "source": [
    "count = 3\n",
    "while count:\n",
    "    print(count)\n",
    "    count -= 1"
   ]
  },
  {
   "cell_type": "markdown",
   "metadata": {},
   "source": [
    "## break\n",
    "- 반복문을 중단할때 사용\n",
    "\n",
    "## continue\n",
    "- 코드실행 순서를 바로 조건 확인 코드 부분으로 이동"
   ]
  },
  {
   "cell_type": "code",
   "execution_count": 24,
   "metadata": {},
   "outputs": [
    {
     "name": "stdout",
     "output_type": "stream",
     "text": [
      "2\n",
      "4\n",
      "6\n",
      "8\n",
      "10\n"
     ]
    }
   ],
   "source": [
    "count = 0\n",
    "while True:\n",
    "    count += 1\n",
    "    \n",
    "    if count > 10:\n",
    "        break\n",
    "    \n",
    "    if count % 2:\n",
    "        continue  #여기서 continue를 만나면 아래의 print를 실행시키지 않고 조건확인부분(while문)으로 돌려보냄\n",
    "        \n",
    "    print(count)"
   ]
  },
  {
   "cell_type": "code",
   "execution_count": 26,
   "metadata": {},
   "outputs": [
    {
     "name": "stdout",
     "output_type": "stream",
     "text": [
      "a\n",
      "b\n",
      "c\n",
      "  \n",
      " \n",
      "   \n",
      "q\n"
     ]
    }
   ],
   "source": [
    "words = []\n",
    "while words != 'q':\n",
    "    words.append(str(input()))\n",
    "    if 'q' in words:\n",
    "        break"
   ]
  },
  {
   "cell_type": "code",
   "execution_count": 27,
   "metadata": {},
   "outputs": [
    {
     "data": {
      "text/plain": [
       "['a', 'b', 'c', '  ', ' ', '   ', 'q']"
      ]
     },
     "execution_count": 27,
     "metadata": {},
     "output_type": "execute_result"
    }
   ],
   "source": [
    "words"
   ]
  },
  {
   "cell_type": "code",
   "execution_count": 39,
   "metadata": {},
   "outputs": [
    {
     "name": "stdout",
     "output_type": "stream",
     "text": [
      "{4, 6, 8, 11, 23, 28}\n"
     ]
    }
   ],
   "source": [
    "import random\n",
    "LOTTO = []\n",
    "while len(LOTTO) <= 5:\n",
    "    LOTTO = list(LOTTO)\n",
    "    LOTTO.append(random.randint(1,45))\n",
    "    LOTTO = set(LOTTO)\n",
    "print(LOTTO)"
   ]
  },
  {
   "cell_type": "code",
   "execution_count": null,
   "metadata": {},
   "outputs": [],
   "source": []
  }
 ],
 "metadata": {
  "kernelspec": {
   "display_name": "Python 3",
   "language": "python",
   "name": "python3"
  },
  "language_info": {
   "codemirror_mode": {
    "name": "ipython",
    "version": 3
   },
   "file_extension": ".py",
   "mimetype": "text/x-python",
   "name": "python",
   "nbconvert_exporter": "python",
   "pygments_lexer": "ipython3",
   "version": "3.8.5"
  }
 },
 "nbformat": 4,
 "nbformat_minor": 4
}
