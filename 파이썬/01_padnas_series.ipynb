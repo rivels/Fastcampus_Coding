{
 "cells": [
  {
   "cell_type": "markdown",
   "id": "english-ontario",
   "metadata": {},
   "source": [
    "### Pandas\n",
    "- 데이터 분석을 위한 사용성이 좋고 쉽고 성능이 좋은 오픈소스 Python 라이브러리\n",
    "- R의 DataFrame 구조로 만들어짐\n",
    "    - R보다 Pandas가 성능 좋음 : numpy로 동작\n",
    "    - Python이 더 범용 개발에 사용\n",
    "    - R보다 Python이 쉽습니다.\n",
    "- 두가지 데이터 타입\n",
    "    - Series\n",
    "        - index, value로 이루어진 데이터 타입\n",
    "        - 하나의 Series에는 동일한 데이터 타입의 데이터만 사용\n",
    "    - DataFrame\n",
    "        - index, value, column으로 이루어진 데이터 타입\n",
    "        - 여러개의 Series(column)로 이루어진 데이터 타입\n",
    "        - 테이블 형태의 데이터"
   ]
  },
  {
   "cell_type": "code",
   "execution_count": 4,
   "id": "characteristic-instrument",
   "metadata": {},
   "outputs": [],
   "source": [
    "import numpy as np\n",
    "import pandas as pd"
   ]
  },
  {
   "cell_type": "markdown",
   "id": "complete-radius",
   "metadata": {},
   "source": [
    "#### 1. Series"
   ]
  },
  {
   "cell_type": "code",
   "execution_count": 1,
   "id": "contained-search",
   "metadata": {},
   "outputs": [],
   "source": [
    "# 선언"
   ]
  },
  {
   "cell_type": "code",
   "execution_count": 3,
   "id": "cardiovascular-tattoo",
   "metadata": {},
   "outputs": [
    {
     "data": {
      "text/plain": [
       "0    1.0\n",
       "1    3.0\n",
       "2    5.0\n",
       "3    NaN\n",
       "4    6.0\n",
       "5    8.0\n",
       "dtype: float64"
      ]
     },
     "execution_count": 3,
     "metadata": {},
     "output_type": "execute_result"
    }
   ],
   "source": [
    "s = pd.Series([1, 3, 5, np.nan, 6, 8]) # null, None\n",
    "s"
   ]
  },
  {
   "cell_type": "code",
   "execution_count": 16,
   "id": "forced-macro",
   "metadata": {},
   "outputs": [
    {
     "data": {
      "text/plain": [
       "0    4\n",
       "1    1\n",
       "2    5\n",
       "3    6\n",
       "4    6\n",
       "dtype: int64"
      ]
     },
     "execution_count": 16,
     "metadata": {},
     "output_type": "execute_result"
    }
   ],
   "source": [
    "data = pd.Series(np.random.randint(10, size=5))\n",
    "data"
   ]
  },
  {
   "cell_type": "code",
   "execution_count": 17,
   "id": "executive-volume",
   "metadata": {},
   "outputs": [],
   "source": [
    "# index 설정"
   ]
  },
  {
   "cell_type": "code",
   "execution_count": 19,
   "id": "ordered-subject",
   "metadata": {},
   "outputs": [
    {
     "data": {
      "text/plain": [
       "A    9\n",
       "B    8\n",
       "C    2\n",
       "D    2\n",
       "E    4\n",
       "dtype: int64"
      ]
     },
     "execution_count": 19,
     "metadata": {},
     "output_type": "execute_result"
    }
   ],
   "source": [
    "data = pd.Series(np.random.randint(10, size=5), list(\"ABCDE\"))\n",
    "data"
   ]
  },
  {
   "cell_type": "code",
   "execution_count": 21,
   "id": "persistent-petroleum",
   "metadata": {},
   "outputs": [],
   "source": [
    "# Series 객체의 값 확인 : index, value"
   ]
  },
  {
   "cell_type": "code",
   "execution_count": 23,
   "id": "mysterious-rubber",
   "metadata": {},
   "outputs": [
    {
     "data": {
      "text/plain": [
       "(Index(['A', 'B', 'C', 'D', 'E'], dtype='object'), array([9, 8, 2, 2, 4]))"
      ]
     },
     "execution_count": 23,
     "metadata": {},
     "output_type": "execute_result"
    }
   ],
   "source": [
    "data.index, data.values"
   ]
  },
  {
   "cell_type": "code",
   "execution_count": 24,
   "id": "fresh-charger",
   "metadata": {},
   "outputs": [],
   "source": [
    "# [] : 마스킹 문법 사용"
   ]
  },
  {
   "cell_type": "code",
   "execution_count": 28,
   "id": "extraordinary-devil",
   "metadata": {},
   "outputs": [
    {
     "data": {
      "text/plain": [
       "(2,\n",
       " 2,\n",
       " C    2\n",
       " E    4\n",
       " dtype: int64)"
      ]
     },
     "execution_count": 28,
     "metadata": {},
     "output_type": "execute_result"
    }
   ],
   "source": [
    "data[\"C\"], data.C, data[[\"C\", \"E\"]]"
   ]
  },
  {
   "cell_type": "code",
   "execution_count": 31,
   "id": "charitable-conflict",
   "metadata": {},
   "outputs": [
    {
     "data": {
      "text/plain": [
       "3.0"
      ]
     },
     "execution_count": 31,
     "metadata": {},
     "output_type": "execute_result"
    }
   ],
   "source": [
    "s[1] # s.1 : 식별자 규칙 : 숫자가 가장 앞에 올수 X"
   ]
  },
  {
   "cell_type": "code",
   "execution_count": 32,
   "id": "amended-split",
   "metadata": {},
   "outputs": [],
   "source": [
    "# Series 객체에 Name, index_name을 설정"
   ]
  },
  {
   "cell_type": "code",
   "execution_count": 37,
   "id": "gothic-gasoline",
   "metadata": {},
   "outputs": [],
   "source": [
    "data.name = \"Data\""
   ]
  },
  {
   "cell_type": "code",
   "execution_count": 38,
   "id": "mental-cigarette",
   "metadata": {},
   "outputs": [],
   "source": [
    "data.index.name = \"ABC\""
   ]
  },
  {
   "cell_type": "code",
   "execution_count": 39,
   "id": "amateur-house",
   "metadata": {},
   "outputs": [
    {
     "data": {
      "text/plain": [
       "ABC\n",
       "A    9\n",
       "B    8\n",
       "C    2\n",
       "D    2\n",
       "E    4\n",
       "Name: Data, dtype: int64"
      ]
     },
     "execution_count": 39,
     "metadata": {},
     "output_type": "execute_result"
    }
   ],
   "source": [
    "data"
   ]
  },
  {
   "cell_type": "code",
   "execution_count": 40,
   "id": "concerned-comfort",
   "metadata": {},
   "outputs": [],
   "source": [
    "# Series 객체의 연산"
   ]
  },
  {
   "cell_type": "code",
   "execution_count": 44,
   "id": "pending-section",
   "metadata": {},
   "outputs": [
    {
     "data": {
      "text/plain": [
       "ABC\n",
       "A    90\n",
       "B    80\n",
       "C    20\n",
       "D    20\n",
       "E    40\n",
       "Name: Data, dtype: int64"
      ]
     },
     "execution_count": 44,
     "metadata": {},
     "output_type": "execute_result"
    }
   ],
   "source": [
    "data * 10 # 브로드 캐스팅되게 연산"
   ]
  },
  {
   "cell_type": "code",
   "execution_count": 52,
   "id": "scheduled-design",
   "metadata": {},
   "outputs": [
    {
     "data": {
      "text/plain": [
       "(ABC\n",
       " A    9\n",
       " C    2\n",
       " Name: Data, dtype: int64,\n",
       " ABC\n",
       " C    2\n",
       " B    8\n",
       " A    9\n",
       " Name: Data, dtype: int64)"
      ]
     },
     "execution_count": 52,
     "metadata": {},
     "output_type": "execute_result"
    }
   ],
   "source": [
    "data[[\"A\", \"C\"]], data[2::-1]"
   ]
  },
  {
   "cell_type": "code",
   "execution_count": 55,
   "id": "driven-brief",
   "metadata": {},
   "outputs": [
    {
     "data": {
      "text/plain": [
       "ABC\n",
       "A    9\n",
       "B    8\n",
       "Name: Data, dtype: int64"
      ]
     },
     "execution_count": 55,
     "metadata": {},
     "output_type": "execute_result"
    }
   ],
   "source": [
    "data[data > 5]"
   ]
  },
  {
   "cell_type": "code",
   "execution_count": 58,
   "id": "chronic-fighter",
   "metadata": {},
   "outputs": [
    {
     "data": {
      "text/plain": [
       "[('A', 9), ('B', 8), ('C', 2), ('D', 2), ('E', 4)]"
      ]
     },
     "execution_count": 58,
     "metadata": {},
     "output_type": "execute_result"
    }
   ],
   "source": [
    "list(data.items())"
   ]
  },
  {
   "cell_type": "code",
   "execution_count": 59,
   "id": "actual-chocolate",
   "metadata": {},
   "outputs": [
    {
     "name": "stdout",
     "output_type": "stream",
     "text": [
      "A 9\n",
      "B 8\n",
      "C 2\n",
      "D 2\n",
      "E 4\n"
     ]
    }
   ],
   "source": [
    "for idx, val in data.items():\n",
    "    print(idx, val)"
   ]
  },
  {
   "cell_type": "code",
   "execution_count": 63,
   "id": "faced-insert",
   "metadata": {},
   "outputs": [
    {
     "data": {
      "text/plain": [
       "ABC\n",
       "A     9\n",
       "B    10\n",
       "C     2\n",
       "D     2\n",
       "E     4\n",
       "Name: Data, dtype: int64"
      ]
     },
     "execution_count": 63,
     "metadata": {},
     "output_type": "execute_result"
    }
   ],
   "source": [
    "# 데이터 수정\n",
    "data[\"B\"] = 10\n",
    "data"
   ]
  },
  {
   "cell_type": "code",
   "execution_count": 65,
   "id": "forty-shame",
   "metadata": {},
   "outputs": [
    {
     "data": {
      "text/plain": [
       "ABC\n",
       "A      9\n",
       "B    100\n",
       "C    200\n",
       "D      2\n",
       "E      4\n",
       "Name: Data, dtype: int64"
      ]
     },
     "execution_count": 65,
     "metadata": {},
     "output_type": "execute_result"
    }
   ],
   "source": [
    "data[[\"B\", \"C\"]] = [100, 200]\n",
    "data"
   ]
  },
  {
   "cell_type": "code",
   "execution_count": 68,
   "id": "acquired-computer",
   "metadata": {},
   "outputs": [
    {
     "data": {
      "text/plain": [
       "ABC\n",
       "A    9\n",
       "B    5\n",
       "C    5\n",
       "D    2\n",
       "E    4\n",
       "Name: Data, dtype: int64"
      ]
     },
     "execution_count": 68,
     "metadata": {},
     "output_type": "execute_result"
    }
   ],
   "source": [
    "data[data >= 100] = 5\n",
    "data"
   ]
  },
  {
   "cell_type": "code",
   "execution_count": null,
   "id": "dirty-recovery",
   "metadata": {},
   "outputs": [],
   "source": []
  },
  {
   "cell_type": "code",
   "execution_count": null,
   "id": "agricultural-making",
   "metadata": {},
   "outputs": [],
   "source": []
  },
  {
   "cell_type": "code",
   "execution_count": null,
   "id": "decimal-utilization",
   "metadata": {},
   "outputs": [],
   "source": []
  },
  {
   "cell_type": "code",
   "execution_count": null,
   "id": "foreign-tutorial",
   "metadata": {},
   "outputs": [],
   "source": []
  }
 ],
 "metadata": {
  "kernelspec": {
   "display_name": "Python 3",
   "language": "python",
   "name": "python3"
  },
  "language_info": {
   "codemirror_mode": {
    "name": "ipython",
    "version": 3
   },
   "file_extension": ".py",
   "mimetype": "text/x-python",
   "name": "python",
   "nbconvert_exporter": "python",
   "pygments_lexer": "ipython3",
   "version": "3.8.5"
  }
 },
 "nbformat": 4,
 "nbformat_minor": 5
}
