{
 "cells": [
  {
   "cell_type": "markdown",
   "id": "handed-azerbaijan",
   "metadata": {},
   "source": [
    "### Numpy\n",
    "- python에서 사용하는 과학계산용 패키지\n",
    "- Python의 느린 연산속도를 보완\n",
    "- ndarry 데이터 타입의 배열 객체로 연산\n",
    "- C, C++, 포트란으로 만들어짐"
   ]
  },
  {
   "cell_type": "code",
   "execution_count": 1,
   "id": "radio-recognition",
   "metadata": {},
   "outputs": [],
   "source": [
    "import numpy as np"
   ]
  },
  {
   "cell_type": "markdown",
   "id": "strange-basic",
   "metadata": {},
   "source": [
    "#### 1. ndarray 객체 생성\n",
    "- list와 ndarray의 다른점\n",
    "    - list는 서로 다른 데이터 타입을 사용 가능\n",
    "    - ndarray는 같은 데이터 타입만 사용이 가능\n",
    "    - 연산하는 방법이 다릅니다."
   ]
  },
  {
   "cell_type": "code",
   "execution_count": 5,
   "id": "committed-harrison",
   "metadata": {},
   "outputs": [
    {
     "data": {
      "text/plain": [
       "(list, numpy.ndarray, [1, 2, 3], array([1, 2, 3]))"
      ]
     },
     "execution_count": 5,
     "metadata": {},
     "output_type": "execute_result"
    }
   ],
   "source": [
    "ls = [1, 2, 3]\n",
    "arr = np.array(ls)\n",
    "\n",
    "type(ls), type(arr), ls, arr"
   ]
  },
  {
   "cell_type": "code",
   "execution_count": 7,
   "id": "pursuant-moscow",
   "metadata": {},
   "outputs": [
    {
     "data": {
      "text/plain": [
       "([1, 2, 3, 1, 2, 3], array([2, 4, 6]))"
      ]
     },
     "execution_count": 7,
     "metadata": {},
     "output_type": "execute_result"
    }
   ],
   "source": [
    "ls + ls, arr + arr"
   ]
  },
  {
   "cell_type": "code",
   "execution_count": 8,
   "id": "satisfied-amazon",
   "metadata": {},
   "outputs": [],
   "source": [
    "# 선형대수\n",
    "# 스칼라(5), 벡터([1, 2, 3]), 매트릭스([[1, 2, 3], [4, 5, 6]])"
   ]
  },
  {
   "cell_type": "code",
   "execution_count": 13,
   "id": "endangered-creek",
   "metadata": {},
   "outputs": [
    {
     "data": {
      "text/plain": [
       "(array([1, 2, 3]),\n",
       " array([[1, 2, 3],\n",
       "        [4, 5, 6]]))"
      ]
     },
     "execution_count": 13,
     "metadata": {},
     "output_type": "execute_result"
    }
   ],
   "source": [
    "arr2 = np.array([[1, 2, 3], [4, 5, 6]]) \n",
    "arr, arr2"
   ]
  },
  {
   "cell_type": "code",
   "execution_count": 12,
   "id": "expected-testing",
   "metadata": {},
   "outputs": [
    {
     "data": {
      "text/plain": [
       "(1, 2)"
      ]
     },
     "execution_count": 12,
     "metadata": {},
     "output_type": "execute_result"
    }
   ],
   "source": [
    "# 배열의 차원 확인\n",
    "arr.ndim, arr2.ndim"
   ]
  },
  {
   "cell_type": "code",
   "execution_count": 14,
   "id": "cathedral-notice",
   "metadata": {},
   "outputs": [
    {
     "data": {
      "text/plain": [
       "((3,), (2, 3))"
      ]
     },
     "execution_count": 14,
     "metadata": {},
     "output_type": "execute_result"
    }
   ],
   "source": [
    "# 배열의 모양을 확인\n",
    "arr.shape, arr2.shape"
   ]
  },
  {
   "cell_type": "code",
   "execution_count": 16,
   "id": "invalid-sherman",
   "metadata": {},
   "outputs": [
    {
     "data": {
      "text/plain": [
       "array(['A', 'B', 'C', 'D'], dtype='<U1')"
      ]
     },
     "execution_count": 16,
     "metadata": {},
     "output_type": "execute_result"
    }
   ],
   "source": [
    "arr3 = np.array(list(\"ABCD\"))\n",
    "arr3"
   ]
  },
  {
   "cell_type": "code",
   "execution_count": 18,
   "id": "billion-integer",
   "metadata": {},
   "outputs": [
    {
     "data": {
      "text/plain": [
       "(dtype('int64'), dtype('<U1'))"
      ]
     },
     "execution_count": 18,
     "metadata": {},
     "output_type": "execute_result"
    }
   ],
   "source": [
    "# 배열의 데이터 타입 확인\n",
    "arr.dtype, arr3.dtype"
   ]
  },
  {
   "cell_type": "code",
   "execution_count": 24,
   "id": "instrumental-convergence",
   "metadata": {},
   "outputs": [
    {
     "data": {
      "text/plain": [
       "dtype('float32')"
      ]
     },
     "execution_count": 24,
     "metadata": {},
     "output_type": "execute_result"
    }
   ],
   "source": [
    "# 데이터 타입의 변경\n",
    "arr4 = arr.astype(np.float32)\n",
    "arr4.dtype"
   ]
  },
  {
   "cell_type": "code",
   "execution_count": 25,
   "id": "computational-lithuania",
   "metadata": {},
   "outputs": [],
   "source": [
    "# np.arange()\n",
    "# range와 같은 규칙을 갖습니다. \n",
    "# 결과 데이터가 ndarray 데이터 타입입니다."
   ]
  },
  {
   "cell_type": "code",
   "execution_count": 26,
   "id": "judicial-survey",
   "metadata": {},
   "outputs": [
    {
     "data": {
      "text/plain": [
       "array([0, 1, 2, 3, 4])"
      ]
     },
     "execution_count": 26,
     "metadata": {},
     "output_type": "execute_result"
    }
   ],
   "source": [
    "np.arange(5)"
   ]
  },
  {
   "cell_type": "code",
   "execution_count": 27,
   "id": "norman-passion",
   "metadata": {},
   "outputs": [
    {
     "data": {
      "text/plain": [
       "array([5, 6, 7])"
      ]
     },
     "execution_count": 27,
     "metadata": {},
     "output_type": "execute_result"
    }
   ],
   "source": [
    "np.arange(5, 8)"
   ]
  },
  {
   "cell_type": "code",
   "execution_count": 29,
   "id": "relevant-arbitration",
   "metadata": {},
   "outputs": [
    {
     "data": {
      "text/plain": [
       "array([1, 3, 5, 7])"
      ]
     },
     "execution_count": 29,
     "metadata": {},
     "output_type": "execute_result"
    }
   ],
   "source": [
    "np.arange(1, 8, 2)"
   ]
  },
  {
   "cell_type": "code",
   "execution_count": 30,
   "id": "loose-municipality",
   "metadata": {},
   "outputs": [],
   "source": [
    "# np.zeros() : 0으로 채워진 행렬 데이터를 생성\n",
    "# np.ones() : 1로 채워진 행렬 데이터를 생성"
   ]
  },
  {
   "cell_type": "code",
   "execution_count": 33,
   "id": "sized-concentration",
   "metadata": {},
   "outputs": [
    {
     "data": {
      "text/plain": [
       "array([[[0., 0., 0.],\n",
       "        [0., 0., 0.]],\n",
       "\n",
       "       [[0., 0., 0.],\n",
       "        [0., 0., 0.]]])"
      ]
     },
     "execution_count": 33,
     "metadata": {},
     "output_type": "execute_result"
    }
   ],
   "source": [
    "zero_data = np.zeros((2, 2, 3))\n",
    "zero_data"
   ]
  },
  {
   "cell_type": "code",
   "execution_count": 34,
   "id": "assisted-burns",
   "metadata": {},
   "outputs": [
    {
     "data": {
      "text/plain": [
       "array([[[1., 1., 1.],\n",
       "        [1., 1., 1.]],\n",
       "\n",
       "       [[1., 1., 1.],\n",
       "        [1., 1., 1.]]])"
      ]
     },
     "execution_count": 34,
     "metadata": {},
     "output_type": "execute_result"
    }
   ],
   "source": [
    "one_data = np.ones((2, 2, 3))\n",
    "one_data"
   ]
  },
  {
   "cell_type": "markdown",
   "id": "indonesian-bahrain",
   "metadata": {},
   "source": [
    "#### np.random\n",
    "- rand() : 균등분포로 난수 발생\n",
    "- randn() : 정규분포로 난수 발생\n",
    "- randint() : 정수로 난수 발생(균등분포)"
   ]
  },
  {
   "cell_type": "code",
   "execution_count": 35,
   "id": "heard-force",
   "metadata": {},
   "outputs": [
    {
     "data": {
      "text/plain": [
       "array([0.7052242 , 0.76840205, 0.69672647, 0.42561231, 0.08733437,\n",
       "       0.14647136, 0.97542304, 0.7307141 , 0.49821657, 0.74702739])"
      ]
     },
     "execution_count": 35,
     "metadata": {},
     "output_type": "execute_result"
    }
   ],
   "source": [
    "# 균등분포 : uniform : 0 ~ 1 사이의 float 데이터\n",
    "data = np.random.rand(10)\n",
    "data"
   ]
  },
  {
   "cell_type": "code",
   "execution_count": 37,
   "id": "hundred-breakfast",
   "metadata": {},
   "outputs": [
    {
     "data": {
      "text/plain": [
       "array([-1.47974709, -0.04230415, -1.53377696, -0.14889449, -1.3473551 ,\n",
       "       -0.25096975,  0.61675557,  1.62106347, -1.36553644,  0.57860463])"
      ]
     },
     "execution_count": 37,
     "metadata": {},
     "output_type": "execute_result"
    }
   ],
   "source": [
    "# 정규분포 : gaussian : 0을 기준으로 float 데이터\n",
    "data = np.random.randn(10)\n",
    "data"
   ]
  },
  {
   "cell_type": "code",
   "execution_count": 38,
   "id": "compressed-barbados",
   "metadata": {},
   "outputs": [],
   "source": [
    "# randint : 정수 데이터 타입을 균등분포로 생성"
   ]
  },
  {
   "cell_type": "code",
   "execution_count": 67,
   "id": "damaged-zealand",
   "metadata": {},
   "outputs": [
    {
     "data": {
      "text/plain": [
       "array([[2, 2, 4],\n",
       "       [1, 1, 1]])"
      ]
     },
     "execution_count": 67,
     "metadata": {},
     "output_type": "execute_result"
    }
   ],
   "source": [
    "np.random.randint(5, size=(2, 3))"
   ]
  },
  {
   "cell_type": "code",
   "execution_count": 74,
   "id": "tutorial-siemens",
   "metadata": {},
   "outputs": [
    {
     "data": {
      "text/plain": [
       "array([[ 1, -3,  1],\n",
       "       [-3, -3,  1]])"
      ]
     },
     "execution_count": 74,
     "metadata": {},
     "output_type": "execute_result"
    }
   ],
   "source": [
    "np.random.randint(-3, 5, (2, 3))"
   ]
  },
  {
   "cell_type": "code",
   "execution_count": 76,
   "id": "orange-montana",
   "metadata": {},
   "outputs": [],
   "source": [
    "# seed()\n",
    "# numpy의 랜덤값은 seed 값으로 생성 합니다.\n",
    "# seed 값이 같으면 동일한 랜덤값이 출력됩니다."
   ]
  },
  {
   "cell_type": "code",
   "execution_count": 77,
   "id": "second-brook",
   "metadata": {},
   "outputs": [
    {
     "data": {
      "text/plain": [
       "(array([37, 12, 72,  9, 75,  5, 79, 64, 16,  1]),\n",
       " array([37, 12, 72,  9, 75,  5, 79, 64, 16,  1]),\n",
       " array([40, 15, 72, 22, 43, 82, 75,  7, 34, 49]))"
      ]
     },
     "execution_count": 77,
     "metadata": {},
     "output_type": "execute_result"
    }
   ],
   "source": [
    "np.random.seed(1)\n",
    "data1 = np.random.randint(0, 100, 10)\n",
    "\n",
    "np.random.seed(1)\n",
    "data2 = np.random.randint(0, 100, 10)\n",
    "\n",
    "np.random.seed(2)\n",
    "data3 = np.random.randint(0, 100, 10)\n",
    "\n",
    "data1, data2, data3"
   ]
  },
  {
   "cell_type": "code",
   "execution_count": 79,
   "id": "abandoned-republic",
   "metadata": {},
   "outputs": [],
   "source": [
    "# choice()\n",
    "# 특정 범위의 데이터를 랜덤하게 선택하는데 확률 설정이 가능\n",
    "# 확률 데이터는 모두 합쳤을때 1이 되어야 합니다."
   ]
  },
  {
   "cell_type": "code",
   "execution_count": 86,
   "id": "prepared-birthday",
   "metadata": {},
   "outputs": [
    {
     "data": {
      "text/plain": [
       "array([2, 0, 4, 2, 2, 2, 2, 2, 4, 3])"
      ]
     },
     "execution_count": 86,
     "metadata": {},
     "output_type": "execute_result"
    }
   ],
   "source": [
    "np.random.choice(5, 10, p=[0.1, 0.0, 0.5, 0.2, 0.2])"
   ]
  },
  {
   "cell_type": "markdown",
   "id": "sitting-nancy",
   "metadata": {},
   "source": [
    "#### 2. ndarray 객체에서 데이터 선택"
   ]
  },
  {
   "cell_type": "code",
   "execution_count": 88,
   "id": "smart-prototype",
   "metadata": {},
   "outputs": [
    {
     "data": {
      "text/plain": [
       "array([[3, 1, 4],\n",
       "       [2, 3, 0],\n",
       "       [0, 2, 4]])"
      ]
     },
     "execution_count": 88,
     "metadata": {},
     "output_type": "execute_result"
    }
   ],
   "source": [
    "data = np.random.randint(5, size=(3, 3))\n",
    "data"
   ]
  },
  {
   "cell_type": "code",
   "execution_count": 91,
   "id": "limiting-observation",
   "metadata": {},
   "outputs": [
    {
     "data": {
      "text/plain": [
       "(array([2, 3, 0]), 0, 0)"
      ]
     },
     "execution_count": 91,
     "metadata": {},
     "output_type": "execute_result"
    }
   ],
   "source": [
    "data[1], data[1][2], data[1, 2]"
   ]
  },
  {
   "cell_type": "code",
   "execution_count": 92,
   "id": "modified-stability",
   "metadata": {},
   "outputs": [
    {
     "data": {
      "text/plain": [
       "array([4, 2, 9, 7, 1, 9, 2, 1, 0, 7])"
      ]
     },
     "execution_count": 92,
     "metadata": {},
     "output_type": "execute_result"
    }
   ],
   "source": [
    "data2 = np.random.randint(10, size=10)\n",
    "data2"
   ]
  },
  {
   "cell_type": "code",
   "execution_count": 97,
   "id": "radio-headset",
   "metadata": {},
   "outputs": [
    {
     "data": {
      "text/plain": [
       "(array([4, 2, 9]), array([1, 0, 7]), array([7, 1, 9, 7, 2]))"
      ]
     },
     "execution_count": 97,
     "metadata": {},
     "output_type": "execute_result"
    }
   ],
   "source": [
    "data2[:3], data2[-3:], data2[::-2]"
   ]
  },
  {
   "cell_type": "code",
   "execution_count": 101,
   "id": "unsigned-discipline",
   "metadata": {},
   "outputs": [
    {
     "data": {
      "text/plain": [
       "array([[3, 1, 4],\n",
       "       [2, 3, 0],\n",
       "       [0, 2, 4]])"
      ]
     },
     "execution_count": 101,
     "metadata": {},
     "output_type": "execute_result"
    }
   ],
   "source": [
    "data"
   ]
  },
  {
   "cell_type": "code",
   "execution_count": 99,
   "id": "essential-brazilian",
   "metadata": {},
   "outputs": [
    {
     "data": {
      "text/plain": [
       "array([[2, 3, 0],\n",
       "       [0, 2, 4]])"
      ]
     },
     "execution_count": 99,
     "metadata": {},
     "output_type": "execute_result"
    }
   ],
   "source": [
    "data[1:]"
   ]
  },
  {
   "cell_type": "code",
   "execution_count": 102,
   "id": "secondary-enforcement",
   "metadata": {},
   "outputs": [
    {
     "data": {
      "text/plain": [
       "(array([[0, 2, 4]]),\n",
       " array([[3, 0],\n",
       "        [2, 4]]))"
      ]
     },
     "execution_count": 102,
     "metadata": {},
     "output_type": "execute_result"
    }
   ],
   "source": [
    "data[1:][1:], data[1:, 1:]"
   ]
  },
  {
   "cell_type": "markdown",
   "id": "weighted-graduation",
   "metadata": {},
   "source": [
    "#### 3. ndarray에서 데이터 수정"
   ]
  },
  {
   "cell_type": "code",
   "execution_count": 103,
   "id": "optimum-preference",
   "metadata": {},
   "outputs": [
    {
     "data": {
      "text/plain": [
       "array([4, 2, 9, 7, 1, 9, 2, 1, 0, 7])"
      ]
     },
     "execution_count": 103,
     "metadata": {},
     "output_type": "execute_result"
    }
   ],
   "source": [
    "data2"
   ]
  },
  {
   "cell_type": "code",
   "execution_count": 105,
   "id": "dying-associate",
   "metadata": {},
   "outputs": [
    {
     "data": {
      "text/plain": [
       "array([ 4,  2,  9, 10,  1,  9,  2,  1,  0,  7])"
      ]
     },
     "execution_count": 105,
     "metadata": {},
     "output_type": "execute_result"
    }
   ],
   "source": [
    "data2[3] = 10\n",
    "data2"
   ]
  },
  {
   "cell_type": "code",
   "execution_count": 107,
   "id": "electric-maria",
   "metadata": {},
   "outputs": [
    {
     "data": {
      "text/plain": [
       "array([ 4,  2,  9, 11, 12, 13,  2,  1,  0,  7])"
      ]
     },
     "execution_count": 107,
     "metadata": {},
     "output_type": "execute_result"
    }
   ],
   "source": [
    "# vector = vector\n",
    "data2[3:6] = [11, 12, 13]\n",
    "data2"
   ]
  },
  {
   "cell_type": "code",
   "execution_count": 109,
   "id": "mediterranean-clearing",
   "metadata": {},
   "outputs": [
    {
     "data": {
      "text/plain": [
       "array([ 4,  2,  9, 20, 20, 20,  2,  1,  0,  7])"
      ]
     },
     "execution_count": 109,
     "metadata": {},
     "output_type": "execute_result"
    }
   ],
   "source": [
    "# vector = scala > broadcasting\n",
    "data2[3:6] = 20\n",
    "data2"
   ]
  },
  {
   "cell_type": "code",
   "execution_count": 110,
   "id": "defensive-palace",
   "metadata": {},
   "outputs": [
    {
     "data": {
      "text/plain": [
       "array([[3, 1, 4],\n",
       "       [2, 3, 0],\n",
       "       [0, 2, 4]])"
      ]
     },
     "execution_count": 110,
     "metadata": {},
     "output_type": "execute_result"
    }
   ],
   "source": [
    "data"
   ]
  },
  {
   "cell_type": "code",
   "execution_count": 113,
   "id": "loving-thought",
   "metadata": {},
   "outputs": [
    {
     "data": {
      "text/plain": [
       "array([[ 3,  1,  4],\n",
       "       [ 2, 11, 12],\n",
       "       [ 0, 13, 14]])"
      ]
     },
     "execution_count": 113,
     "metadata": {},
     "output_type": "execute_result"
    }
   ],
   "source": [
    "# matrix = matrix\n",
    "data[1:, 1:] = [[11, 12], [13, 14]]\n",
    "data"
   ]
  },
  {
   "cell_type": "code",
   "execution_count": 115,
   "id": "hungry-source",
   "metadata": {},
   "outputs": [
    {
     "data": {
      "text/plain": [
       "array([[ 3,  1,  4],\n",
       "       [ 2, 21, 22],\n",
       "       [ 0, 21, 22]])"
      ]
     },
     "execution_count": 115,
     "metadata": {},
     "output_type": "execute_result"
    }
   ],
   "source": [
    "# matrix = vector\n",
    "data[1:, 1:] = [21, 22]\n",
    "data"
   ]
  },
  {
   "cell_type": "code",
   "execution_count": 116,
   "id": "organized-benjamin",
   "metadata": {},
   "outputs": [
    {
     "data": {
      "text/plain": [
       "array([[ 3,  1,  4],\n",
       "       [ 2, 30, 30],\n",
       "       [ 0, 30, 30]])"
      ]
     },
     "execution_count": 116,
     "metadata": {},
     "output_type": "execute_result"
    }
   ],
   "source": [
    "# matrix = scala\n",
    "data[1:, 1:] = 30\n",
    "data"
   ]
  },
  {
   "cell_type": "code",
   "execution_count": 117,
   "id": "threatened-recruitment",
   "metadata": {},
   "outputs": [],
   "source": [
    "# reshape() : 배열의 차원 변경"
   ]
  },
  {
   "cell_type": "code",
   "execution_count": 130,
   "id": "charming-ultimate",
   "metadata": {},
   "outputs": [
    {
     "data": {
      "text/plain": [
       "array([[1, 8, 6, 8],\n",
       "       [1, 5, 7, 0],\n",
       "       [9, 1, 5, 9]])"
      ]
     },
     "execution_count": 130,
     "metadata": {},
     "output_type": "execute_result"
    }
   ],
   "source": [
    "data = np.random.randint(10, size=(3, 4))\n",
    "data"
   ]
  },
  {
   "cell_type": "code",
   "execution_count": 131,
   "id": "correct-dinner",
   "metadata": {},
   "outputs": [
    {
     "data": {
      "text/plain": [
       "array([[[1, 8, 6],\n",
       "        [8, 1, 5]],\n",
       "\n",
       "       [[7, 0, 9],\n",
       "        [1, 5, 9]]])"
      ]
     },
     "execution_count": 131,
     "metadata": {},
     "output_type": "execute_result"
    }
   ],
   "source": [
    "data.reshape(2, 2, 3)"
   ]
  },
  {
   "cell_type": "code",
   "execution_count": 132,
   "id": "frank-dubai",
   "metadata": {},
   "outputs": [
    {
     "data": {
      "text/plain": [
       "array([[1, 8, 6],\n",
       "       [8, 1, 5],\n",
       "       [7, 0, 9],\n",
       "       [1, 5, 9]])"
      ]
     },
     "execution_count": 132,
     "metadata": {},
     "output_type": "execute_result"
    }
   ],
   "source": [
    "data.reshape(4, -1)"
   ]
  },
  {
   "cell_type": "code",
   "execution_count": 134,
   "id": "future-weekly",
   "metadata": {},
   "outputs": [
    {
     "data": {
      "text/plain": [
       "(array([[0, 0, 0, 0],\n",
       "        [0, 0, 0, 0],\n",
       "        [0, 0, 0, 0]]),\n",
       " array([[1, 1, 1, 1],\n",
       "        [1, 1, 1, 1],\n",
       "        [1, 1, 1, 1]]))"
      ]
     },
     "execution_count": 134,
     "metadata": {},
     "output_type": "execute_result"
    }
   ],
   "source": [
    "np.zeros_like(data), np.ones_like(data)"
   ]
  },
  {
   "cell_type": "code",
   "execution_count": 135,
   "id": "identical-general",
   "metadata": {},
   "outputs": [],
   "source": [
    "# ndarray의 연산"
   ]
  },
  {
   "cell_type": "code",
   "execution_count": 138,
   "id": "transsexual-interstate",
   "metadata": {},
   "outputs": [],
   "source": [
    "data1 = np.array([1, 2, 3])\n",
    "data2 = np.array([1, 2, 3, 4])\n",
    "data3 = np.random.randint(5, size=(4, 3))"
   ]
  },
  {
   "cell_type": "code",
   "execution_count": 139,
   "id": "mathematical-context",
   "metadata": {},
   "outputs": [
    {
     "data": {
      "text/plain": [
       "(array([1, 2, 3]),\n",
       " array([1, 2, 3, 4]),\n",
       " array([[3, 3, 2],\n",
       "        [4, 0, 3],\n",
       "        [0, 0, 4],\n",
       "        [1, 3, 3]]))"
      ]
     },
     "execution_count": 139,
     "metadata": {},
     "output_type": "execute_result"
    }
   ],
   "source": [
    "data1, data2, data3"
   ]
  },
  {
   "cell_type": "code",
   "execution_count": 140,
   "id": "mature-genre",
   "metadata": {},
   "outputs": [
    {
     "data": {
      "text/plain": [
       "array([[4, 5, 5],\n",
       "       [5, 2, 6],\n",
       "       [1, 2, 7],\n",
       "       [2, 5, 6]])"
      ]
     },
     "execution_count": 140,
     "metadata": {},
     "output_type": "execute_result"
    }
   ],
   "source": [
    "data3 + data1"
   ]
  },
  {
   "cell_type": "code",
   "execution_count": 146,
   "id": "amateur-consideration",
   "metadata": {},
   "outputs": [
    {
     "data": {
      "text/plain": [
       "array([[1],\n",
       "       [2],\n",
       "       [3],\n",
       "       [4]])"
      ]
     },
     "execution_count": 146,
     "metadata": {},
     "output_type": "execute_result"
    }
   ],
   "source": [
    "data2.reshape(-1, 1)"
   ]
  },
  {
   "cell_type": "code",
   "execution_count": 147,
   "id": "acceptable-distinction",
   "metadata": {},
   "outputs": [
    {
     "data": {
      "text/plain": [
       "array([[3, 3, 2],\n",
       "       [4, 0, 3],\n",
       "       [0, 0, 4],\n",
       "       [1, 3, 3]])"
      ]
     },
     "execution_count": 147,
     "metadata": {},
     "output_type": "execute_result"
    }
   ],
   "source": [
    "data3"
   ]
  },
  {
   "cell_type": "code",
   "execution_count": 148,
   "id": "august-injury",
   "metadata": {},
   "outputs": [
    {
     "data": {
      "text/plain": [
       "array([[4, 4, 3],\n",
       "       [6, 2, 5],\n",
       "       [3, 3, 7],\n",
       "       [5, 7, 7]])"
      ]
     },
     "execution_count": 148,
     "metadata": {},
     "output_type": "execute_result"
    }
   ],
   "source": [
    "data3 + data2.reshape(4, 1)"
   ]
  },
  {
   "cell_type": "code",
   "execution_count": 149,
   "id": "optimum-circumstances",
   "metadata": {},
   "outputs": [],
   "source": [
    "# 비교연산 : masking : [] > 필터링 기능"
   ]
  },
  {
   "cell_type": "code",
   "execution_count": 150,
   "id": "equipped-region",
   "metadata": {},
   "outputs": [
    {
     "data": {
      "text/plain": [
       "array([[3, 3, 2],\n",
       "       [4, 0, 3],\n",
       "       [0, 0, 4],\n",
       "       [1, 3, 3]])"
      ]
     },
     "execution_count": 150,
     "metadata": {},
     "output_type": "execute_result"
    }
   ],
   "source": [
    "data3"
   ]
  },
  {
   "cell_type": "code",
   "execution_count": 151,
   "id": "postal-catering",
   "metadata": {},
   "outputs": [
    {
     "data": {
      "text/plain": [
       "array([[ True,  True,  True],\n",
       "       [ True, False,  True],\n",
       "       [False, False,  True],\n",
       "       [False,  True,  True]])"
      ]
     },
     "execution_count": 151,
     "metadata": {},
     "output_type": "execute_result"
    }
   ],
   "source": [
    "data3 >= 2"
   ]
  },
  {
   "cell_type": "code",
   "execution_count": 152,
   "id": "hawaiian-mechanics",
   "metadata": {},
   "outputs": [
    {
     "data": {
      "text/plain": [
       "array([3, 3, 2, 4, 3, 4, 3, 3])"
      ]
     },
     "execution_count": 152,
     "metadata": {},
     "output_type": "execute_result"
    }
   ],
   "source": [
    "data3[data3 >= 2]"
   ]
  },
  {
   "cell_type": "code",
   "execution_count": 153,
   "id": "applied-iceland",
   "metadata": {},
   "outputs": [
    {
     "data": {
      "text/plain": [
       "array([[10, 10, 10],\n",
       "       [10,  0, 10],\n",
       "       [ 0,  0, 10],\n",
       "       [ 1, 10, 10]])"
      ]
     },
     "execution_count": 153,
     "metadata": {},
     "output_type": "execute_result"
    }
   ],
   "source": [
    "data3[data3 >= 2] = 10\n",
    "data3"
   ]
  },
  {
   "cell_type": "code",
   "execution_count": 154,
   "id": "following-classics",
   "metadata": {},
   "outputs": [
    {
     "data": {
      "text/plain": [
       "array([[3, 2, 6],\n",
       "       [5, 5, 2]])"
      ]
     },
     "execution_count": 154,
     "metadata": {},
     "output_type": "execute_result"
    }
   ],
   "source": [
    "# np.where(condition, True, False)\n",
    "data = np.random.randint(10, size=(2, 3))\n",
    "data"
   ]
  },
  {
   "cell_type": "code",
   "execution_count": 155,
   "id": "national-creature",
   "metadata": {},
   "outputs": [
    {
     "data": {
      "text/plain": [
       "array([[ 0,  0, 10],\n",
       "       [10, 10,  0]])"
      ]
     },
     "execution_count": 155,
     "metadata": {},
     "output_type": "execute_result"
    }
   ],
   "source": [
    "np.where(data < 5, 0, 10)"
   ]
  },
  {
   "cell_type": "code",
   "execution_count": 156,
   "id": "greek-coupon",
   "metadata": {},
   "outputs": [],
   "source": [
    "# 논리 연산\n",
    "# all : and : 행렬 데이터를 비교 연산한 결과가 하나라도 False이면 False\n",
    "# any : or  : 행렬 데이터를 비교 연산한 결과가 하나라도 True이면 True"
   ]
  },
  {
   "cell_type": "code",
   "execution_count": 157,
   "id": "dutch-rehabilitation",
   "metadata": {},
   "outputs": [
    {
     "data": {
      "text/plain": [
       "(array([1, 2, 3]), array([1, 2, 3]), array([1, 0, 3]))"
      ]
     },
     "execution_count": 157,
     "metadata": {},
     "output_type": "execute_result"
    }
   ],
   "source": [
    "data1 = np.array([1, 2, 3])\n",
    "data2 = np.array([1, 2, 3])\n",
    "data3 = np.array([1, 0, 3])\n",
    "\n",
    "data1, data2, data3"
   ]
  },
  {
   "cell_type": "code",
   "execution_count": 158,
   "id": "forbidden-texture",
   "metadata": {},
   "outputs": [
    {
     "data": {
      "text/plain": [
       "(array([ True,  True,  True]), array([ True, False,  True]))"
      ]
     },
     "execution_count": 158,
     "metadata": {},
     "output_type": "execute_result"
    }
   ],
   "source": [
    "data1 == data2, data1 == data3"
   ]
  },
  {
   "cell_type": "code",
   "execution_count": 159,
   "id": "ignored-switch",
   "metadata": {},
   "outputs": [
    {
     "data": {
      "text/plain": [
       "(True, False)"
      ]
     },
     "execution_count": 159,
     "metadata": {},
     "output_type": "execute_result"
    }
   ],
   "source": [
    "np.all(data1 == data2), np.all(data1 == data3)"
   ]
  },
  {
   "cell_type": "code",
   "execution_count": 160,
   "id": "expected-unknown",
   "metadata": {},
   "outputs": [
    {
     "data": {
      "text/plain": [
       "(True, True)"
      ]
     },
     "execution_count": 160,
     "metadata": {},
     "output_type": "execute_result"
    }
   ],
   "source": [
    "np.any(data1 == data2), np.any(data1 == data3)"
   ]
  },
  {
   "cell_type": "code",
   "execution_count": 161,
   "id": "anticipated-standing",
   "metadata": {},
   "outputs": [
    {
     "data": {
      "text/plain": [
       "array([[5, 6, 1, 5],\n",
       "       [0, 5, 4, 8],\n",
       "       [3, 7, 5, 9]])"
      ]
     },
     "execution_count": 161,
     "metadata": {},
     "output_type": "execute_result"
    }
   ],
   "source": [
    "data = np.random.randint(10, size=(3, 4))\n",
    "data"
   ]
  },
  {
   "cell_type": "code",
   "execution_count": null,
   "id": "spare-packing",
   "metadata": {},
   "outputs": [],
   "source": [
    "# 8이상인 데이터가 있는 row 만 출력"
   ]
  },
  {
   "cell_type": "code",
   "execution_count": 163,
   "id": "amended-greek",
   "metadata": {},
   "outputs": [
    {
     "data": {
      "text/plain": [
       "array([[False, False, False, False],\n",
       "       [False, False, False,  True],\n",
       "       [False, False, False,  True]])"
      ]
     },
     "execution_count": 163,
     "metadata": {},
     "output_type": "execute_result"
    }
   ],
   "source": [
    "data >= 8"
   ]
  },
  {
   "cell_type": "code",
   "execution_count": 175,
   "id": "expected-huntington",
   "metadata": {},
   "outputs": [
    {
     "data": {
      "text/plain": [
       "array([False,  True,  True])"
      ]
     },
     "execution_count": 175,
     "metadata": {},
     "output_type": "execute_result"
    }
   ],
   "source": [
    "# axis : 1(가로축), 0(세로축)\n",
    "row = np.any(data >= 8, axis=1)\n",
    "row"
   ]
  },
  {
   "cell_type": "code",
   "execution_count": 176,
   "id": "employed-triumph",
   "metadata": {},
   "outputs": [
    {
     "data": {
      "text/plain": [
       "array([False, False, False,  True])"
      ]
     },
     "execution_count": 176,
     "metadata": {},
     "output_type": "execute_result"
    }
   ],
   "source": [
    "column = np.any(data >= 8, axis=0)\n",
    "column"
   ]
  },
  {
   "cell_type": "code",
   "execution_count": 182,
   "id": "sweet-tutorial",
   "metadata": {},
   "outputs": [
    {
     "data": {
      "text/plain": [
       "array([[5, 6, 1, 5],\n",
       "       [0, 5, 4, 8],\n",
       "       [3, 7, 5, 9]])"
      ]
     },
     "execution_count": 182,
     "metadata": {},
     "output_type": "execute_result"
    }
   ],
   "source": [
    "data"
   ]
  },
  {
   "cell_type": "code",
   "execution_count": 183,
   "id": "governing-channel",
   "metadata": {},
   "outputs": [
    {
     "data": {
      "text/plain": [
       "array([[0, 5, 4, 8],\n",
       "       [3, 7, 5, 9]])"
      ]
     },
     "execution_count": 183,
     "metadata": {},
     "output_type": "execute_result"
    }
   ],
   "source": [
    "data[1:]"
   ]
  },
  {
   "cell_type": "code",
   "execution_count": 184,
   "id": "approved-location",
   "metadata": {},
   "outputs": [
    {
     "data": {
      "text/plain": [
       "array([[1, 5],\n",
       "       [4, 8],\n",
       "       [5, 9]])"
      ]
     },
     "execution_count": 184,
     "metadata": {},
     "output_type": "execute_result"
    }
   ],
   "source": [
    "data[:, 2:]"
   ]
  },
  {
   "cell_type": "code",
   "execution_count": 177,
   "id": "dress-wisdom",
   "metadata": {},
   "outputs": [
    {
     "data": {
      "text/plain": [
       "array([[0, 5, 4, 8],\n",
       "       [3, 7, 5, 9]])"
      ]
     },
     "execution_count": 177,
     "metadata": {},
     "output_type": "execute_result"
    }
   ],
   "source": [
    "data[row]"
   ]
  },
  {
   "cell_type": "code",
   "execution_count": 185,
   "id": "lesbian-pregnancy",
   "metadata": {},
   "outputs": [
    {
     "data": {
      "text/plain": [
       "array([8, 9])"
      ]
     },
     "execution_count": 185,
     "metadata": {},
     "output_type": "execute_result"
    }
   ],
   "source": [
    "data[row, column]"
   ]
  },
  {
   "cell_type": "code",
   "execution_count": 186,
   "id": "appointed-secret",
   "metadata": {},
   "outputs": [],
   "source": [
    "# quiz 1. 60 ~ 100점 까지 10점 단위로 10 * 5행렬 데이터를 랜덤하게 생성하세요.\n",
    "# 학생수 10명, 과목수 5과목 "
   ]
  },
  {
   "cell_type": "code",
   "execution_count": 188,
   "id": "comprehensive-friendship",
   "metadata": {},
   "outputs": [
    {
     "data": {
      "text/plain": [
       "array([[ 70,  80,  90,  80,  90],\n",
       "       [100,  60, 100, 100,  80],\n",
       "       [ 70,  90,  70,  70,  70],\n",
       "       [ 70,  90,  60,  60,  60],\n",
       "       [ 80,  60,  90,  60,  90],\n",
       "       [ 70, 100,  70,  80,  70],\n",
       "       [ 80,  90,  70,  90,  80],\n",
       "       [100,  90,  80, 100, 100],\n",
       "       [ 80,  90,  80, 100,  80],\n",
       "       [ 80,  90,  80,  90,  90]])"
      ]
     },
     "execution_count": 188,
     "metadata": {},
     "output_type": "execute_result"
    }
   ],
   "source": [
    "datas = np.random.randint(6, 11, size=(10, 5)) * 10\n",
    "datas"
   ]
  },
  {
   "cell_type": "code",
   "execution_count": null,
   "id": "hungarian-render",
   "metadata": {},
   "outputs": [],
   "source": [
    "# quiz 2. 학생별 총점과 평균 데이터를 ndarry로 만드세요.\n",
    "# datas.shape"
   ]
  },
  {
   "cell_type": "code",
   "execution_count": 189,
   "id": "bulgarian-engine",
   "metadata": {},
   "outputs": [
    {
     "data": {
      "text/plain": [
       "(10, 5)"
      ]
     },
     "execution_count": 189,
     "metadata": {},
     "output_type": "execute_result"
    }
   ],
   "source": [
    "datas.shape"
   ]
  },
  {
   "cell_type": "code",
   "execution_count": 208,
   "id": "excess-philip",
   "metadata": {},
   "outputs": [
    {
     "data": {
      "text/plain": [
       "array([410., 440., 370., 340., 380., 390., 410., 470., 430., 430.])"
      ]
     },
     "execution_count": 208,
     "metadata": {},
     "output_type": "execute_result"
    }
   ],
   "source": [
    "total_data = np.zeros((datas.shape[0], 1))\n",
    "\n",
    "for idx in range(datas.shape[1]):\n",
    "    total_data += datas[:, idx:idx+1]\n",
    "\n",
    "total_data = total_data.reshape(datas.shape[0])\n",
    "total_data"
   ]
  },
  {
   "cell_type": "code",
   "execution_count": 209,
   "id": "beneficial-tongue",
   "metadata": {},
   "outputs": [
    {
     "data": {
      "text/plain": [
       "array([82., 88., 74., 68., 76., 78., 82., 94., 86., 86.])"
      ]
     },
     "execution_count": 209,
     "metadata": {},
     "output_type": "execute_result"
    }
   ],
   "source": [
    "avg_data = total_data / datas.shape[1]\n",
    "avg_data"
   ]
  },
  {
   "cell_type": "code",
   "execution_count": 211,
   "id": "sophisticated-brunswick",
   "metadata": {},
   "outputs": [
    {
     "data": {
      "text/plain": [
       "array([82., 88., 74., 68., 76., 78., 82., 94., 86., 86.])"
      ]
     },
     "execution_count": 211,
     "metadata": {},
     "output_type": "execute_result"
    }
   ],
   "source": [
    "avg_data = np.average(datas, axis=1)\n",
    "avg_data"
   ]
  },
  {
   "cell_type": "code",
   "execution_count": 212,
   "id": "emerging-booking",
   "metadata": {},
   "outputs": [],
   "source": [
    "# quiz 3. 평균 80점이상이 학생들의 데이터만 출력"
   ]
  },
  {
   "cell_type": "code",
   "execution_count": 216,
   "id": "hollywood-matter",
   "metadata": {},
   "outputs": [
    {
     "data": {
      "text/plain": [
       "array([[ 70,  80,  90,  80,  90],\n",
       "       [100,  60, 100, 100,  80],\n",
       "       [ 80,  90,  70,  90,  80],\n",
       "       [100,  90,  80, 100, 100],\n",
       "       [ 80,  90,  80, 100,  80],\n",
       "       [ 80,  90,  80,  90,  90]])"
      ]
     },
     "execution_count": 216,
     "metadata": {},
     "output_type": "execute_result"
    }
   ],
   "source": [
    "datas[avg_data >= 80]"
   ]
  },
  {
   "cell_type": "code",
   "execution_count": 218,
   "id": "following-zealand",
   "metadata": {},
   "outputs": [],
   "source": [
    "# c_, r_ : column이나 row로 데이터를 붙일때 사용"
   ]
  },
  {
   "cell_type": "code",
   "execution_count": 221,
   "id": "moved-butterfly",
   "metadata": {},
   "outputs": [
    {
     "data": {
      "text/plain": [
       "(array([[1, 2],\n",
       "        [3, 4]]),\n",
       " array([5, 6]))"
      ]
     },
     "execution_count": 221,
     "metadata": {},
     "output_type": "execute_result"
    }
   ],
   "source": [
    "data1 = np.array([[1, 2], [3, 4]])\n",
    "data2 = np.array([5, 6])\n",
    "data1, data2"
   ]
  },
  {
   "cell_type": "code",
   "execution_count": 224,
   "id": "equipped-briefs",
   "metadata": {},
   "outputs": [
    {
     "data": {
      "text/plain": [
       "array([[1, 2, 5],\n",
       "       [3, 4, 6]])"
      ]
     },
     "execution_count": 224,
     "metadata": {},
     "output_type": "execute_result"
    }
   ],
   "source": [
    "np.c_[data1, data2]"
   ]
  },
  {
   "cell_type": "code",
   "execution_count": 226,
   "id": "valid-fundamentals",
   "metadata": {},
   "outputs": [
    {
     "data": {
      "text/plain": [
       "array([[1, 2],\n",
       "       [3, 4],\n",
       "       [5, 6]])"
      ]
     },
     "execution_count": 226,
     "metadata": {},
     "output_type": "execute_result"
    }
   ],
   "source": [
    "np.r_[data1, [data2]]"
   ]
  },
  {
   "cell_type": "code",
   "execution_count": 227,
   "id": "nuclear-thought",
   "metadata": {},
   "outputs": [],
   "source": [
    "# 총점과 평균을 데이터에 붙이기"
   ]
  },
  {
   "cell_type": "code",
   "execution_count": 230,
   "id": "effective-privilege",
   "metadata": {},
   "outputs": [
    {
     "data": {
      "text/plain": [
       "(array([410., 440., 370., 340., 380., 390., 410., 470., 430., 430.]),\n",
       " array([82., 88., 74., 68., 76., 78., 82., 94., 86., 86.]))"
      ]
     },
     "execution_count": 230,
     "metadata": {},
     "output_type": "execute_result"
    }
   ],
   "source": [
    "total_data, avg_data"
   ]
  },
  {
   "cell_type": "code",
   "execution_count": 232,
   "id": "inappropriate-locator",
   "metadata": {},
   "outputs": [
    {
     "data": {
      "text/plain": [
       "array([[ 70.,  80.,  90.,  80.,  90., 410.,  82.],\n",
       "       [100.,  60., 100., 100.,  80., 440.,  88.],\n",
       "       [ 70.,  90.,  70.,  70.,  70., 370.,  74.],\n",
       "       [ 70.,  90.,  60.,  60.,  60., 340.,  68.],\n",
       "       [ 80.,  60.,  90.,  60.,  90., 380.,  76.],\n",
       "       [ 70., 100.,  70.,  80.,  70., 390.,  78.],\n",
       "       [ 80.,  90.,  70.,  90.,  80., 410.,  82.],\n",
       "       [100.,  90.,  80., 100., 100., 470.,  94.],\n",
       "       [ 80.,  90.,  80., 100.,  80., 430.,  86.],\n",
       "       [ 80.,  90.,  80.,  90.,  90., 430.,  86.]])"
      ]
     },
     "execution_count": 232,
     "metadata": {},
     "output_type": "execute_result"
    }
   ],
   "source": [
    "result_data = np.c_[datas, total_data, avg_data] \n",
    "result_data"
   ]
  },
  {
   "cell_type": "code",
   "execution_count": 233,
   "id": "impossible-citation",
   "metadata": {},
   "outputs": [],
   "source": [
    "import pandas as pd"
   ]
  },
  {
   "cell_type": "code",
   "execution_count": 238,
   "id": "north-message",
   "metadata": {},
   "outputs": [
    {
     "data": {
      "text/html": [
       "<div>\n",
       "<style scoped>\n",
       "    .dataframe tbody tr th:only-of-type {\n",
       "        vertical-align: middle;\n",
       "    }\n",
       "\n",
       "    .dataframe tbody tr th {\n",
       "        vertical-align: top;\n",
       "    }\n",
       "\n",
       "    .dataframe thead th {\n",
       "        text-align: right;\n",
       "    }\n",
       "</style>\n",
       "<table border=\"1\" class=\"dataframe\">\n",
       "  <thead>\n",
       "    <tr style=\"text-align: right;\">\n",
       "      <th></th>\n",
       "      <th>국어</th>\n",
       "      <th>영어</th>\n",
       "      <th>수학</th>\n",
       "      <th>과학</th>\n",
       "      <th>코딩</th>\n",
       "      <th>총점</th>\n",
       "      <th>평균</th>\n",
       "    </tr>\n",
       "  </thead>\n",
       "  <tbody>\n",
       "    <tr>\n",
       "      <th>0</th>\n",
       "      <td>70</td>\n",
       "      <td>80</td>\n",
       "      <td>90</td>\n",
       "      <td>80</td>\n",
       "      <td>90</td>\n",
       "      <td>410</td>\n",
       "      <td>82</td>\n",
       "    </tr>\n",
       "    <tr>\n",
       "      <th>1</th>\n",
       "      <td>100</td>\n",
       "      <td>60</td>\n",
       "      <td>100</td>\n",
       "      <td>100</td>\n",
       "      <td>80</td>\n",
       "      <td>440</td>\n",
       "      <td>88</td>\n",
       "    </tr>\n",
       "    <tr>\n",
       "      <th>2</th>\n",
       "      <td>70</td>\n",
       "      <td>90</td>\n",
       "      <td>70</td>\n",
       "      <td>70</td>\n",
       "      <td>70</td>\n",
       "      <td>370</td>\n",
       "      <td>74</td>\n",
       "    </tr>\n",
       "    <tr>\n",
       "      <th>3</th>\n",
       "      <td>70</td>\n",
       "      <td>90</td>\n",
       "      <td>60</td>\n",
       "      <td>60</td>\n",
       "      <td>60</td>\n",
       "      <td>340</td>\n",
       "      <td>68</td>\n",
       "    </tr>\n",
       "    <tr>\n",
       "      <th>4</th>\n",
       "      <td>80</td>\n",
       "      <td>60</td>\n",
       "      <td>90</td>\n",
       "      <td>60</td>\n",
       "      <td>90</td>\n",
       "      <td>380</td>\n",
       "      <td>76</td>\n",
       "    </tr>\n",
       "    <tr>\n",
       "      <th>5</th>\n",
       "      <td>70</td>\n",
       "      <td>100</td>\n",
       "      <td>70</td>\n",
       "      <td>80</td>\n",
       "      <td>70</td>\n",
       "      <td>390</td>\n",
       "      <td>78</td>\n",
       "    </tr>\n",
       "    <tr>\n",
       "      <th>6</th>\n",
       "      <td>80</td>\n",
       "      <td>90</td>\n",
       "      <td>70</td>\n",
       "      <td>90</td>\n",
       "      <td>80</td>\n",
       "      <td>410</td>\n",
       "      <td>82</td>\n",
       "    </tr>\n",
       "    <tr>\n",
       "      <th>7</th>\n",
       "      <td>100</td>\n",
       "      <td>90</td>\n",
       "      <td>80</td>\n",
       "      <td>100</td>\n",
       "      <td>100</td>\n",
       "      <td>470</td>\n",
       "      <td>94</td>\n",
       "    </tr>\n",
       "    <tr>\n",
       "      <th>8</th>\n",
       "      <td>80</td>\n",
       "      <td>90</td>\n",
       "      <td>80</td>\n",
       "      <td>100</td>\n",
       "      <td>80</td>\n",
       "      <td>430</td>\n",
       "      <td>86</td>\n",
       "    </tr>\n",
       "    <tr>\n",
       "      <th>9</th>\n",
       "      <td>80</td>\n",
       "      <td>90</td>\n",
       "      <td>80</td>\n",
       "      <td>90</td>\n",
       "      <td>90</td>\n",
       "      <td>430</td>\n",
       "      <td>86</td>\n",
       "    </tr>\n",
       "  </tbody>\n",
       "</table>\n",
       "</div>"
      ],
      "text/plain": [
       "    국어   영어   수학   과학   코딩   총점  평균\n",
       "0   70   80   90   80   90  410  82\n",
       "1  100   60  100  100   80  440  88\n",
       "2   70   90   70   70   70  370  74\n",
       "3   70   90   60   60   60  340  68\n",
       "4   80   60   90   60   90  380  76\n",
       "5   70  100   70   80   70  390  78\n",
       "6   80   90   70   90   80  410  82\n",
       "7  100   90   80  100  100  470  94\n",
       "8   80   90   80  100   80  430  86\n",
       "9   80   90   80   90   90  430  86"
      ]
     },
     "execution_count": 238,
     "metadata": {},
     "output_type": "execute_result"
    }
   ],
   "source": [
    "columns = [\"국어\", \"영어\", \"수학\", \"과학\", \"코딩\", \"총점\", \"평균\"]\n",
    "df = pd.DataFrame(result_data, columns=columns)\n",
    "df = df.astype(np.int)\n",
    "df"
   ]
  },
  {
   "cell_type": "code",
   "execution_count": 241,
   "id": "ideal-essence",
   "metadata": {},
   "outputs": [
    {
     "data": {
      "text/html": [
       "<div>\n",
       "<style scoped>\n",
       "    .dataframe tbody tr th:only-of-type {\n",
       "        vertical-align: middle;\n",
       "    }\n",
       "\n",
       "    .dataframe tbody tr th {\n",
       "        vertical-align: top;\n",
       "    }\n",
       "\n",
       "    .dataframe thead th {\n",
       "        text-align: right;\n",
       "    }\n",
       "</style>\n",
       "<table border=\"1\" class=\"dataframe\">\n",
       "  <thead>\n",
       "    <tr style=\"text-align: right;\">\n",
       "      <th></th>\n",
       "      <th>국어</th>\n",
       "      <th>영어</th>\n",
       "      <th>수학</th>\n",
       "      <th>과학</th>\n",
       "      <th>코딩</th>\n",
       "      <th>총점</th>\n",
       "      <th>평균</th>\n",
       "      <th>PASS/FAIL</th>\n",
       "    </tr>\n",
       "  </thead>\n",
       "  <tbody>\n",
       "    <tr>\n",
       "      <th>0</th>\n",
       "      <td>70</td>\n",
       "      <td>80</td>\n",
       "      <td>90</td>\n",
       "      <td>80</td>\n",
       "      <td>90</td>\n",
       "      <td>410</td>\n",
       "      <td>82</td>\n",
       "      <td>PASS</td>\n",
       "    </tr>\n",
       "    <tr>\n",
       "      <th>1</th>\n",
       "      <td>100</td>\n",
       "      <td>60</td>\n",
       "      <td>100</td>\n",
       "      <td>100</td>\n",
       "      <td>80</td>\n",
       "      <td>440</td>\n",
       "      <td>88</td>\n",
       "      <td>PASS</td>\n",
       "    </tr>\n",
       "    <tr>\n",
       "      <th>2</th>\n",
       "      <td>70</td>\n",
       "      <td>90</td>\n",
       "      <td>70</td>\n",
       "      <td>70</td>\n",
       "      <td>70</td>\n",
       "      <td>370</td>\n",
       "      <td>74</td>\n",
       "      <td>FAIL</td>\n",
       "    </tr>\n",
       "    <tr>\n",
       "      <th>3</th>\n",
       "      <td>70</td>\n",
       "      <td>90</td>\n",
       "      <td>60</td>\n",
       "      <td>60</td>\n",
       "      <td>60</td>\n",
       "      <td>340</td>\n",
       "      <td>68</td>\n",
       "      <td>FAIL</td>\n",
       "    </tr>\n",
       "    <tr>\n",
       "      <th>4</th>\n",
       "      <td>80</td>\n",
       "      <td>60</td>\n",
       "      <td>90</td>\n",
       "      <td>60</td>\n",
       "      <td>90</td>\n",
       "      <td>380</td>\n",
       "      <td>76</td>\n",
       "      <td>FAIL</td>\n",
       "    </tr>\n",
       "    <tr>\n",
       "      <th>5</th>\n",
       "      <td>70</td>\n",
       "      <td>100</td>\n",
       "      <td>70</td>\n",
       "      <td>80</td>\n",
       "      <td>70</td>\n",
       "      <td>390</td>\n",
       "      <td>78</td>\n",
       "      <td>FAIL</td>\n",
       "    </tr>\n",
       "    <tr>\n",
       "      <th>6</th>\n",
       "      <td>80</td>\n",
       "      <td>90</td>\n",
       "      <td>70</td>\n",
       "      <td>90</td>\n",
       "      <td>80</td>\n",
       "      <td>410</td>\n",
       "      <td>82</td>\n",
       "      <td>PASS</td>\n",
       "    </tr>\n",
       "    <tr>\n",
       "      <th>7</th>\n",
       "      <td>100</td>\n",
       "      <td>90</td>\n",
       "      <td>80</td>\n",
       "      <td>100</td>\n",
       "      <td>100</td>\n",
       "      <td>470</td>\n",
       "      <td>94</td>\n",
       "      <td>PASS</td>\n",
       "    </tr>\n",
       "    <tr>\n",
       "      <th>8</th>\n",
       "      <td>80</td>\n",
       "      <td>90</td>\n",
       "      <td>80</td>\n",
       "      <td>100</td>\n",
       "      <td>80</td>\n",
       "      <td>430</td>\n",
       "      <td>86</td>\n",
       "      <td>PASS</td>\n",
       "    </tr>\n",
       "    <tr>\n",
       "      <th>9</th>\n",
       "      <td>80</td>\n",
       "      <td>90</td>\n",
       "      <td>80</td>\n",
       "      <td>90</td>\n",
       "      <td>90</td>\n",
       "      <td>430</td>\n",
       "      <td>86</td>\n",
       "      <td>PASS</td>\n",
       "    </tr>\n",
       "  </tbody>\n",
       "</table>\n",
       "</div>"
      ],
      "text/plain": [
       "    국어   영어   수학   과학   코딩   총점  평균 PASS/FAIL\n",
       "0   70   80   90   80   90  410  82      PASS\n",
       "1  100   60  100  100   80  440  88      PASS\n",
       "2   70   90   70   70   70  370  74      FAIL\n",
       "3   70   90   60   60   60  340  68      FAIL\n",
       "4   80   60   90   60   90  380  76      FAIL\n",
       "5   70  100   70   80   70  390  78      FAIL\n",
       "6   80   90   70   90   80  410  82      PASS\n",
       "7  100   90   80  100  100  470  94      PASS\n",
       "8   80   90   80  100   80  430  86      PASS\n",
       "9   80   90   80   90   90  430  86      PASS"
      ]
     },
     "execution_count": 241,
     "metadata": {},
     "output_type": "execute_result"
    }
   ],
   "source": [
    "df[\"PASS/FAIL\"] = df[\"평균\"].apply(lambda data: \"PASS\" if data >= 80 else \"FAIL\")\n",
    "df"
   ]
  },
  {
   "cell_type": "markdown",
   "id": "directed-equality",
   "metadata": {},
   "source": [
    "#### 유용한 함수들\n",
    "- sum, mean(average), median, var, str, min, max ... "
   ]
  },
  {
   "cell_type": "code",
   "execution_count": 244,
   "id": "exclusive-infrared",
   "metadata": {},
   "outputs": [
    {
     "data": {
      "text/plain": [
       "4070"
      ]
     },
     "execution_count": 244,
     "metadata": {},
     "output_type": "execute_result"
    }
   ],
   "source": [
    "np.sum(datas)"
   ]
  },
  {
   "cell_type": "code",
   "execution_count": 245,
   "id": "third-circumstances",
   "metadata": {},
   "outputs": [
    {
     "data": {
      "text/plain": [
       "array([410, 440, 370, 340, 380, 390, 410, 470, 430, 430])"
      ]
     },
     "execution_count": 245,
     "metadata": {},
     "output_type": "execute_result"
    }
   ],
   "source": [
    "np.sum(datas, axis=1)"
   ]
  },
  {
   "cell_type": "code",
   "execution_count": 246,
   "id": "ruled-simulation",
   "metadata": {},
   "outputs": [
    {
     "data": {
      "text/plain": [
       "array([800, 840, 790, 830, 810])"
      ]
     },
     "execution_count": 246,
     "metadata": {},
     "output_type": "execute_result"
    }
   ],
   "source": [
    "np.sum(datas, axis=0)"
   ]
  },
  {
   "cell_type": "code",
   "execution_count": 247,
   "id": "fallen-reggae",
   "metadata": {},
   "outputs": [
    {
     "data": {
      "text/plain": [
       "array([80., 84., 79., 83., 81.])"
      ]
     },
     "execution_count": 247,
     "metadata": {},
     "output_type": "execute_result"
    }
   ],
   "source": [
    "np.mean(datas, axis=0)"
   ]
  },
  {
   "cell_type": "code",
   "execution_count": 251,
   "id": "dried-straight",
   "metadata": {},
   "outputs": [
    {
     "data": {
      "text/plain": [
       "2.5"
      ]
     },
     "execution_count": 251,
     "metadata": {},
     "output_type": "execute_result"
    }
   ],
   "source": [
    "data = np.array([1, 2, 3, 4])\n",
    "np.median(data)"
   ]
  },
  {
   "cell_type": "code",
   "execution_count": 253,
   "id": "welsh-dover",
   "metadata": {},
   "outputs": [
    {
     "data": {
      "text/plain": [
       "(60, 100)"
      ]
     },
     "execution_count": 253,
     "metadata": {},
     "output_type": "execute_result"
    }
   ],
   "source": [
    "np.min(datas), np.max(datas)"
   ]
  }
 ],
 "metadata": {
  "kernelspec": {
   "display_name": "Python 3",
   "language": "python",
   "name": "python3"
  },
  "language_info": {
   "codemirror_mode": {
    "name": "ipython",
    "version": 3
   },
   "file_extension": ".py",
   "mimetype": "text/x-python",
   "name": "python",
   "nbconvert_exporter": "python",
   "pygments_lexer": "ipython3",
   "version": "3.8.5"
  }
 },
 "nbformat": 4,
 "nbformat_minor": 5
}
