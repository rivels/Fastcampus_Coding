{
 "cells": [
  {
   "cell_type": "markdown",
   "metadata": {},
   "source": [
    "# 상속\n",
    "-  만들어 놓은 클래스의 기능을 물려받아서 추가기능만 코드로 작성하는 방법\n",
    "- 다중상속이 가능하다"
   ]
  },
  {
   "cell_type": "code",
   "execution_count": 1,
   "metadata": {},
   "outputs": [
    {
     "data": {
      "text/plain": [
       "'class iphone1:\\n    def call():\\n        \\nclass iphone2:\\n    def call():\\n    def sms():\\n        \\nclass iphone3:\\n    def call()\\n    def sms()\\n    def internet()\\n    \\n    ...\\n    '"
      ]
     },
     "execution_count": 1,
     "metadata": {},
     "output_type": "execute_result"
    }
   ],
   "source": [
    "#상속을 쓰지않았을 때.\n",
    "'''class iphone1:\n",
    "    def call():\n",
    "        \n",
    "class iphone2:\n",
    "    def call():\n",
    "    def sms():\n",
    "        \n",
    "class iphone3:\n",
    "    def call()\n",
    "    def sms()\n",
    "    def internet()\n",
    "    \n",
    "    ...\n",
    "    '''"
   ]
  },
  {
   "cell_type": "code",
   "execution_count": null,
   "metadata": {},
   "outputs": [],
   "source": [
    "# 상속 사용하면 아래와 같이 간단하게 구성 가능\n",
    "class iphone1:\n",
    "    def call():\n",
    "        \n",
    "class iphone2(iphone1):\n",
    "    def sms():\n",
    "        \n",
    "class iphone3(iphone2):\n",
    "    def internet()\n",
    "    \n",
    "# 다중상속이 가능하다\n",
    "\n",
    "'''\n",
    "class galaxy1:\n",
    "    def video_call():\n",
    "\n",
    "class galaxy2:\n",
    "    def call()\n",
    "    def video_call()\n",
    "    def samsung_pay()\n",
    "    \n",
    "    ->\n",
    "    \n",
    "class galaxy2(galaxy1, iphone1):\n",
    "    def samsung_pay()\n",
    "'''"
   ]
  },
  {
   "cell_type": "code",
   "execution_count": 10,
   "metadata": {},
   "outputs": [],
   "source": [
    "class iphone1:\n",
    "    def call(self):\n",
    "        print('call')\n",
    "        \n",
    "class iphone2(iphone1):\n",
    "    def sms(self):\n",
    "        print('sms')\n",
    "        \n",
    "class iphone3(iphone2):\n",
    "    def internet(self):\n",
    "        print('internet')"
   ]
  },
  {
   "cell_type": "code",
   "execution_count": 7,
   "metadata": {},
   "outputs": [
    {
     "name": "stdout",
     "output_type": "stream",
     "text": [
      "internet\n"
     ]
    }
   ],
   "source": [
    "iphone3.internet()"
   ]
  },
  {
   "cell_type": "code",
   "execution_count": 11,
   "metadata": {},
   "outputs": [],
   "source": [
    "i1 = iphone1()\n",
    "i2 = iphone2()\n",
    "i3 = iphone3()"
   ]
  },
  {
   "cell_type": "code",
   "execution_count": 12,
   "metadata": {},
   "outputs": [
    {
     "data": {
      "text/plain": [
       "['call']"
      ]
     },
     "execution_count": 12,
     "metadata": {},
     "output_type": "execute_result"
    }
   ],
   "source": [
    "[var for var in dir(i1) if var[:2] != \"__\"]"
   ]
  },
  {
   "cell_type": "code",
   "execution_count": 13,
   "metadata": {},
   "outputs": [
    {
     "data": {
      "text/plain": [
       "['call', 'sms']"
      ]
     },
     "execution_count": 13,
     "metadata": {},
     "output_type": "execute_result"
    }
   ],
   "source": [
    "[var for var in dir(i2) if var[:2] != \"__\"]"
   ]
  },
  {
   "cell_type": "code",
   "execution_count": 14,
   "metadata": {},
   "outputs": [
    {
     "data": {
      "text/plain": [
       "['call', 'internet', 'sms']"
      ]
     },
     "execution_count": 14,
     "metadata": {},
     "output_type": "execute_result"
    }
   ],
   "source": [
    "[var for var in dir(i3) if var[:2] != \"__\"]"
   ]
  },
  {
   "cell_type": "code",
   "execution_count": 16,
   "metadata": {},
   "outputs": [],
   "source": [
    "class Galaxy1:\n",
    "    def video_call():\n",
    "        print('video_call')\n",
    "\n",
    "class Galaxy2(galaxy1, iphone1):\n",
    "    def samsung_pay():\n",
    "        print('samsung_pay')"
   ]
  },
  {
   "cell_type": "code",
   "execution_count": 17,
   "metadata": {},
   "outputs": [],
   "source": [
    "g1 = Galaxy1()\n",
    "g2 = Galaxy2()"
   ]
  },
  {
   "cell_type": "code",
   "execution_count": 18,
   "metadata": {},
   "outputs": [
    {
     "data": {
      "text/plain": [
       "['video_call']"
      ]
     },
     "execution_count": 18,
     "metadata": {},
     "output_type": "execute_result"
    }
   ],
   "source": [
    "[var for var in dir(g1) if var[:2] != \"__\"]"
   ]
  },
  {
   "cell_type": "code",
   "execution_count": 19,
   "metadata": {},
   "outputs": [
    {
     "data": {
      "text/plain": [
       "['call', 'samsung_pay', 'video_call']"
      ]
     },
     "execution_count": 19,
     "metadata": {},
     "output_type": "execute_result"
    }
   ],
   "source": [
    "[var for var in dir(g2) if var[:2] != \"__\"]"
   ]
  },
  {
   "cell_type": "code",
   "execution_count": 20,
   "metadata": {},
   "outputs": [],
   "source": [
    "# 퀴즈 2\n",
    "# 종족 // human : health = 40, attack_power : 10, defence = 5  steam_pack() : attack_power *= 2\n",
    "#     // orc   : health = 60, attack_power : 5, defence = 10  shield() : defense *= 2\n",
    "# unit class : warrior(spec(): health += 10), wizzard(spec() : attack_power += 10)\n",
    "# "
   ]
  },
  {
   "cell_type": "code",
   "execution_count": 33,
   "metadata": {},
   "outputs": [],
   "source": [
    "class Human():\n",
    "    health = 40\n",
    "    attack_power = 10\n",
    "    defence = 5\n",
    "    def steam_pack(self):\n",
    "        self.attack_power *= 2\n",
    "class Orc():\n",
    "    health = 60\n",
    "    attack_power = 5\n",
    "    defence = 10\n",
    "    def shield(self):\n",
    "        self.defence *= 2\n",
    "        \n",
    "class wizzard(Human):\n",
    "    def spec(self):\n",
    "        self.attack_power += 10\n",
    "        \n",
    "class warrior(Orc):\n",
    "    def spec(self):\n",
    "        self.health += 10"
   ]
  },
  {
   "cell_type": "code",
   "execution_count": 34,
   "metadata": {},
   "outputs": [],
   "source": [
    "W1 = wizzard()"
   ]
  },
  {
   "cell_type": "code",
   "execution_count": 39,
   "metadata": {},
   "outputs": [
    {
     "data": {
      "text/plain": [
       "20"
      ]
     },
     "execution_count": 39,
     "metadata": {},
     "output_type": "execute_result"
    }
   ],
   "source": [
    "W1.attack_power"
   ]
  },
  {
   "cell_type": "code",
   "execution_count": 40,
   "metadata": {},
   "outputs": [],
   "source": [
    "hwi = wizzard()\n",
    "owa = warrior()"
   ]
  },
  {
   "cell_type": "code",
   "execution_count": 41,
   "metadata": {},
   "outputs": [
    {
     "data": {
      "text/plain": [
       "(40, 10, 5)"
      ]
     },
     "execution_count": 41,
     "metadata": {},
     "output_type": "execute_result"
    }
   ],
   "source": [
    "hwi.health, hwi.attack_power, hwi.defence"
   ]
  },
  {
   "cell_type": "code",
   "execution_count": 42,
   "metadata": {},
   "outputs": [
    {
     "data": {
      "text/plain": [
       "(60, 5, 10)"
      ]
     },
     "execution_count": 42,
     "metadata": {},
     "output_type": "execute_result"
    }
   ],
   "source": [
    "owa.health, owa.attack_power, owa.defence"
   ]
  },
  {
   "cell_type": "code",
   "execution_count": 45,
   "metadata": {},
   "outputs": [],
   "source": [
    "def disp_var(obj):\n",
    "    return [var for var in dir(obj) if var[:2] != \"__\"]"
   ]
  },
  {
   "cell_type": "code",
   "execution_count": 46,
   "metadata": {},
   "outputs": [
    {
     "data": {
      "text/plain": [
       "['attack_power', 'defence', 'health', 'spec', 'steam_pack']"
      ]
     },
     "execution_count": 46,
     "metadata": {},
     "output_type": "execute_result"
    }
   ],
   "source": [
    "disp_var(hwi)"
   ]
  },
  {
   "cell_type": "code",
   "execution_count": null,
   "metadata": {},
   "outputs": [],
   "source": []
  }
 ],
 "metadata": {
  "kernelspec": {
   "display_name": "Python 3",
   "language": "python",
   "name": "python3"
  },
  "language_info": {
   "codemirror_mode": {
    "name": "ipython",
    "version": 3
   },
   "file_extension": ".py",
   "mimetype": "text/x-python",
   "name": "python",
   "nbconvert_exporter": "python",
   "pygments_lexer": "ipython3",
   "version": "3.8.5"
  }
 },
 "nbformat": 4,
 "nbformat_minor": 4
}
