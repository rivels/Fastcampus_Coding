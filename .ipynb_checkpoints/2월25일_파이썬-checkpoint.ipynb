{
 "cells": [
  {
   "cell_type": "code",
   "execution_count": 30,
   "metadata": {},
   "outputs": [
    {
     "name": "stdout",
     "output_type": "stream",
     "text": [
      "2*2=4\t3*2=6\t4*2=8\t5*2=10\t6*2=12\t7*2=14\t8*2=16\t9*2=18\t\n",
      "\n",
      "2*3=6\t3*3=9\t4*3=12\t5*3=15\t6*3=18\t7*3=21\t8*3=24\t9*3=27\t\n",
      "\n",
      "2*4=8\t3*4=12\t4*4=16\t5*4=20\t6*4=24\t7*4=28\t8*4=32\t9*4=36\t\n",
      "\n",
      "2*5=10\t3*5=15\t4*5=20\t5*5=25\t6*5=30\t7*5=35\t8*5=40\t9*5=45\t\n",
      "\n",
      "2*6=12\t3*6=18\t4*6=24\t5*6=30\t6*6=36\t7*6=42\t8*6=48\t9*6=54\t\n",
      "\n",
      "2*7=14\t3*7=21\t4*7=28\t5*7=35\t6*7=42\t7*7=49\t8*7=56\t9*7=63\t\n",
      "\n",
      "2*8=16\t3*8=24\t4*8=32\t5*8=40\t6*8=48\t7*8=56\t8*8=64\t9*8=72\t\n",
      "\n",
      "2*9=18\t3*9=27\t4*9=36\t5*9=45\t6*9=54\t7*9=63\t8*9=72\t9*9=81\t\n",
      "\n"
     ]
    }
   ],
   "source": [
    "# a = int(input())\n",
    "for i in range(2,10):\n",
    "    for j in range(2,10):\n",
    "        print(j, '*', i, '=', j*i, end='\\t' ,sep='')\n",
    "#         print(\"{} * {} = {}\".format(j,i,j*i), end ='\\t')\n",
    "    print('\\n')"
   ]
  },
  {
   "cell_type": "code",
   "execution_count": 4,
   "metadata": {},
   "outputs": [
    {
     "ename": "TypeError",
     "evalue": "'function' object is not subscriptable",
     "output_type": "error",
     "traceback": [
      "\u001b[0;31m---------------------------------------------------------------------------\u001b[0m",
      "\u001b[0;31mTypeError\u001b[0m                                 Traceback (most recent call last)",
      "\u001b[0;32m<ipython-input-4-b6fdf8ace5fd>\u001b[0m in \u001b[0;36m<module>\u001b[0;34m\u001b[0m\n\u001b[0;32m----> 1\u001b[0;31m \u001b[0mGG\u001b[0m\u001b[0;34m[\u001b[0m\u001b[0;36m2\u001b[0m\u001b[0;34m]\u001b[0m\u001b[0;34m\u001b[0m\u001b[0;34m\u001b[0m\u001b[0m\n\u001b[0m",
      "\u001b[0;31mTypeError\u001b[0m: 'function' object is not subscriptable"
     ]
    }
   ],
   "source": [
    "0 1 1 2 3 5 8 13 21 34 55 89 144\n",
    "\n",
    "0 1 2 3 4 5 6 7  8  9  10 11 12"
   ]
  },
  {
   "cell_type": "code",
   "execution_count": null,
   "metadata": {},
   "outputs": [],
   "source": [
    "0 1 2 2 3 3 4 4 5 6 6  7  8  8  9  9  10 11 11\n",
    "0 1 2 3 4 5 6 7 8 9 10 11 12 13 14 15 16 17 18\n",
    "0 0 0 1 1 2 2 3 3 3 4  4  4  5  5  6  6  6  7 "
   ]
  },
  {
   "cell_type": "code",
   "execution_count": null,
   "metadata": {},
   "outputs": [],
   "source": [
    "1 / 1\n",
    "2 / 2\n",
    "3 / 2\n",
    "4 / 3\n",
    "5 / 3\n",
    "6 / 4\n",
    "7 / 4\n",
    "8 / 5\n",
    "9 / 6\n",
    "10 / 6\n",
    "11 / 7\n",
    "12 / 8\n",
    "13 / 8\n",
    "14 / 9\n",
    "15 / 9\n",
    "16 / 10\n",
    "17 / 11"
   ]
  },
  {
   "cell_type": "markdown",
   "metadata": {},
   "source": [
    "# enumerate()\n",
    "- for 사용시 데이터에 index값을 추가해서 사용하고 싶을때\n"
   ]
  },
  {
   "cell_type": "code",
   "execution_count": 33,
   "metadata": {},
   "outputs": [
    {
     "name": "stdout",
     "output_type": "stream",
     "text": [
      "python\n",
      "jupyter\n",
      "notebook\n"
     ]
    }
   ],
   "source": [
    "datas = ['python','jupyter','notebook']\n",
    "for data in datas:\n",
    "    print(data)"
   ]
  },
  {
   "cell_type": "code",
   "execution_count": 34,
   "metadata": {},
   "outputs": [
    {
     "data": {
      "text/plain": [
       "[(0, 'python'), (1, 'jupyter'), (2, 'notebook')]"
      ]
     },
     "execution_count": 34,
     "metadata": {},
     "output_type": "execute_result"
    }
   ],
   "source": [
    "list(enumerate(datas))"
   ]
  },
  {
   "cell_type": "code",
   "execution_count": 37,
   "metadata": {},
   "outputs": [
    {
     "name": "stdout",
     "output_type": "stream",
     "text": [
      "0 python\n",
      "1 jupyter\n",
      "2 notebook\n"
     ]
    }
   ],
   "source": [
    "for idx, data in enumerate(datas):\n",
    "    print(idx, data)"
   ]
  },
  {
   "cell_type": "markdown",
   "metadata": {},
   "source": [
    "# zip\n",
    "- 여러개의 리스트를 같은 index끼리 묶어주는 함수\n",
    "- 묶고자 하는 리스트들의 개수가 서로 다른경우에는 가장 짧은 리스트를 기준으로 묶는다."
   ]
  },
  {
   "cell_type": "code",
   "execution_count": 40,
   "metadata": {},
   "outputs": [],
   "source": [
    "points = [100,90,80]\n",
    "subjects = ['korean','math','coding']\n",
    "ids = [1,2,3]"
   ]
  },
  {
   "cell_type": "code",
   "execution_count": 44,
   "metadata": {},
   "outputs": [],
   "source": [
    "Z = zip(ids, subjects, points)"
   ]
  },
  {
   "cell_type": "code",
   "execution_count": 45,
   "metadata": {},
   "outputs": [
    {
     "name": "stdout",
     "output_type": "stream",
     "text": [
      "[(1, 'korean', 100), (2, 'math', 90), (3, 'coding', 80)]\n"
     ]
    }
   ],
   "source": [
    "print(list(Z))"
   ]
  },
  {
   "cell_type": "markdown",
   "metadata": {},
   "source": [
    "# <u>**list comprehension**</u>\n",
    "- 반복문의 결과를 바로 리스트로 만들어 주는 방법"
   ]
  },
  {
   "cell_type": "code",
   "execution_count": 55,
   "metadata": {},
   "outputs": [
    {
     "data": {
      "text/plain": [
       "[1, 9, 25, 49, 81]"
      ]
     },
     "execution_count": 55,
     "metadata": {},
     "output_type": "execute_result"
    }
   ],
   "source": [
    "[i*i for i in range(0,10) if i %2]"
   ]
  },
  {
   "cell_type": "code",
   "execution_count": 53,
   "metadata": {},
   "outputs": [
    {
     "data": {
      "text/plain": [
       "{0, 1, 2, 3, 4, 5, 6, 7, 8, 9}"
      ]
     },
     "execution_count": 53,
     "metadata": {},
     "output_type": "execute_result"
    }
   ],
   "source": [
    "i for i in range(0,10)"
   ]
  },
  {
   "cell_type": "code",
   "execution_count": 60,
   "metadata": {},
   "outputs": [
    {
     "data": {
      "text/plain": [
       "['0짝수', '1홀수', '2짝수', '3홀수', '4짝수', '5홀수', '6짝수', '7홀수', '8짝수', '9홀수']"
      ]
     },
     "execution_count": 60,
     "metadata": {},
     "output_type": "execute_result"
    }
   ],
   "source": [
    "[str(i)+'홀수' if i % 2 else str(i)+'짝수' for i in range(0,10)]"
   ]
  },
  {
   "cell_type": "code",
   "execution_count": 71,
   "metadata": {},
   "outputs": [
    {
     "data": {
      "text/plain": [
       "['python', 'lee data', 'jung notebook']"
      ]
     },
     "execution_count": 71,
     "metadata": {},
     "output_type": "execute_result"
    }
   ],
   "source": [
    "# kim씨 성을 가진 사람을 제외한 나머지 사람의 이름만 리스트로 출력하기\n",
    "# kim씨 성을 가진 사람을 제외하고 나머지 사람을 출력하는데 박씨성을 가진 사람은 이름만 출력하기\n",
    "\n",
    "datas = ['kim test','park python','lee data',\n",
    "         'Kim jupyter','jung notebook']\n",
    "[i.split()[1] for i in datas if i.split()[0].upper() != 'KIM']\n",
    "\n",
    "[i if i.split()[0] != 'park' else i.split()[1] for i in datas if i.split()[0].upper() != 'KIM']"
   ]
  },
  {
   "cell_type": "markdown",
   "metadata": {},
   "source": [
    "# function\n",
    "- 함수는 반복되는 코드를 묶어서 효율적 작성을 가능하게 해주는 문법\n",
    "- index\n",
    "    - 함수선언 및 사용법\n",
    "    - return이 있는 함수와 없는 함수\n",
    "    - 파라미터와 arugument\n",
    "    - `*args`,`**kwargs`\n",
    "    - docstring 작성법\n",
    "    - scope : 지역, 전역 영역\n",
    "    - lambda function\n",
    "    - map, filter, reduce\n",
    "    - decorator "
   ]
  },
  {
   "cell_type": "code",
   "execution_count": 72,
   "metadata": {},
   "outputs": [],
   "source": [
    "def test1():\n",
    "    print('python')"
   ]
  },
  {
   "cell_type": "code",
   "execution_count": 73,
   "metadata": {},
   "outputs": [],
   "source": [
    "def test2():\n",
    "    return \"python\""
   ]
  },
  {
   "cell_type": "code",
   "execution_count": 79,
   "metadata": {},
   "outputs": [],
   "source": [
    "a = test2()"
   ]
  },
  {
   "cell_type": "code",
   "execution_count": 80,
   "metadata": {},
   "outputs": [
    {
     "name": "stdout",
     "output_type": "stream",
     "text": [
      "python\n"
     ]
    }
   ],
   "source": [
    "print(a)"
   ]
  },
  {
   "cell_type": "markdown",
   "metadata": {},
   "source": [
    "# about Function\n",
    "- return이 없는 함수로 작성하면 출력값을 어떠한 변수에 =로 대입하려고 해도 저장이 안됨.\n",
    "- return이 있어야 =로 저장이 가능.\n",
    "- retrun을 함수내부의 코드를 강제 종료시킬때 사용 가능"
   ]
  },
  {
   "cell_type": "markdown",
   "metadata": {},
   "source": [
    "# parameter & argument\n",
    "- 위 두가지는 함수를 호출할때 함수에 특정 데이터를 전달할때 사용"
   ]
  },
  {
   "cell_type": "code",
   "execution_count": 81,
   "metadata": {},
   "outputs": [],
   "source": [
    "def plus(num1, num2): #num1, num2를 파라미터라고 함\n",
    "    return num1 + num2"
   ]
  },
  {
   "cell_type": "code",
   "execution_count": 83,
   "metadata": {},
   "outputs": [
    {
     "data": {
      "text/plain": [
       "7"
      ]
     },
     "execution_count": 83,
     "metadata": {},
     "output_type": "execute_result"
    }
   ],
   "source": [
    "plus(3,4) # 3,4 를 argument라고 함"
   ]
  },
  {
   "cell_type": "code",
   "execution_count": 84,
   "metadata": {},
   "outputs": [],
   "source": [
    "# default parameter를 쓸때는 항상 뒤에 있는 파라미터에 써야함\n",
    "# def plus(num1=0, num2)  (x)\n",
    "# def plus(num1, num2=0)  (o)\n",
    "\n",
    "# 파라미터를 두개가 아닌 하나만 입력했을때도 함수가 실행가능하도록 하는것이\n",
    "# default parameter\n",
    "def plus(num1, num2 = 0):\n",
    "    return num1 + num2"
   ]
  },
  {
   "cell_type": "code",
   "execution_count": 85,
   "metadata": {},
   "outputs": [
    {
     "data": {
      "text/plain": [
       "1"
      ]
     },
     "execution_count": 85,
     "metadata": {},
     "output_type": "execute_result"
    }
   ],
   "source": [
    "plus(1)"
   ]
  },
  {
   "cell_type": "markdown",
   "metadata": {},
   "source": [
    "# key word argument\n",
    "---"
   ]
  },
  {
   "cell_type": "code",
   "execution_count": 86,
   "metadata": {},
   "outputs": [],
   "source": [
    "def plus(num1, num2=0,num3=0,num4=0):\n",
    "    return num1 + num2+ num3+num4"
   ]
  },
  {
   "cell_type": "code",
   "execution_count": 87,
   "metadata": {},
   "outputs": [
    {
     "data": {
      "text/plain": [
       "101"
      ]
     },
     "execution_count": 87,
     "metadata": {},
     "output_type": "execute_result"
    }
   ],
   "source": [
    "plus(1, num4=100) #이와같이 키워드 argument로 정해줄 수 있다."
   ]
  },
  {
   "cell_type": "markdown",
   "metadata": {},
   "source": [
    "# *args, **kwargs\n",
    "- 함수를 사용할때 파라미터나 argument의 갯수를 특정할 수 없을때 사용\n",
    "- ~*args : 키워드가 없는 아규먼트를 개수에 상관없이 받을때 사용\n",
    "- **kwargs : 키워드 아규먼트를 받을때 개수에 상관없이 받을때 사용"
   ]
  },
  {
   "cell_type": "code",
   "execution_count": 88,
   "metadata": {},
   "outputs": [],
   "source": [
    "def plus(num1, num2):\n",
    "    return num1 + num2\n",
    "print"
   ]
  },
  {
   "cell_type": "code",
   "execution_count": 102,
   "metadata": {},
   "outputs": [],
   "source": [
    "def plus(data1,data2=10, *args,**kwargs): #디폴트없는애가 가장 먼저 들어오고 그다음 디폴트있는애 그다음 *args 그다음  **kwargs\n",
    "    print(type(args), args)\n",
    "    print(type(kwargs), kwargs)\n",
    "    return sum(args)"
   ]
  },
  {
   "cell_type": "code",
   "execution_count": 105,
   "metadata": {},
   "outputs": [
    {
     "name": "stdout",
     "output_type": "stream",
     "text": [
      "<class 'tuple'> (1, 2, 3)\n",
      "<class 'dict'> {'num1': 6, 'num2': 7}\n"
     ]
    },
    {
     "data": {
      "text/plain": [
       "6"
      ]
     },
     "execution_count": 105,
     "metadata": {},
     "output_type": "execute_result"
    }
   ],
   "source": [
    "plus(1,2,3,num1=6,num2=7)"
   ]
  },
  {
   "cell_type": "code",
   "execution_count": 106,
   "metadata": {},
   "outputs": [],
   "source": [
    "# *, ** 문법 아규먼트에 사용하기"
   ]
  },
  {
   "cell_type": "code",
   "execution_count": 107,
   "metadata": {},
   "outputs": [],
   "source": [
    "def disp(*args, **kwargs):\n",
    "    print(args)\n",
    "    print(kwargs)"
   ]
  },
  {
   "cell_type": "code",
   "execution_count": 109,
   "metadata": {},
   "outputs": [],
   "source": [
    "ls = [1,2,3]\n"
   ]
  },
  {
   "cell_type": "code",
   "execution_count": 110,
   "metadata": {},
   "outputs": [
    {
     "name": "stdout",
     "output_type": "stream",
     "text": [
      "([1, 2, 3],)\n",
      "{}\n"
     ]
    }
   ],
   "source": [
    "disp(ls) # disp([1,2,3]) 처럼 사용됨"
   ]
  },
  {
   "cell_type": "code",
   "execution_count": 111,
   "metadata": {},
   "outputs": [
    {
     "name": "stdout",
     "output_type": "stream",
     "text": [
      "(1, 2, 3)\n",
      "{}\n"
     ]
    }
   ],
   "source": [
    "disp(*ls) #disp(1,2,3) 처럼 사용됨"
   ]
  },
  {
   "cell_type": "code",
   "execution_count": 114,
   "metadata": {},
   "outputs": [],
   "source": [
    "connect_data = {\"host\": \"127.0.0.1\", \"port\": 80, \"id\": \"dss\", \"pw\": 1234}"
   ]
  },
  {
   "cell_type": "code",
   "execution_count": 115,
   "metadata": {},
   "outputs": [
    {
     "name": "stdout",
     "output_type": "stream",
     "text": [
      "({'host': '127.0.0.1', 'port': 80, 'id': 'dss', 'pw': 1234},)\n",
      "{}\n"
     ]
    }
   ],
   "source": [
    "disp(connect_data) # disp({\"host\": \"127.0.0.1\", \"port\": 80, \"id\": \"dss\", \"pw\": 1234})\n",
    "# dict 데이터 타입의 argument가 1개"
   ]
  },
  {
   "cell_type": "code",
   "execution_count": 116,
   "metadata": {},
   "outputs": [
    {
     "name": "stdout",
     "output_type": "stream",
     "text": [
      "()\n",
      "{'host': '127.0.0.1', 'port': 80, 'id': 'dss', 'pw': 1234}\n"
     ]
    }
   ],
   "source": [
    "disp(**connect_data) # disp(host=\"127.0.0.1\", port=80, id=\"dss\", pw=1234)\n",
    "# int, str 데이터 타입의 argument가 4개"
   ]
  },
  {
   "cell_type": "markdown",
   "metadata": {},
   "source": [
    "# *args 와 **kwargs 정리\n",
    "\n",
    "- 먼저 args는 키워드가 없는 아규먼트를 받을때, **kwargs는 키워드가 있는 애들을 받을때 쓰는거임\n",
    "---\n",
    "### 그리고 예를들어 disp()라는 함수에 리스트로 형태의 데이터를 입력할 때\n",
    "    - 'disp(connect_data)는 튜플의 첫번째칸에 하나의 리스트를 통째로 넣는것이고'\n",
    "\n",
    "    - 'disp(**connect_data)는 리스트를 인덱스별로 쪼개서 튜플 하나의 칸에 리스트 하나를 각각 집어넣는거임."
   ]
  },
  {
   "cell_type": "markdown",
   "metadata": {},
   "source": [
    "# docstring\n",
    "- 함수의 사용법을 설명하는 것"
   ]
  },
  {
   "cell_type": "code",
   "execution_count": 121,
   "metadata": {},
   "outputs": [],
   "source": [
    "def echo(msg):\n",
    "    \"echo returns its input argument\"\n",
    "    return msg"
   ]
  },
  {
   "cell_type": "code",
   "execution_count": 122,
   "metadata": {},
   "outputs": [
    {
     "data": {
      "text/plain": [
       "'python'"
      ]
     },
     "execution_count": 122,
     "metadata": {},
     "output_type": "execute_result"
    }
   ],
   "source": [
    "echo('python')"
   ]
  },
  {
   "cell_type": "code",
   "execution_count": 123,
   "metadata": {},
   "outputs": [],
   "source": [
    "def plus(num1,num2):\n",
    "    \"\"\"\n",
    "    calculate plus with num1 and num2\n",
    "    The operation is:\n",
    "        1. run num1 + num2\n",
    "        2. return num1 + num2\n",
    "    params:\n",
    "        num1 : int\n",
    "        num2 : int\n",
    "    return int\n",
    "    examples:\n",
    "    > plus(2,3)\n",
    "    > 5\n",
    "    \"\"\"\n",
    "    "
   ]
  },
  {
   "cell_type": "code",
   "execution_count": 129,
   "metadata": {},
   "outputs": [
    {
     "name": "stdout",
     "output_type": "stream",
     "text": [
      "Help on built-in function print in module builtins:\n",
      "\n",
      "print(...)\n",
      "    print(value, ..., sep=' ', end='\\n', file=sys.stdout, flush=False)\n",
      "    \n",
      "    Prints the values to a stream, or to sys.stdout by default.\n",
      "    Optional keyword arguments:\n",
      "    file:  a file-like object (stream); defaults to the current sys.stdout.\n",
      "    sep:   string inserted between values, default a space.\n",
      "    end:   string appended after the last value, default a newline.\n",
      "    flush: whether to forcibly flush the stream.\n",
      "\n"
     ]
    }
   ],
   "source": [
    "help(print)"
   ]
  },
  {
   "cell_type": "markdown",
   "metadata": {},
   "source": [
    "# scope\n",
    "- 변수를 선언할 때 선언하는 위치에 따라서 지역변수와 전역변수로 나뉨.\n",
    "- 지역변수는 함수 안에서 변수를 선언 합니다.\n",
    "- 전역변수는 함수 밖에서 변수를 선언 합니다."
   ]
  },
  {
   "cell_type": "code",
   "execution_count": 131,
   "metadata": {},
   "outputs": [
    {
     "name": "stdout",
     "output_type": "stream",
     "text": [
      "20\n",
      "20\n"
     ]
    }
   ],
   "source": [
    "data1 = 10\n",
    "\n",
    "def change_data():\n",
    "    global data1 #함수 내의 지역 변수를 전역 변수로 바꿔주는 명령어 global\n",
    "    data1 = 20\n",
    "    print(data1)\n",
    "change_data()\n",
    "print(data1)\n"
   ]
  },
  {
   "cell_type": "code",
   "execution_count": null,
   "metadata": {},
   "outputs": [],
   "source": [
    "data1 = 10\n",
    "\n",
    "def change_data():\n",
    "    data1 = 20\n",
    "    print(data1)\n",
    "    return data1\n",
    "\n",
    "change_data()\n",
    "print(data1)\n"
   ]
  },
  {
   "cell_type": "markdown",
   "metadata": {},
   "source": [
    "# inner function\n",
    "- 함수안에 함수를 선언하는 방법\n",
    "- callback function\n"
   ]
  },
  {
   "cell_type": "code",
   "execution_count": 135,
   "metadata": {},
   "outputs": [
    {
     "name": "stdout",
     "output_type": "stream",
     "text": [
      "Once deleted, variables cannot be recovered. Proceed (y/[n])? y\n"
     ]
    }
   ],
   "source": [
    "%reset"
   ]
  },
  {
   "cell_type": "code",
   "execution_count": 136,
   "metadata": {},
   "outputs": [],
   "source": [
    "def outer(a,b):\n",
    "    \n",
    "    def inner(c,d):\n",
    "        return c + d\n",
    "    \n",
    "    return inner(a,b)\n",
    "'''\n",
    "이렇게 굳이 쓰는 이유는 inner를 밖에서 못쓰게 하기 위해서임.\n",
    "'''"
   ]
  },
  {
   "cell_type": "code",
   "execution_count": 140,
   "metadata": {},
   "outputs": [],
   "source": [
    "def outer(a,b):\n",
    "    \n",
    "    def inner(c,d):\n",
    "        return c + d\n",
    "    \n",
    "    return inner\n"
   ]
  },
  {
   "cell_type": "code",
   "execution_count": 141,
   "metadata": {},
   "outputs": [],
   "source": [
    "func = outer(3,4)"
   ]
  },
  {
   "cell_type": "code",
   "execution_count": 142,
   "metadata": {},
   "outputs": [
    {
     "data": {
      "text/plain": [
       "11"
      ]
     },
     "execution_count": 142,
     "metadata": {},
     "output_type": "execute_result"
    }
   ],
   "source": [
    "func(5,6)"
   ]
  },
  {
   "cell_type": "code",
   "execution_count": 137,
   "metadata": {},
   "outputs": [
    {
     "data": {
      "text/plain": [
       "7"
      ]
     },
     "execution_count": 137,
     "metadata": {},
     "output_type": "execute_result"
    }
   ],
   "source": [
    "outer(3,4)"
   ]
  },
  {
   "cell_type": "code",
   "execution_count": 138,
   "metadata": {},
   "outputs": [
    {
     "name": "stdout",
     "output_type": "stream",
     "text": [
      "Variable   Type        Data/Info\n",
      "--------------------------------\n",
      "outer      function    <function outer at 0x7fc3116613a0>\n"
     ]
    }
   ],
   "source": [
    "%whos"
   ]
  },
  {
   "cell_type": "markdown",
   "metadata": {},
   "source": [
    "# callback function: 함수안에서 코드를 실행하고 마지막에 실행하는 함수"
   ]
  },
  {
   "cell_type": "code",
   "execution_count": 158,
   "metadata": {},
   "outputs": [],
   "source": [
    "def callback(result):\n",
    "    #db에 결과 저장 ...\n",
    "    print('작업이 완료되었습니다.',result)"
   ]
  },
  {
   "cell_type": "code",
   "execution_count": 159,
   "metadata": {},
   "outputs": [],
   "source": [
    "def plus(num1,num2,callback):\n",
    "    result = num1 + num2\n",
    "    callback(result)\n",
    "    return result"
   ]
  },
  {
   "cell_type": "code",
   "execution_count": 160,
   "metadata": {},
   "outputs": [
    {
     "name": "stdout",
     "output_type": "stream",
     "text": [
      "작업이 완료되었습니다. 7\n"
     ]
    },
    {
     "data": {
      "text/plain": [
       "7"
      ]
     },
     "execution_count": 160,
     "metadata": {},
     "output_type": "execute_result"
    }
   ],
   "source": [
    "plus(3,4,callback)"
   ]
  },
  {
   "cell_type": "code",
   "execution_count": 149,
   "metadata": {},
   "outputs": [],
   "source": [
    "def calc(func, num1, num2):\n",
    "    return func(num1, num2)"
   ]
  },
  {
   "cell_type": "code",
   "execution_count": 150,
   "metadata": {},
   "outputs": [],
   "source": [
    "def plus(num1, num2):\n",
    "    return num1 + num2"
   ]
  },
  {
   "cell_type": "code",
   "execution_count": 151,
   "metadata": {},
   "outputs": [],
   "source": [
    "def minus(num1, num2):\n",
    "    return num1 - num2"
   ]
  },
  {
   "cell_type": "code",
   "execution_count": 152,
   "metadata": {},
   "outputs": [
    {
     "data": {
      "text/plain": [
       "7"
      ]
     },
     "execution_count": 152,
     "metadata": {},
     "output_type": "execute_result"
    }
   ],
   "source": [
    "calc(plus,3,4)"
   ]
  },
  {
   "cell_type": "code",
   "execution_count": 154,
   "metadata": {},
   "outputs": [
    {
     "data": {
      "text/plain": [
       "3"
      ]
     },
     "execution_count": 154,
     "metadata": {},
     "output_type": "execute_result"
    }
   ],
   "source": [
    "calc(minus,4,1)"
   ]
  },
  {
   "cell_type": "code",
   "execution_count": null,
   "metadata": {},
   "outputs": [],
   "source": []
  }
 ],
 "metadata": {
  "kernelspec": {
   "display_name": "Python 3",
   "language": "python",
   "name": "python3"
  },
  "language_info": {
   "codemirror_mode": {
    "name": "ipython",
    "version": 3
   },
   "file_extension": ".py",
   "mimetype": "text/x-python",
   "name": "python",
   "nbconvert_exporter": "python",
   "pygments_lexer": "ipython3",
   "version": "3.8.5"
  }
 },
 "nbformat": 4,
 "nbformat_minor": 4
}
