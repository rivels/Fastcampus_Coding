{
 "cells": [
  {
   "cell_type": "markdown",
   "metadata": {},
   "source": [
    "# 파일 입출력\n",
    "- file : write, read, delete\n",
    "- pickle : 객체를 RAM에서 HD로 저장하거나 가져오는 파이썬 모듈\n",
    "- os : 파이썬 코드로 파일시스템 다루기\n",
    "- 기사카테고리 분류 모델을 이용하여, 기사 파일을 카테고리 별로 디렉토리를 나눠서 저장"
   ]
  },
  {
   "cell_type": "markdown",
   "metadata": {},
   "source": [
    "# 1. file\n",
    "# 옵션 :\n",
    "    * r : read\n",
    "    * w : write\n",
    "    * t : text\n",
    "    * b : binary"
   ]
  },
  {
   "cell_type": "markdown",
   "metadata": {},
   "source": [
    "- rt : read text\n",
    "\n",
    "- wb : write binary"
   ]
  },
  {
   "cell_type": "code",
   "execution_count": 4,
   "metadata": {},
   "outputs": [],
   "source": [
    "!mkdir file"
   ]
  },
  {
   "cell_type": "markdown",
   "metadata": {},
   "source": [
    "# 텍스트파일쓰기"
   ]
  },
  {
   "cell_type": "code",
   "execution_count": 5,
   "metadata": {},
   "outputs": [
    {
     "name": "stdout",
     "output_type": "stream",
     "text": [
      "python jupyter notebook \n",
      "data science school\n"
     ]
    }
   ],
   "source": [
    "data = '''python jupyter notebook \n",
    "data science school'''\n",
    "\n",
    "print(data)"
   ]
  },
  {
   "cell_type": "code",
   "execution_count": 6,
   "metadata": {},
   "outputs": [
    {
     "data": {
      "text/plain": [
       "44"
      ]
     },
     "execution_count": 6,
     "metadata": {},
     "output_type": "execute_result"
    }
   ],
   "source": [
    "file = open(\"file/test1.txt\", \"wt\")\n",
    "file.write(data)"
   ]
  },
  {
   "cell_type": "code",
   "execution_count": 9,
   "metadata": {},
   "outputs": [
    {
     "name": "stdout",
     "output_type": "stream",
     "text": [
      "test1.text\r\n"
     ]
    }
   ],
   "source": [
    "%ls file"
   ]
  },
  {
   "cell_type": "code",
   "execution_count": 17,
   "metadata": {},
   "outputs": [],
   "source": [
    "file.close()"
   ]
  },
  {
   "cell_type": "code",
   "execution_count": 12,
   "metadata": {},
   "outputs": [
    {
     "name": "stdout",
     "output_type": "stream",
     "text": [
      "python jupyter notebook \r\n",
      "data science school"
     ]
    }
   ],
   "source": [
    "%cat file/test1.text"
   ]
  },
  {
   "cell_type": "markdown",
   "metadata": {},
   "source": [
    "# 텍스트파일 읽기"
   ]
  },
  {
   "cell_type": "code",
   "execution_count": 19,
   "metadata": {},
   "outputs": [
    {
     "name": "stdout",
     "output_type": "stream",
     "text": [
      "python jupyter notebook \n",
      "data science school\n"
     ]
    }
   ],
   "source": [
    "file = open(\"file/test1.text\", \"rt\")\n",
    "load_data = file.read()\n",
    "file.close()\n",
    "print(load_data)"
   ]
  },
  {
   "cell_type": "markdown",
   "metadata": {},
   "source": [
    "# 바이너리 파일 저장하기"
   ]
  },
  {
   "cell_type": "markdown",
   "metadata": {},
   "source": [
    "## 직렬화 : RAM(저장타입) != HDD(저장타입)\n",
    "\n",
    "## (RAM과 HDD에 저장된 방식이 서로 다름. 그래서 방식을 바꿔주는것을 직렬화라고 함)\n",
    "\n",
    "- bytes(obj) 를 사용해서 변환을 해주면 직렬화가 됨"
   ]
  },
  {
   "cell_type": "code",
   "execution_count": 20,
   "metadata": {},
   "outputs": [],
   "source": [
    "data = bytes(range(5,10)) # 5~10까지 직렬화를 시킴"
   ]
  },
  {
   "cell_type": "code",
   "execution_count": 21,
   "metadata": {},
   "outputs": [
    {
     "data": {
      "text/plain": [
       "b'\\x05\\x06\\x07\\x08\\t'"
      ]
     },
     "execution_count": 21,
     "metadata": {},
     "output_type": "execute_result"
    }
   ],
   "source": [
    "data"
   ]
  },
  {
   "cell_type": "code",
   "execution_count": 22,
   "metadata": {},
   "outputs": [],
   "source": [
    "file = open(\"file/range.bin\",\"wb\")\n",
    "file.write(data)\n",
    "file.close()"
   ]
  },
  {
   "cell_type": "code",
   "execution_count": 23,
   "metadata": {},
   "outputs": [
    {
     "name": "stdout",
     "output_type": "stream",
     "text": [
      "range.bin   test1.text\r\n"
     ]
    }
   ],
   "source": [
    "%ls file"
   ]
  },
  {
   "cell_type": "code",
   "execution_count": 26,
   "metadata": {},
   "outputs": [],
   "source": [
    "# 바이너리 파일 불러오기"
   ]
  },
  {
   "cell_type": "code",
   "execution_count": 29,
   "metadata": {},
   "outputs": [
    {
     "name": "stdout",
     "output_type": "stream",
     "text": [
      "[5, 6, 7, 8, 9]\n"
     ]
    }
   ],
   "source": [
    "file = open(\"file/range.bin\", \"rb\")\n",
    "load_data = file.read()\n",
    "file.close()\n",
    "print(list(load_data))"
   ]
  },
  {
   "cell_type": "code",
   "execution_count": 31,
   "metadata": {},
   "outputs": [
    {
     "name": "stdout",
     "output_type": "stream",
     "text": [
      "[5, 6, 7, 8, 9]\n"
     ]
    }
   ],
   "source": [
    "with open(\"file/range.bin\", \"rb\") as file:\n",
    "    load_data = file.read()\n",
    "print(list(load_data))"
   ]
  },
  {
   "cell_type": "code",
   "execution_count": 32,
   "metadata": {},
   "outputs": [],
   "source": [
    "# open은 단지 파일을 열어주는 명령어 이고 그 후에 xxx.read()함수를 써서 변수에 할당해야 불러와짐"
   ]
  },
  {
   "cell_type": "markdown",
   "metadata": {},
   "source": [
    "# 2. pickle\n",
    "\n",
    "- 파이썬에서 객체를 RAM에서 HD로 저장하고 가져오기 위해 만들어진 모듈\n",
    "- input, output의 속도가 빠름"
   ]
  },
  {
   "cell_type": "code",
   "execution_count": 33,
   "metadata": {},
   "outputs": [],
   "source": [
    "class Echo:\n",
    "    def __init__(self,data):\n",
    "        self.data = data\n",
    "    def disp(self):\n",
    "        print(self.data)"
   ]
  },
  {
   "cell_type": "code",
   "execution_count": 34,
   "metadata": {
    "scrolled": true
   },
   "outputs": [
    {
     "name": "stdout",
     "output_type": "stream",
     "text": [
      "pickle test\n"
     ]
    }
   ],
   "source": [
    "obj = Echo('pickle test')\n",
    "obj.disp()"
   ]
  },
  {
   "cell_type": "code",
   "execution_count": 35,
   "metadata": {},
   "outputs": [],
   "source": [
    "import pickle\n"
   ]
  },
  {
   "cell_type": "code",
   "execution_count": 36,
   "metadata": {},
   "outputs": [],
   "source": [
    "# 객체 저장하기"
   ]
  },
  {
   "cell_type": "code",
   "execution_count": 38,
   "metadata": {},
   "outputs": [],
   "source": [
    "with open(\"file/obj.pkl\", \"wb\") as file:\n",
    "    pickle.dump(obj, file)"
   ]
  },
  {
   "cell_type": "code",
   "execution_count": 39,
   "metadata": {},
   "outputs": [
    {
     "name": "stdout",
     "output_type": "stream",
     "text": [
      "obj.pkl     range.bin   test1.text\r\n"
     ]
    }
   ],
   "source": [
    "%ls file"
   ]
  },
  {
   "cell_type": "code",
   "execution_count": 37,
   "metadata": {},
   "outputs": [],
   "source": [
    "# 객체 읽어오기"
   ]
  },
  {
   "cell_type": "code",
   "execution_count": 40,
   "metadata": {},
   "outputs": [],
   "source": [
    "with open(\"file/obj.pkl\", \"rb\") as file:\n",
    "    load_obj = pickle.load(file)"
   ]
  },
  {
   "cell_type": "code",
   "execution_count": 42,
   "metadata": {},
   "outputs": [
    {
     "name": "stdout",
     "output_type": "stream",
     "text": [
      "pickle test\n"
     ]
    }
   ],
   "source": [
    "load_obj.disp()"
   ]
  },
  {
   "cell_type": "markdown",
   "metadata": {},
   "source": [
    "# 3. os\n",
    "- 파이썬 코드로 파일시스템을 다룰 수 있는 패키지\n",
    "- 디렉토리 만들기ㅣ, 파일삭제하기, 디렉토리 및 디렉토리 내의 파일삭제하기,\n",
    "- 복사하기, 파일이름 변경, 권한설정"
   ]
  },
  {
   "cell_type": "code",
   "execution_count": 43,
   "metadata": {},
   "outputs": [],
   "source": [
    "import os"
   ]
  },
  {
   "cell_type": "code",
   "execution_count": 44,
   "metadata": {},
   "outputs": [],
   "source": [
    "# 디렉토리 만들기"
   ]
  },
  {
   "cell_type": "code",
   "execution_count": 45,
   "metadata": {},
   "outputs": [],
   "source": [
    "# 디렉토리내의 파일 리스트 읽기"
   ]
  },
  {
   "cell_type": "code",
   "execution_count": 46,
   "metadata": {},
   "outputs": [],
   "source": [
    "# 파일 삭제"
   ]
  },
  {
   "cell_type": "code",
   "execution_count": 48,
   "metadata": {},
   "outputs": [],
   "source": [
    "os.makedirs(\"os\")"
   ]
  },
  {
   "cell_type": "code",
   "execution_count": 53,
   "metadata": {},
   "outputs": [
    {
     "name": "stdout",
     "output_type": "stream",
     "text": [
      "02_basic_syntax.ipynb\r\n",
      "07_linked_list_homework.ipynb\r\n",
      "2.26_quiz_송강.ipynb\r\n",
      "2_23markdown언어,MagicCommand.ipynb\r\n",
      "2_24_dictionary_깊은복사_얕은복사.ipynb\r\n",
      "2_24_operator.ipynb\r\n",
      "2_24_삼항연산자_break_continue.ipynb\r\n",
      "2월25일_파이썬.ipynb\r\n",
      "2월26일_클래스.ipynb\r\n",
      "2월26일파이썬수업.ipynb\r\n",
      "3_2_상속부터_클래스메소드까지.ipynb\r\n",
      "3_3__flake8_autopep8.ipynb\r\n",
      "3_3__profiling.ipynb\r\n",
      "3_3__모듈.ipynb\r\n",
      "3_3__예외처리.ipynb\r\n",
      "3_4__파일읽기쓰기.ipynb\r\n",
      "Untitled.ipynb\r\n",
      "Untitled1.ipynb\r\n",
      "\u001b[34m__pycache__\u001b[m\u001b[m/\r\n",
      "\u001b[34mfile\u001b[m\u001b[m/\r\n",
      "\u001b[34mos\u001b[m\u001b[m/\r\n",
      "\u001b[34mprofiling\u001b[m\u001b[m/\r\n",
      "test.py\r\n"
     ]
    }
   ],
   "source": [
    "%ls "
   ]
  },
  {
   "cell_type": "code",
   "execution_count": 60,
   "metadata": {},
   "outputs": [
    {
     "data": {
      "text/plain": [
       "['obj.pkl', 'test1.text']"
      ]
     },
     "execution_count": 60,
     "metadata": {},
     "output_type": "execute_result"
    }
   ],
   "source": [
    "files = os.listdir(\"file\")\n",
    "files = [file for file in files if file.split('.')[-1] == \"txt\"]"
   ]
  },
  {
   "cell_type": "code",
   "execution_count": 56,
   "metadata": {},
   "outputs": [
    {
     "data": {
      "text/plain": [
       "[]"
      ]
     },
     "execution_count": 56,
     "metadata": {},
     "output_type": "execute_result"
    }
   ],
   "source": [
    "files"
   ]
  },
  {
   "cell_type": "code",
   "execution_count": 57,
   "metadata": {},
   "outputs": [],
   "source": [
    "os.remove(\"file/range.bin\")"
   ]
  },
  {
   "cell_type": "code",
   "execution_count": 59,
   "metadata": {},
   "outputs": [
    {
     "data": {
      "text/plain": [
       "['obj.pkl', 'test1.text']"
      ]
     },
     "execution_count": 59,
     "metadata": {},
     "output_type": "execute_result"
    }
   ],
   "source": [
    "os.listdir('file')"
   ]
  },
  {
   "cell_type": "code",
   "execution_count": 47,
   "metadata": {},
   "outputs": [],
   "source": [
    "# 디렉토리 삭제"
   ]
  },
  {
   "cell_type": "code",
   "execution_count": 61,
   "metadata": {},
   "outputs": [],
   "source": [
    "os.removedirs('os')"
   ]
  },
  {
   "cell_type": "code",
   "execution_count": 62,
   "metadata": {},
   "outputs": [
    {
     "name": "stdout",
     "output_type": "stream",
     "text": [
      "02_basic_syntax.ipynb\r\n",
      "07_linked_list_homework.ipynb\r\n",
      "2.26_quiz_송강.ipynb\r\n",
      "2_23markdown언어,MagicCommand.ipynb\r\n",
      "2_24_dictionary_깊은복사_얕은복사.ipynb\r\n",
      "2_24_operator.ipynb\r\n",
      "2_24_삼항연산자_break_continue.ipynb\r\n",
      "2월25일_파이썬.ipynb\r\n",
      "2월26일_클래스.ipynb\r\n",
      "2월26일파이썬수업.ipynb\r\n",
      "3_2_상속부터_클래스메소드까지.ipynb\r\n",
      "3_3__flake8_autopep8.ipynb\r\n",
      "3_3__profiling.ipynb\r\n",
      "3_3__모듈.ipynb\r\n",
      "3_3__예외처리.ipynb\r\n",
      "3_4__파일읽기쓰기.ipynb\r\n",
      "Untitled.ipynb\r\n",
      "Untitled1.ipynb\r\n",
      "\u001b[34m__pycache__\u001b[m\u001b[m/\r\n",
      "\u001b[34mfile\u001b[m\u001b[m/\r\n",
      "\u001b[34mprofiling\u001b[m\u001b[m/\r\n",
      "test.py\r\n"
     ]
    }
   ],
   "source": [
    "%ls"
   ]
  },
  {
   "cell_type": "code",
   "execution_count": 65,
   "metadata": {},
   "outputs": [
    {
     "ename": "OSError",
     "evalue": "[Errno 66] Directory not empty: 'file'",
     "output_type": "error",
     "traceback": [
      "\u001b[0;31m---------------------------------------------------------------------------\u001b[0m",
      "\u001b[0;31mOSError\u001b[0m                                   Traceback (most recent call last)",
      "\u001b[0;32m<ipython-input-65-9a6d363ca3ad>\u001b[0m in \u001b[0;36m<module>\u001b[0;34m\u001b[0m\n\u001b[0;32m----> 1\u001b[0;31m \u001b[0mos\u001b[0m\u001b[0;34m.\u001b[0m\u001b[0mremovedirs\u001b[0m\u001b[0;34m(\u001b[0m\u001b[0;34m'file'\u001b[0m\u001b[0;34m)\u001b[0m \u001b[0;31m# 모든 파일이 지워져있어야 정상적으로 실행됨\u001b[0m\u001b[0;34m\u001b[0m\u001b[0;34m\u001b[0m\u001b[0m\n\u001b[0m",
      "\u001b[0;32m~/opt/anaconda3/lib/python3.8/os.py\u001b[0m in \u001b[0;36mremovedirs\u001b[0;34m(name)\u001b[0m\n\u001b[1;32m    239\u001b[0m \u001b[0;34m\u001b[0m\u001b[0m\n\u001b[1;32m    240\u001b[0m     \"\"\"\n\u001b[0;32m--> 241\u001b[0;31m     \u001b[0mrmdir\u001b[0m\u001b[0;34m(\u001b[0m\u001b[0mname\u001b[0m\u001b[0;34m)\u001b[0m\u001b[0;34m\u001b[0m\u001b[0;34m\u001b[0m\u001b[0m\n\u001b[0m\u001b[1;32m    242\u001b[0m     \u001b[0mhead\u001b[0m\u001b[0;34m,\u001b[0m \u001b[0mtail\u001b[0m \u001b[0;34m=\u001b[0m \u001b[0mpath\u001b[0m\u001b[0;34m.\u001b[0m\u001b[0msplit\u001b[0m\u001b[0;34m(\u001b[0m\u001b[0mname\u001b[0m\u001b[0;34m)\u001b[0m\u001b[0;34m\u001b[0m\u001b[0;34m\u001b[0m\u001b[0m\n\u001b[1;32m    243\u001b[0m     \u001b[0;32mif\u001b[0m \u001b[0;32mnot\u001b[0m \u001b[0mtail\u001b[0m\u001b[0;34m:\u001b[0m\u001b[0;34m\u001b[0m\u001b[0;34m\u001b[0m\u001b[0m\n",
      "\u001b[0;31mOSError\u001b[0m: [Errno 66] Directory not empty: 'file'"
     ]
    }
   ],
   "source": [
    "os.removedirs('file') # 모든 파일이 지워져있어야 정상적으로 실행됨"
   ]
  },
  {
   "cell_type": "code",
   "execution_count": 66,
   "metadata": {},
   "outputs": [],
   "source": [
    "# 디렉토리 이름을 넣으면 디렉토리 내의 파일을 모두 삭제하고 디렉토리를 삭제하는 함수"
   ]
  },
  {
   "cell_type": "code",
   "execution_count": 67,
   "metadata": {},
   "outputs": [
    {
     "name": "stdout",
     "output_type": "stream",
     "text": [
      "obj.pkl     test1.text\r\n"
     ]
    }
   ],
   "source": [
    "%ls file"
   ]
  },
  {
   "cell_type": "code",
   "execution_count": 71,
   "metadata": {},
   "outputs": [],
   "source": [
    "def remove_dir(name):\n",
    "    file_list = os.listdir(name)\n",
    "    for file in file_list:\n",
    "        os.remove(f\"{name}/{file}\")\n",
    "    os.removedirs(name)\n",
    "\n",
    "        "
   ]
  },
  {
   "cell_type": "code",
   "execution_count": 72,
   "metadata": {},
   "outputs": [],
   "source": [
    "remove_dir('file')"
   ]
  },
  {
   "cell_type": "code",
   "execution_count": 73,
   "metadata": {},
   "outputs": [
    {
     "name": "stdout",
     "output_type": "stream",
     "text": [
      "02_basic_syntax.ipynb\r\n",
      "07_linked_list_homework.ipynb\r\n",
      "2.26_quiz_송강.ipynb\r\n",
      "2_23markdown언어,MagicCommand.ipynb\r\n",
      "2_24_dictionary_깊은복사_얕은복사.ipynb\r\n",
      "2_24_operator.ipynb\r\n",
      "2_24_삼항연산자_break_continue.ipynb\r\n",
      "2월25일_파이썬.ipynb\r\n",
      "2월26일_클래스.ipynb\r\n",
      "2월26일파이썬수업.ipynb\r\n",
      "3_2_상속부터_클래스메소드까지.ipynb\r\n",
      "3_3__flake8_autopep8.ipynb\r\n",
      "3_3__profiling.ipynb\r\n",
      "3_3__모듈.ipynb\r\n",
      "3_3__예외처리.ipynb\r\n",
      "3_4__파일읽기쓰기.ipynb\r\n",
      "Untitled.ipynb\r\n",
      "Untitled1.ipynb\r\n",
      "\u001b[34m__pycache__\u001b[m\u001b[m/\r\n",
      "\u001b[34mprofiling\u001b[m\u001b[m/\r\n",
      "test.py\r\n"
     ]
    }
   ],
   "source": [
    "%ls"
   ]
  },
  {
   "cell_type": "code",
   "execution_count": 74,
   "metadata": {},
   "outputs": [],
   "source": [
    "# shutil"
   ]
  },
  {
   "cell_type": "code",
   "execution_count": 75,
   "metadata": {},
   "outputs": [
    {
     "name": "stdout",
     "output_type": "stream",
     "text": [
      "\u001b[01;34mfile\u001b[00m\r\n",
      "├── test1.txt\r\n",
      "└── test2.txt\r\n",
      "\r\n",
      "0 directories, 2 files\r\n"
     ]
    }
   ],
   "source": [
    "!mkdir file\n",
    "!touch file/test1.txt\n",
    "!touch file/test2.txt\n",
    "!tree file"
   ]
  },
  {
   "cell_type": "code",
   "execution_count": 76,
   "metadata": {},
   "outputs": [],
   "source": [
    "import shutil"
   ]
  },
  {
   "cell_type": "code",
   "execution_count": 78,
   "metadata": {},
   "outputs": [],
   "source": [
    "shutil.rmtree(\"file\")"
   ]
  },
  {
   "cell_type": "code",
   "execution_count": 79,
   "metadata": {},
   "outputs": [
    {
     "name": "stdout",
     "output_type": "stream",
     "text": [
      "02_basic_syntax.ipynb\r\n",
      "07_linked_list_homework.ipynb\r\n",
      "2.26_quiz_송강.ipynb\r\n",
      "2_23markdown언어,MagicCommand.ipynb\r\n",
      "2_24_dictionary_깊은복사_얕은복사.ipynb\r\n",
      "2_24_operator.ipynb\r\n",
      "2_24_삼항연산자_break_continue.ipynb\r\n",
      "2월25일_파이썬.ipynb\r\n",
      "2월26일_클래스.ipynb\r\n",
      "2월26일파이썬수업.ipynb\r\n",
      "3_2_상속부터_클래스메소드까지.ipynb\r\n",
      "3_3__flake8_autopep8.ipynb\r\n",
      "3_3__profiling.ipynb\r\n",
      "3_3__모듈.ipynb\r\n",
      "3_3__예외처리.ipynb\r\n",
      "3_4__파일읽기쓰기.ipynb\r\n",
      "Untitled.ipynb\r\n",
      "Untitled1.ipynb\r\n",
      "\u001b[34m__pycache__\u001b[m\u001b[m/\r\n",
      "\u001b[34mprofiling\u001b[m\u001b[m/\r\n",
      "test.py\r\n"
     ]
    }
   ],
   "source": [
    "%ls"
   ]
  },
  {
   "cell_type": "code",
   "execution_count": 81,
   "metadata": {},
   "outputs": [],
   "source": [
    "# 파일 복사하기"
   ]
  },
  {
   "cell_type": "code",
   "execution_count": 82,
   "metadata": {},
   "outputs": [],
   "source": [
    "os.makedirs(\"file\")"
   ]
  },
  {
   "cell_type": "code",
   "execution_count": 83,
   "metadata": {},
   "outputs": [],
   "source": [
    "data1, data2 = \"python\",\"jupyter\"\n",
    "with open('file/data1.txt',\"wt\") as file:\n",
    "    file.write(data1)\n",
    "with open('file/data2.txt',\"wt\") as file:\n",
    "    file.write(data2)"
   ]
  },
  {
   "cell_type": "code",
   "execution_count": 84,
   "metadata": {},
   "outputs": [
    {
     "data": {
      "text/plain": [
       "['data1.txt', 'data2.txt']"
      ]
     },
     "execution_count": 84,
     "metadata": {},
     "output_type": "execute_result"
    }
   ],
   "source": [
    "os.listdir('file')"
   ]
  },
  {
   "cell_type": "code",
   "execution_count": 85,
   "metadata": {},
   "outputs": [],
   "source": [
    "os.makedirs(\"copy\")"
   ]
  },
  {
   "cell_type": "code",
   "execution_count": 87,
   "metadata": {},
   "outputs": [
    {
     "data": {
      "text/plain": [
       "'copy/data2.txt'"
      ]
     },
     "execution_count": 87,
     "metadata": {},
     "output_type": "execute_result"
    }
   ],
   "source": [
    "shutil.copy(\"file/data2.txt\", \"copy/data2.txt\")"
   ]
  },
  {
   "cell_type": "code",
   "execution_count": null,
   "metadata": {},
   "outputs": [],
   "source": [
    "# %load copy/data2.txt\n",
    "jupyter"
   ]
  },
  {
   "cell_type": "code",
   "execution_count": null,
   "metadata": {},
   "outputs": [],
   "source": [
    "# 파일 이동하기(이름바꾸기)"
   ]
  },
  {
   "cell_type": "code",
   "execution_count": 89,
   "metadata": {},
   "outputs": [],
   "source": [
    "os.rename(\"file/data1.txt\",\"copy/data.txt\")"
   ]
  },
  {
   "cell_type": "code",
   "execution_count": 90,
   "metadata": {},
   "outputs": [
    {
     "name": "stdout",
     "output_type": "stream",
     "text": [
      "data.txt   data2.txt\r\n"
     ]
    }
   ],
   "source": [
    "%ls copy"
   ]
  },
  {
   "cell_type": "code",
   "execution_count": 91,
   "metadata": {},
   "outputs": [
    {
     "name": "stdout",
     "output_type": "stream",
     "text": [
      "data2.txt\r\n"
     ]
    }
   ],
   "source": [
    "%ls file"
   ]
  },
  {
   "cell_type": "code",
   "execution_count": 92,
   "metadata": {},
   "outputs": [
    {
     "name": "stdout",
     "output_type": "stream",
     "text": [
      "total 624\r\n",
      "drwxr-xr-x@ 29 song-kang  staff    928  3  4 14:12 \u001b[34m.\u001b[m\u001b[m/\r\n",
      "drwxr-xr-x@ 10 song-kang  staff    320  3  4 14:12 \u001b[34m..\u001b[m\u001b[m/\r\n",
      "-rw-r--r--@  1 song-kang  staff   8196  3  4 13:04 .DS_Store\r\n",
      "drwxr-xr-x@ 16 song-kang  staff    512  3  3 19:34 \u001b[34m.git\u001b[m\u001b[m/\r\n",
      "-rw-r--r--   1 song-kang  staff     66  2 24 15:43 .gitattributes\r\n",
      "drwxr-xr-x@ 13 song-kang  staff    416  3  4 13:04 \u001b[34m.ipynb_checkpoints\u001b[m\u001b[m/\r\n",
      "-rw-r--r--   1 song-kang  staff   6764  2 23 19:02 02_basic_syntax.ipynb\r\n",
      "-rw-r--r--@  1 song-kang  staff  18067  3  3 14:14 07_linked_list_homework.ipynb\r\n",
      "-rw-r--r--@  1 song-kang  staff   5851  2 26 11:24 2.26_quiz_송강.ipynb\r\n",
      "-rw-r--r--@  1 song-kang  staff  14095  2 23 14:39 2_23markdown언어,MagicCommand.ipynb\r\n",
      "-rw-r--r--   1 song-kang  staff   5272  2 24 15:38 2_24_dictionary_깊은복사_얕은복사.ipynb\r\n",
      "-rw-r--r--   1 song-kang  staff   4593  2 24 15:38 2_24_operator.ipynb\r\n",
      "-rw-r--r--   1 song-kang  staff   5217  2 24 16:56 2_24_삼항연산자_break_continue.ipynb\r\n",
      "-rw-r--r--   1 song-kang  staff  23541  2 25 20:14 2월25일_파이썬.ipynb\r\n",
      "-rw-r--r--   1 song-kang  staff  16793  3  2 18:10 2월26일_클래스.ipynb\r\n",
      "-rw-r--r--   1 song-kang  staff  11530  2 26 14:17 2월26일파이썬수업.ipynb\r\n",
      "-rw-r--r--   1 song-kang  staff  83574  3  2 16:54 3_2_상속부터_클래스메소드까지.ipynb\r\n",
      "-rw-r--r--   1 song-kang  staff   3684  3  3 16:17 3_3__flake8_autopep8.ipynb\r\n",
      "-rw-r--r--   1 song-kang  staff  17423  3  3 18:14 3_3__profiling.ipynb\r\n",
      "-rw-r--r--   1 song-kang  staff  11495  3  3 15:39 3_3__모듈.ipynb\r\n",
      "-rw-r--r--   1 song-kang  staff   6704  3  3 16:06 3_3__예외처리.ipynb\r\n",
      "-rw-r--r--   1 song-kang  staff  21477  3  4 14:12 3_4__파일읽기쓰기.ipynb\r\n",
      "-rw-r--r--   1 song-kang  staff    555  2 24 15:40 Untitled.ipynb\r\n",
      "-rw-r--r--   1 song-kang  staff   1260  2 26 16:46 Untitled1.ipynb\r\n",
      "drwxr-xr-x@  3 song-kang  staff     96  3  3 18:12 \u001b[34m__pycache__\u001b[m\u001b[m/\r\n",
      "drwxr-xr-x@  4 song-kang  staff    128  3  4 14:10 \u001b[34mcopy\u001b[m\u001b[m/\r\n",
      "drwxr-xr-x@  3 song-kang  staff     96  3  4 14:10 \u001b[34mfile\u001b[m\u001b[m/\r\n",
      "drwxr-xr-x@  8 song-kang  staff    256  3  4 13:04 \u001b[34mprofiling\u001b[m\u001b[m/\r\n",
      "-rw-r--r--   1 song-kang  staff    197  3  3 16:14 test.py\r\n"
     ]
    }
   ],
   "source": [
    "%ls -al"
   ]
  },
  {
   "cell_type": "code",
   "execution_count": null,
   "metadata": {},
   "outputs": [],
   "source": [
    "# 권한설정\n",
    "# -rw-r--r--\n",
    "# [0] : 디렉토리인지 파일인지 나타냄 \n",
    "# [1:3] = rw- 소유자에 대한 파일 권한\n",
    "# [3:6] = r-- 그룹에 대한 파일 권한\n",
    "# [6: ] = 모든 사용자에 대한 권한\n",
    "# r : read // w : write // x : excute\n",
    "\n",
    "# 권한 변경을 해줄때는 8진수로 해줌\n",
    "# -rw-r--r-- : 110 100 100 (2진수) -> 6 4 4(8진수)"
   ]
  },
  {
   "cell_type": "code",
   "execution_count": 98,
   "metadata": {},
   "outputs": [],
   "source": [
    "os.chmod('copy/data.txt',0o400)"
   ]
  },
  {
   "cell_type": "code",
   "execution_count": 99,
   "metadata": {},
   "outputs": [
    {
     "name": "stdout",
     "output_type": "stream",
     "text": [
      "total 16\r\n",
      "drwxr-xr-x@  4 song-kang  staff  128  3  4 14:10 \u001b[34m.\u001b[m\u001b[m/\r\n",
      "drwxr-xr-x@ 29 song-kang  staff  928  3  4 14:22 \u001b[34m..\u001b[m\u001b[m/\r\n",
      "-r--------   1 song-kang  staff    6  3  4 14:06 data.txt\r\n",
      "-rw-r--r--   1 song-kang  staff    7  3  4 14:08 data2.txt\r\n"
     ]
    }
   ],
   "source": [
    "%ls -al copy"
   ]
  },
  {
   "cell_type": "markdown",
   "metadata": {},
   "source": [
    "# 카테고리 분류기로 문서 분류하기\n",
    "1. 6개 카테고리에 대한 디렉토리 생성\n",
    "2. 기사 파일 리스트 가져오기\n",
    "3. 모델 불러오기\n",
    "4. 모델 이용해서 카테고리 예측하기\n",
    "5. 예측된 카테고리 디렉토리로 파일을 복사하기\n",
    "6. 모든 파일에 적용하기\u001e"
   ]
  },
  {
   "cell_type": "markdown",
   "metadata": {},
   "source": [
    "# 1. 6개 카테고리에 대한 디렉토리 생성\n"
   ]
  },
  {
   "cell_type": "code",
   "execution_count": 103,
   "metadata": {},
   "outputs": [],
   "source": [
    "categories = {100 : '정치', 101 : '경제', 102 : '사회', 103 : '생활/문화', 104 : '세계', 105 : \"IT\"}"
   ]
  },
  {
   "cell_type": "code",
   "execution_count": 104,
   "metadata": {},
   "outputs": [
    {
     "data": {
      "text/plain": [
       "'세계'"
      ]
     },
     "execution_count": 104,
     "metadata": {},
     "output_type": "execute_result"
    }
   ],
   "source": [
    "data = '한국 대통령은 미국 대통령을 만났습니다.'\n",
    "category = model.predict([data])[0]\n",
    "categories[category]"
   ]
  },
  {
   "cell_type": "code",
   "execution_count": 106,
   "metadata": {},
   "outputs": [],
   "source": [
    "for dir_name in categories.keys():\n",
    "    os.makedirs(f\"datas/articles/{dir_name}\")\n"
   ]
  },
  {
   "cell_type": "code",
   "execution_count": 107,
   "metadata": {},
   "outputs": [
    {
     "data": {
      "text/plain": [
       "['104', '103', '102', '105', 'model.pkl', '100', '101', 'texts']"
      ]
     },
     "execution_count": 107,
     "metadata": {},
     "output_type": "execute_result"
    }
   ],
   "source": [
    "os.listdir(\"datas/articles/\")"
   ]
  },
  {
   "cell_type": "markdown",
   "metadata": {},
   "source": [
    "# 2. 기사 파일 리스트 가져오기 "
   ]
  },
  {
   "cell_type": "code",
   "execution_count": 123,
   "metadata": {},
   "outputs": [
    {
     "name": "stdout",
     "output_type": "stream",
     "text": [
      "['101_일본차3만대수입할때한국차는고작32대수출.txt', '102_한라산에기습폭우고립됐던초등생·교사28명구조.txt', '103_서울시전기버스구매기준첫마련중국車배제허들될까.txt', '105_이젠식료품배송경쟁시대.txt', '104_”경찰폭력진압에분노”홍콩,오늘도대규모반중시위.txt', '101_위기의코스닥한달새시총14조증발.txt', '105_눈치안주고승차거부없고타다가입자100만명.txt', '100_권성동_황교안,당좌표설정해야지도력인정받을것_.txt', '100_‘아베분신’처럼日,한국의원앞에서“신뢰잃었다”도발.txt', '104_주말마다시위대·경찰충돌격화홍콩긴장최고조.txt', '100_문대통령,여름휴가취소풀어야할숙제많은탓.txt', '102_본격더위시작재첩축제서더위탈출.txt', '102_포항제철고일반고전환추진에반발확산.txt', '105_네이버페이,카페기반으로간편송금2强토스·카카오에도전장.txt', '100_엔진정상인데남쪽연안불빛보며내려와월선미스터리.txt', '105_이슈분석소재부품국산화다시시작하자_9_克日넘어산업핵심경쟁력찾아야.txt', '104_中언론_美,WTO개도국서中빼자는건국제경제질서무시_.txt', '100_北_경고무시하면靑주인자멸_文대통령직접겨냥.txt', '101_김태오DGB회장_디지털에승부건다_.txt', '105_韓소재부품산업,일본의존도점점줄었다.txt', '105_IR52장영실상오티에스CCTV승하강장치.txt', '102_문옆에떡하니비밀번호가원룸공동현관문무용지물.txt', '101_르노삼성사태후반전시작되나_수출물량확보에악재될것_.txt', '102_예견된혼란인데고용부,직장괴롭힘상담센터뒤늦게추진.txt', '100_‘흰색천’걸고NLL넘은北선원들“귀순,일없습니다”.txt', '103_열대림·독특한동식물·다양한부족문화해적의역사간직한코뿔새의땅사라.txt', '101_이재용의반도체뚝심9월日서`파운드리포럼`강행.txt', '100_또동해NLL넘은北목선1명은군복착용.txt', '100_나경원,`안보국회`서국조요구안할뜻밝힌지하루뒤황교안_국조즉각수용해야_.txt', '102_투표조작의혹프로듀스X101,결국경찰내사착수.txt', '101_글로벌금리인하타고채권시장훨훨.txt', '100_與_금배지내놔라_野중진에거센도전장.txt', '103_이굴뚝을보면윤선도가아른거린다.txt', '105_콘텐츠투자뒤늦게빛보는네이버·카카오.txt', '104_美뉴욕서총기난사사건1명사망·11명부상.txt', '102_복면가왕트루디♡이대은자랑부터곽정은·변정수까지(종합).txt', '100__韓규제철회하라_일본지식인77명의외침.txt', '104_이란나포英유조선선원들풀려나기어려운이유는_.txt', '100_나경원_안보의가장큰위협은대통령,안보국회열자_.txt', '104_강제징용조선인피와땀서려명부공개부터.txt', '102_학교에서하룻밤,_스마트폰없어도즐거웠다_는아이들.txt', '104_모스크바휩쓰는`反푸틴`시위러,1000명이상체포.txt', '103_김태호놀면뭐하니시청률4_“역시신선““산만하더라_.txt', '105_트럼프개도국제외발언에日수출규제이어한국통상또깜짝.txt', '104_“여행비도와주세요”벡패커골치동남아국들단속강화.txt', '105_`일본제품불매`운동제약시장으로확산.txt', '105_불면증치료단서될까_“육류·견과류‘트레오닌’수면유도효과”.txt', '100_인터뷰김세연보건복지위원장_디지털쇄국주의가원격의료걸림돌_.txt', '102_전국호우특보해제내일오전까지는중부에국지적비.txt', '101_“아베분신처럼도발하더라”워싱턴서도한일의원설전.txt', '105_블록체인게임등급심사신청0관련규정마련도지연.txt', '104_일본국민민주당,아베총리개헌손짓에화답파문.txt', '105_TV홈쇼핑,모바일퍼스트올해취급액7조돌파할듯.txt', '104_막오른대만대선‘반중-친중’구도재연.txt', '103_신안산선8월착공현지선시큰둥.txt', '102_중부지방막바지장맛비내일부터전국폭염.txt', '101__금호미쓰이화학때문에_···SK그룹,뜻하지않는아시아나인수자격논란.txt', '102_성추행·붕괴광주수영대회물흐린각종사고.txt', '105_중기경기전망지수내리막8월790,전년比30_↓.txt', '105_소프트웨어공제조합,20년만에연대보증폐지.txt', '100_한밤중에하얀천달고北소형목선또남하.txt', '105__인보사안전성괜찮다_던식약처···전량회수·폐기조급증에의문.txt', '102_전국흐리고일부호우장맛비그친뒤엔본격폭염.txt', '105_방통위,페이스북개인정보책임자국내로불러조사···징계속도낼듯.txt', '103_멀어지는역세권청년주택누굴믿나.txt', '102_고유정체포영상유출경찰청,진상조사착수.txt', '100_부인할수록주목받는조국·유시민의정치.txt', '105_일론머스크_테슬라에서넷플릭스·유튜브즐길날온다_.txt', '100_최악의국회,정치가없다.txt', '102_가족의장례직접치른장례지도사.txt', '103_2019이효석문학상최종심진출작최종심진출작④장은진`외진곳`生의나이테에ᄉ.txt', '101_전자업계2强,하반기전략전망LG,TV성장세견인카드관건.txt', '103_1500자의학상식자궁경부무력증조산막으려면.txt', '104_추락7개월동생붙잡은5살언니의사투,시리아공습이부른비극.txt', '102_클럽구조물붕괴사고경찰수사속도공동대표추가입건(종합).txt', '105_전동킥보드춘추전국시대8월에만서울에3천대추가투입.txt', '104_홍콩경찰과잉진압논란시위부상자속출.txt', '101_CB·BW,평가손실주의보올들어벌써24개社속출.txt', '101_취재파일미중무역전쟁에일본수출규제까지세계무역환경의변화.txt', '103_일본3만대팔릴때국산차日수출32대.txt', '100_7월국회앞두고도여야추경-안보네탓공방만(종합).txt', '103_상반기일본車수입26_↑62억달러로역대최대치.txt', '103_세대별평균월9069원내고1인당130만원받는다.txt', '104_美,佛디지털세에와인세로맞불예고.txt', '101_아사히입지흔들·일본車수입꺾여日불매운동확산.txt', '101_치열해지는부동산신탁경쟁우리·교보가세.txt', '100_北,선원석방통보않고美는北미사일‘무신경’패싱당한韓.txt', '105_위기의식량안보곡물소비77_가`수입산`.txt', '104_홍콩,오늘도행진경찰과충돌예상.txt', '103_“인간의품격갖춘지도자는‘민중가슴’에영원히살아남죠”.txt', '102_춤업소허용조례사례언급되기도_특혜여부조사_.txt', '105_재작년나온V30도신제품처럼LG전자,믿고오래쓰는스마트폰업그레이드.txt', '104_“日,도쿄올림픽앞두고방사능오염수1만8000톤통제안돼”.txt', '103_프로듀스X투표조작의혹결국법의판단받는다.txt', '105_가격·경쟁사폰·日규제갤럭시폴드의3대변수이슈분석.txt', '105_전파법전면개정추진`주파수면허제·면허료`도입.txt', '103_인니대통령만난정의선현대차,1조원규모인니전기차공장설립_.txt', '102_단독“대마구할수있어”대성건물유흥업소마약유통정황.txt', '100_조국“정치권·언론,한일중어디동의하나밝혀라”.txt', '101_美가제시한`개도국혜택박탈`4대조건한국만모두해당.txt', '104_마크롱디지털稅강행에뿔난트럼프와인稅로보복선언.txt', '103_쓰레기봉투와테이프가탈출도구_한국형클라이밍액션극‘엑시트’.txt', '101_믿고직구했는데가습기살균제성분검출.txt', '104_日자민당,참의원선거끝나자마자‘파벌의전쟁’시작.txt', '102_광주클럽붕괴경찰-지자체책임은_발뺌논란(종합).txt', '102_육아휴직5명중1명‘아빠’1년새31_↑.txt', '100_조국,이틀만에여론전재개“정치인·언론,日동조”.txt', '101_추경안표류역대2위불명예사상첫폐기가능성도.txt', '104_푸틴‘선거탄압’에거리나온러민심시위대1000여명체포.txt', '103_신비와생명의땅에티오피아그리스신전닮은교회가땅속에있네!.txt', '101_경제부총리국회20번갔지만추경안95일째`낮잠`.txt', '101_단독대출못하는케이뱅크에DGB금융,대규모증자참여.txt', '100_국회방미단_美,한일중재생각없어편드는인상안주려_.txt', '101_LGD가조선업애널리스트부른이유.txt', '101_폐업이창업2배줄어든회식에위기맞은노래방.txt', '104_“부자나라중국이왜개도국_”트럼프,무역전쟁전선WTO로확대.txt', '105_WTO제소준비박차가하는정부대통령·총리는휴가취소하고현안대비.txt', '105_상처아무는속도빠른반창고.txt', '103_박서준“적당히뜨거운나이에한국형히어로물맡아행운”.txt', '104_중국군,최신예J-20전투기동부전구배치_대만겨냥_.txt', '105_불확실성덮친전자업계,중장기계획올스톱.txt', '105_카카오T,대리기사확보사활매출ㆍ점유율끌어올리기올인.txt', '100__文여름휴가취소됐나_전혀몰랐다_靑참모조차되물었다.txt', '100_법이없다직접심판주민소환제실상은있으나마나_.txt', '103_‘항공성중이염’늘시달리신다면탑승전이비인후과진료필수.txt', '101__비상상황,자리못비워_휴가반납한경제수장들.txt', '103__드라이브취소하고카페로_주말장맛비에실내로피신.txt', '103_눈앞에서고래가풀쩍쿡아일랜드에푹빠지다.txt', '104_보리스존슨,브렉시트완수_아니면최단명총리_.txt', '103_로마보다앞선신비의고대국가에트루리아를만나다.txt', '101_반도체소재국산화발목잡는환경부3년새25_증원.txt', '105_펍지MET아시아,중국·대만7개팀보이콧선언이유는_.txt', '105__해외공략쉬운기술형스타트업키워야_.txt', '100_단독호르무즈인근주둔청해부대,국회파병동의비준필요없어.txt', '100_정부,對日반격카드‘WTO제소’박차외교적해법도풀가동日경제보복.txt', '103_“반일에역행하면안되지”유통점들일본색빼기안간힘.txt', '105_日수입의존도90_↑품목48개화학·기계분야‘절대열위’.txt', '103_현장에서車업계,이제볕드나했는데아쉬운‘하투’.txt', '104_“결국문제는경제”‘아랍의봄’뒤튀니지첫민선대통령에셉시를둘러싼냉정.txt', '100_뉴스추적흰색깃발달고들어온북목선왜_.txt', '102_도시어부도_안사요_日낚시용품불매운동.txt', '100_총선채비엇갈린고민與는‘집안단속’野는‘집안싸움’.txt', '100_북한이미사일쏘자,대통령흔들어대는나경원.txt', '103_기대수명높아지는데건강자신감은계속낮아진다.txt', '100_국회,미국서日규제규탄31일엔일본으로.txt', '101_무더위실종에에어컨판매‘찬바람’.txt', '100_북·중·러·일‘속앓이’문대통령,여름휴가도취소.txt', '101_美증시잘나가는데기업실적쇼크·日수출규제`겹시름`.txt', '104_日언론도“韓여행객감소로지역경제타격”우려.txt', '101_세제혜택받는지식산업센터,대출규제에인기급등.txt', '102__떠나요_붐비는인천공항올들어최다출국.txt', '105_AI가발명한발명품,누구의것일까.txt', '105_“안전지대란없다”상반기기업들괴롭힌사이버공격3가지.txt', '101_‘땅짚고헤엄친’4대금융그룹,이자장사로14조원벌어.txt', '104_일본도쿄신문_작년11월북한이작성한내부문서입수_.txt', '104_필리핀중남부서열흘간경찰관등19명연쇄피살긴장고조.txt', '104_홍콩,이틀연속대규모시위경찰·시위대충돌.txt', '102_바로간다_물에서살아남자_배우는데수영못하는강사_.txt', '102_광주수영대회외국인선수,성추행혐의로출국정지.txt', '102_서울·부산9개자사고운명내달결정법적대응준비.txt', '103_인도에도뒤처진현대車중국공장의굴욕.txt', '101_“한건당10兆가왔다갔다”괴력의무역규제.txt', '103_글로벌명의명클리닉대장암환자3000여명에새삶복강경수술2시간내종료.txt', '101_맥못추는10대그룹시총17兆증발.txt', '100_단독日총영사,여직원성추행외교부‘기강참사’.txt', '105_LG유플러스_해수욕장서도5G_.txt', '102_상산고등다살아남은전국단위우수자사고길잃은고교체제개편.txt', '100_여야안보공방에추경은뒷전7월국회도개점휴업되나.txt', '105_유튜브심의하는방송법,1인방송규제는아니다_.txt', '104_특파원24시중국국민배우량차오웨이,마블악당캐스팅에대륙‘부글부글’.txt', '101__아베이어트럼프까지_日은수출규제·美는개도국지위박탈압박.txt', '104_계속해서中압박하는트럼프_美대통령바뀔때까지기다리나_.txt', '101_삼성vs화웨이‘폴더블폰대전’“모바일게임노려라”.txt', '104_FBI수사관들도충격기증된시신아무렇게나보관하고팔아넘긴美업체.txt', '101_4대금융`역대급`실적에도은행들고민깊어진까닭.txt', '102_사고당시CCTV공개사람들머리위로무너져.txt', '104_中,대만겨냥스텔스기실전배치동북아군사패권속도.txt', '105_아동관련방송광고심의늘어성상품화등논란.txt', '103_중부지방막바지장맛비주룩주룩남부는찜통더위시작.txt', '104_바다에빠진세딸구하고떠난아버지의안타까운사연.txt', '101_엎친데덮친韓‘개도국제외’현실화땐농산물직격탄트럼프WTO개도국지위시정ᄌ.txt', '104_美중재로반전혹은화이트국배제···ARF서韓운명갈린다.txt', '104_외신홍콩백색테러배후는중국보도에중국관영언론_가짜뉴스_비난.txt', '103_중부내일까지100mm큰비영남은폭염주의보.txt', '104_미중무역전쟁에미소짓는중남미.txt', '101_수정법등규제칼자루쥔국토부기업활동에족쇄.txt', '102_“오히려내가피해자”체포순간에도태연한고유정.txt', '103_제니홀저·전광영·양혜규출격아트페어에2만점상차림.txt', '104__러영공침범은한·일이간질해美협력방해하려는의도_.txt', '103_기아‘니로’없어서못판다생산계획20_확대키로.txt', '103_토마토효능암,골다공증막고,다이어트효과도.txt', '102_부산온천천서숭어·잉어·붕어물고기수천마리떼죽음.txt', '101_화장품까지번진`N●`,SK-Ⅱ매출곤두박질.txt', '103_“일본은없다”대형마트는지금新물산장려운동.txt', '103__내그림은낚시처럼결과예측못해_.txt', '100_방미의원단귀국_미국도한일갈등방치땐공동이익훼손인식_(종합).txt', '100_어수선한여의도휴가철맞은정치권지금은대기모드(종합).txt', '105_반도체소재국산화하려면불공정구조먼저풀어야.txt', '103_잘나가는책은`유튜버셀러`뿐이네.txt', '100_‘도로친박당’위기감고조황교안은“내부총질마라”.txt', '104_영국집권보수당,새총리효과로지지율상승.txt', '104_국민민주당변심하나아베,개헌발의선‘성큼’.txt', '105_상반기후후앱스팸신고1048만건전년比29_↑.txt', '100_황교안·나경원투톱,민간인조국무시전략_.txt', '104__WTO개도국서韓빼라_한국농업옥죄는트럼프.txt', '102_더하기뉴스_매너지켜라_日정부,기본매너소개영상제작.txt', '101_LG유플PG사업부매각늦춰져.txt', '100_북목선또동해NLL넘어군당국,예인해경위조사.txt', '102_한라산고립초등생·교사28명구조폭우피해잇따라.txt', '100_민주·평화·정의_北소형목선월선,軍대처적절_vs한국·바른미래_석연치않은점이.txt', '103_신용카드해외위변조심각이대로당해야하나.txt', '101_당기순익1兆육박농협금융,출범이후최대실적냈다.txt', '102_“그런적없는데”고유정,호송차에서는왜태도바꿨나.txt', '100_NLL넘은북한선원들,귀순의사묻자_일없습니다_.txt', '103_밤부터내일새벽까지중부지방천둥·번개동반강한비(종합).txt', '102_‘한약건보적용’놓고의사·한의사갈등재점화.txt', '102_7월28일MBN뉴스8주요뉴스.txt', '102_살충제·전기모기채함께썼더니‘펑’화재위험주의.txt', '101_상장사영업익-37_보릿고개韓경제.txt', '102_7월28일뉴스7클로징.txt', '102_CCTV로본클럽붕괴사고순간“불법증축확인”.txt', '101_SK,금호석화와특수관계_아시아나항공입찰불가론왜나왔나.txt', '103_기세꺾인장마열대야·무더위온다.txt', '101_일본제품불매운동2題칭따오에밀린아사히.txt', '104_英존슨내각,노딜브렉시트총력드라이브(종합).txt', '102_尹총장,이번주검찰중간간부인사‘삼바수사지휘’3차장임명에이목.txt', '105_세계첫3차원원자층반도체개발.txt', '105_전자업계,정부에고효율가전환급정책의견전달한다31일간담회.txt', '101_수입맥주의간판일본맥주퇴조세뚜렷국산브랜드점유율만회기회를잡다.txt', '105_게임질병코드협의체인선놓고중립성공방가열.txt', '102_북한억류러시아선박한국인2명,11일만에무사귀환.txt', '104_모바일픽!흰옷에와인묻자한친구가한대담한행동.txt', '100_방미의원단오늘귀국_일본내에서아베와다른목소리많아_.txt', '103_출판사들도유튜브에빠졌다.txt', '103_시승기작아도속은꽉~`혼라이프SUV`너로정했다.txt', '105_삼성전자,커지는불확실성에하반기실적개선도물음표.txt']\n"
     ]
    }
   ],
   "source": [
    "article_titles = os.listdir(\"datas/articles/texts\")\n",
    "len(article_titles), article_titles[:3]\n",
    "print(article_titles)"
   ]
  },
  {
   "cell_type": "markdown",
   "metadata": {},
   "source": [
    "# 3. 모델 불러오기 "
   ]
  },
  {
   "cell_type": "code",
   "execution_count": 101,
   "metadata": {},
   "outputs": [
    {
     "name": "stderr",
     "output_type": "stream",
     "text": [
      "/Users/song-kang/opt/anaconda3/lib/python3.8/site-packages/sklearn/base.py:329: UserWarning: Trying to unpickle estimator TfidfTransformer from version 0.22.2.post1 when using version 0.23.2. This might lead to breaking code or invalid results. Use at your own risk.\n",
      "  warnings.warn(\n",
      "/Users/song-kang/opt/anaconda3/lib/python3.8/site-packages/sklearn/base.py:329: UserWarning: Trying to unpickle estimator TfidfVectorizer from version 0.22.2.post1 when using version 0.23.2. This might lead to breaking code or invalid results. Use at your own risk.\n",
      "  warnings.warn(\n",
      "/Users/song-kang/opt/anaconda3/lib/python3.8/site-packages/sklearn/base.py:329: UserWarning: Trying to unpickle estimator MultinomialNB from version 0.22.2.post1 when using version 0.23.2. This might lead to breaking code or invalid results. Use at your own risk.\n",
      "  warnings.warn(\n",
      "/Users/song-kang/opt/anaconda3/lib/python3.8/site-packages/sklearn/base.py:329: UserWarning: Trying to unpickle estimator Pipeline from version 0.22.2.post1 when using version 0.23.2. This might lead to breaking code or invalid results. Use at your own risk.\n",
      "  warnings.warn(\n"
     ]
    }
   ],
   "source": [
    "with open('datas/articles/model.pkl', 'rb') as file:\n",
    "    model = pickle.load(file)"
   ]
  },
  {
   "cell_type": "markdown",
   "metadata": {},
   "source": [
    "# 4. 모델을 이용해서 카테고리 예측하기"
   ]
  },
  {
   "cell_type": "code",
   "execution_count": 109,
   "metadata": {},
   "outputs": [
    {
     "data": {
      "text/plain": [
       "'그동안 일본 수입차는 국내에서 승승장구해왔습니다. 올해 상반기에만 3만대가 팔렸습니다.   역대 가장 좋은 성적인데요. 국산차가 일본에 딱 32대가 팔린 것과는 대조적이죠.   하지만\\xa0이번 불매 운동의 여파로 일본 수입차도 타격을 받을 조짐이 보입니다.  권솔 기자입니다.  [리포트] 올해 상반기\\xa0일본산 승용차는 2만 9400여 대가 팔려나갔습니다.  액수'"
      ]
     },
     "execution_count": 109,
     "metadata": {},
     "output_type": "execute_result"
    }
   ],
   "source": [
    "with open(f\"datas/articles/texts/{article_titles[0]}\", \"rt\") as file:\n",
    "    content = file.read()\n",
    "content[:200]"
   ]
  },
  {
   "cell_type": "code",
   "execution_count": 111,
   "metadata": {},
   "outputs": [
    {
     "data": {
      "text/plain": [
       "(101, '경제')"
      ]
     },
     "execution_count": 111,
     "metadata": {},
     "output_type": "execute_result"
    }
   ],
   "source": [
    "category = model.predict([content])[0]\n",
    "category, categories[category]"
   ]
  },
  {
   "cell_type": "markdown",
   "metadata": {},
   "source": [
    "# 5. 예측된 카테고리 디렉토리로 파일 복사하기"
   ]
  },
  {
   "cell_type": "code",
   "execution_count": 112,
   "metadata": {},
   "outputs": [
    {
     "data": {
      "text/plain": [
       "'datas/articles/101/101_일본차3만대수입할때한국차는고작32대수출.txt'"
      ]
     },
     "execution_count": 112,
     "metadata": {},
     "output_type": "execute_result"
    }
   ],
   "source": [
    "src = f\"datas/articles/texts/{article_titles[0]}\"\n",
    "dst = f\"datas/articles/{category}/{article_titles[0]}\"\n",
    "shutil.copy(src, dst)"
   ]
  },
  {
   "cell_type": "code",
   "execution_count": 113,
   "metadata": {},
   "outputs": [
    {
     "name": "stdout",
     "output_type": "stream",
     "text": [
      "101_일본차3만대수입할때한국차는고작32대수출.txt\r\n"
     ]
    }
   ],
   "source": [
    "%ls datas/articles/101/"
   ]
  },
  {
   "cell_type": "markdown",
   "metadata": {},
   "source": [
    "# 6. 모든 파일에 적용(반복문)"
   ]
  },
  {
   "cell_type": "code",
   "execution_count": 116,
   "metadata": {},
   "outputs": [
    {
     "name": "stdout",
     "output_type": "stream",
     "text": [
      "0 1 2 3 4 5 6 7 8 9 10 11 12 13 14 15 16 17 18 19 20 21 22 23 24 25 26 27 28 29 30 31 32 33 34 35 36 37 38 39 40 41 42 43 44 45 46 47 48 49 50 51 52 53 54 55 56 57 58 59 60 61 62 63 64 65 66 67 68 69 70 71 72 73 74 75 76 77 78 79 80 81 82 83 84 85 86 87 88 89 90 91 92 93 94 95 96 97 98 99 100 101 102 103 104 105 106 107 108 109 110 111 112 113 114 115 116 117 118 119 120 121 122 123 124 125 126 127 128 129 130 131 132 133 134 135 136 137 138 139 140 141 142 143 144 145 146 147 148 149 150 151 152 153 154 155 156 157 158 159 160 161 162 163 164 165 166 167 168 169 170 171 172 173 174 175 176 177 178 179 180 181 182 183 184 185 186 187 188 189 190 191 192 193 194 195 196 197 198 199 200 201 202 203 204 205 206 207 208 209 210 211 212 213 214 215 216 217 218 219 220 221 222 223 224 225 226 227 228 229 230 231 232 233 234 235 "
     ]
    }
   ],
   "source": [
    "for idx, article_title in enumerate(article_titles):\n",
    "    # enumerate를 적어서 idx로 얼마나 반복되었는지 횟수를 나타냄\n",
    "\n",
    "    #코드실행 정도 출력\n",
    "    print(idx, end=' ')\n",
    "    \n",
    "    # read content\n",
    "    with open(f\"datas/articles/texts/{article_title}\", \"rt\") as file:\n",
    "        content = file.read()\n",
    "\n",
    "    #기사제목을 file로 넣고 그 file 내용을 read()로 읽어서 content에 넣는다\n",
    "    \n",
    "    \n",
    "    #predict using model\n",
    "    category = model.predict([content])[0]\n",
    "    # model.predict에 content를 넣어서 나온 결과가 list로 나오기때문에 가장 앞에 나오는 카테고리를 잡기위해 [0]을 catergory에 넣는다\n",
    "    \n",
    "    #copy category dir\n",
    "    src = f\"datas/articles/texts/{article_title}\"\n",
    "    dst = f\"datas/articles/{category}/{article_title}\"\n",
    "    shutil.copy(src, dst)\n",
    "    \n",
    "    "
   ]
  },
  {
   "cell_type": "code",
   "execution_count": 120,
   "metadata": {},
   "outputs": [
    {
     "name": "stdout",
     "output_type": "stream",
     "text": [
      "102_부산온천천서숭어·잉어·붕어물고기수천마리떼죽음.txt\r\n",
      "103_1500자의학상식자궁경부무력증조산막으려면.txt\r\n",
      "103_2019이효석문학상최종심진출작최종심진출작④장은진`외진곳`生의나이테에ᄉ.txt\r\n",
      "103__드라이브취소하고카페로_주말장맛비에실내로피신.txt\r\n",
      "103__내그림은낚시처럼결과예측못해_.txt\r\n",
      "103_일본3만대팔릴때국산차日수출32대.txt\r\n",
      "103_프로듀스X투표조작의혹결국법의판단받는다.txt\r\n",
      "103_열대림·독특한동식물·다양한부족문화해적의역사간직한코뿔새의땅사라.txt\r\n",
      "103_제니홀저·전광영·양혜규출격아트페어에2만점상차림.txt\r\n",
      "103_신안산선8월착공현지선시큰둥.txt\r\n",
      "103_토마토효능암,골다공증막고,다이어트효과도.txt\r\n",
      "103_중부내일까지100mm큰비영남은폭염주의보.txt\r\n",
      "103_현장에서車업계,이제볕드나했는데아쉬운‘하투’.txt\r\n",
      "103_세대별평균월9069원내고1인당130만원받는다.txt\r\n",
      "103_잘나가는책은`유튜버셀러`뿐이네.txt\r\n",
      "103_상반기일본車수입26_↑62억달러로역대최대치.txt\r\n",
      "103_기세꺾인장마열대야·무더위온다.txt\r\n",
      "103_시승기작아도속은꽉~`혼라이프SUV`너로정했다.txt\r\n",
      "103_김태호놀면뭐하니시청률4_“역시신선““산만하더라_.txt\r\n",
      "103_출판사들도유튜브에빠졌다.txt\r\n",
      "103_쓰레기봉투와테이프가탈출도구_한국형클라이밍액션극‘엑시트’.txt\r\n",
      "103_인니대통령만난정의선현대차,1조원규모인니전기차공장설립_.txt\r\n",
      "103_기아‘니로’없어서못판다생산계획20_확대키로.txt\r\n",
      "103_글로벌명의명클리닉대장암환자3000여명에새삶복강경수술2시간내종료.txt\r\n",
      "103_밤부터내일새벽까지중부지방천둥·번개동반강한비(종합).txt\r\n",
      "103_이굴뚝을보면윤선도가아른거린다.txt\r\n",
      "103_멀어지는역세권청년주택누굴믿나.txt\r\n",
      "103_인도에도뒤처진현대車중국공장의굴욕.txt\r\n",
      "103_신용카드해외위변조심각이대로당해야하나.txt\r\n",
      "103_눈앞에서고래가풀쩍쿡아일랜드에푹빠지다.txt\r\n",
      "103_로마보다앞선신비의고대국가에트루리아를만나다.txt\r\n",
      "103_“일본은없다”대형마트는지금新물산장려운동.txt\r\n",
      "103_기대수명높아지는데건강자신감은계속낮아진다.txt\r\n",
      "103_서울시전기버스구매기준첫마련중국車배제허들될까.txt\r\n",
      "103_중부지방막바지장맛비주룩주룩남부는찜통더위시작.txt\r\n",
      "103_박서준“적당히뜨거운나이에한국형히어로물맡아행운”.txt\r\n",
      "103_“반일에역행하면안되지”유통점들일본색빼기안간힘.txt\r\n",
      "103_“인간의품격갖춘지도자는‘민중가슴’에영원히살아남죠”.txt\r\n",
      "103_신비와생명의땅에티오피아그리스신전닮은교회가땅속에있네!.txt\r\n",
      "103_‘항공성중이염’늘시달리신다면탑승전이비인후과진료필수.txt\r\n",
      "105_IR52장영실상오티에스CCTV승하강장치.txt\r\n"
     ]
    }
   ],
   "source": [
    "%ls datas/articles/103"
   ]
  },
  {
   "cell_type": "code",
   "execution_count": null,
   "metadata": {},
   "outputs": [],
   "source": []
  }
 ],
 "metadata": {
  "kernelspec": {
   "display_name": "Python 3",
   "language": "python",
   "name": "python3"
  },
  "language_info": {
   "codemirror_mode": {
    "name": "ipython",
    "version": 3
   },
   "file_extension": ".py",
   "mimetype": "text/x-python",
   "name": "python",
   "nbconvert_exporter": "python",
   "pygments_lexer": "ipython3",
   "version": "3.8.5"
  }
 },
 "nbformat": 4,
 "nbformat_minor": 4
}
