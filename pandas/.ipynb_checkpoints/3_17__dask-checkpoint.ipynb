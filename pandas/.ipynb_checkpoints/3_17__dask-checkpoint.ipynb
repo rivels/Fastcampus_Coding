{
 "cells": [
  {
   "cell_type": "markdown",
   "metadata": {},
   "source": [
    "# Dask\n",
    "- 데이터 분석을 수행할때 큰 파일의 csv파일은 메모리상에 모두 올리기가 힘듦\n",
    "- 가상의 데이터 프레임을 병렬처리를 활용해서 메모리를 효율적으로 사용할수 있도록 도와주는 패키지\n",
    "- 가상의 데이터 프레임\n",
    "- 병렬처리 작업 스케줄러\n",
    "- 설치\n"
   ]
  },
  {
   "cell_type": "code",
   "execution_count": 3,
   "metadata": {},
   "outputs": [],
   "source": [
    "import dask.dataframe as dd"
   ]
  },
  {
   "cell_type": "markdown",
   "metadata": {},
   "source": [
    "1. 파일읽기"
   ]
  },
  {
   "cell_type": "code",
   "execution_count": 4,
   "metadata": {},
   "outputs": [],
   "source": [
    "#dataframe으로 읽어오기\n",
    "df = pd.read_csv('datas/Crimes_-_2001_to_Present.csv')"
   ]
  },
  {
   "cell_type": "code",
   "execution_count": 5,
   "metadata": {},
   "outputs": [],
   "source": [
    "#dask의 데이터 프레임으로 읽어오기\n",
    "ddf = dd.read_csv(\"datas/Crimes_-_2001_to_Present.csv\",dtype=str)"
   ]
  },
  {
   "cell_type": "code",
   "execution_count": 6,
   "metadata": {},
   "outputs": [
    {
     "data": {
      "text/plain": [
       "dask.dataframe.core.DataFrame"
      ]
     },
     "execution_count": 6,
     "metadata": {},
     "output_type": "execute_result"
    }
   ],
   "source": [
    "type(ddf)"
   ]
  },
  {
   "cell_type": "code",
   "execution_count": 7,
   "metadata": {},
   "outputs": [
    {
     "data": {
      "text/html": [
       "<div>\n",
       "<style scoped>\n",
       "    .dataframe tbody tr th:only-of-type {\n",
       "        vertical-align: middle;\n",
       "    }\n",
       "\n",
       "    .dataframe tbody tr th {\n",
       "        vertical-align: top;\n",
       "    }\n",
       "\n",
       "    .dataframe thead th {\n",
       "        text-align: right;\n",
       "    }\n",
       "</style>\n",
       "<table border=\"1\" class=\"dataframe\">\n",
       "  <thead>\n",
       "    <tr style=\"text-align: right;\">\n",
       "      <th></th>\n",
       "      <th>ID</th>\n",
       "      <th>Case Number</th>\n",
       "      <th>Date</th>\n",
       "      <th>Block</th>\n",
       "      <th>IUCR</th>\n",
       "      <th>Primary Type</th>\n",
       "      <th>Description</th>\n",
       "      <th>Location Description</th>\n",
       "      <th>Arrest</th>\n",
       "      <th>Domestic</th>\n",
       "      <th>...</th>\n",
       "      <th>Ward</th>\n",
       "      <th>Community Area</th>\n",
       "      <th>FBI Code</th>\n",
       "      <th>X Coordinate</th>\n",
       "      <th>Y Coordinate</th>\n",
       "      <th>Year</th>\n",
       "      <th>Updated On</th>\n",
       "      <th>Latitude</th>\n",
       "      <th>Longitude</th>\n",
       "      <th>Location</th>\n",
       "    </tr>\n",
       "  </thead>\n",
       "  <tbody>\n",
       "    <tr>\n",
       "      <th>249750</th>\n",
       "      <td>12310456</td>\n",
       "      <td>JE163205</td>\n",
       "      <td>03/08/2021 08:00:00 PM</td>\n",
       "      <td>049XX N DRAKE AVE</td>\n",
       "      <td>1153</td>\n",
       "      <td>DECEPTIVE PRACTICE</td>\n",
       "      <td>FINANCIAL IDENTITY THEFT OVER $ 300</td>\n",
       "      <td>APARTMENT</td>\n",
       "      <td>false</td>\n",
       "      <td>false</td>\n",
       "      <td>...</td>\n",
       "      <td>33</td>\n",
       "      <td>14</td>\n",
       "      <td>11</td>\n",
       "      <td>1151826</td>\n",
       "      <td>1932595</td>\n",
       "      <td>2021</td>\n",
       "      <td>03/15/2021 04:48:08 PM</td>\n",
       "      <td>41.970917783</td>\n",
       "      <td>-87.717102456</td>\n",
       "      <td>(41.970917783, -87.717102456)</td>\n",
       "    </tr>\n",
       "    <tr>\n",
       "      <th>249751</th>\n",
       "      <td>12310095</td>\n",
       "      <td>JE162477</td>\n",
       "      <td>03/08/2021 08:25:00 AM</td>\n",
       "      <td>043XX N SHERIDAN RD</td>\n",
       "      <td>0520</td>\n",
       "      <td>ASSAULT</td>\n",
       "      <td>AGGRAVATED - KNIFE / CUTTING INSTRUMENT</td>\n",
       "      <td>GROCERY FOOD STORE</td>\n",
       "      <td>false</td>\n",
       "      <td>false</td>\n",
       "      <td>...</td>\n",
       "      <td>46</td>\n",
       "      <td>3</td>\n",
       "      <td>04A</td>\n",
       "      <td>1168812</td>\n",
       "      <td>1929247</td>\n",
       "      <td>2021</td>\n",
       "      <td>03/15/2021 04:48:08 PM</td>\n",
       "      <td>41.96137851</td>\n",
       "      <td>-87.65474101</td>\n",
       "      <td>(41.96137851, -87.65474101)</td>\n",
       "    </tr>\n",
       "  </tbody>\n",
       "</table>\n",
       "<p>2 rows × 22 columns</p>\n",
       "</div>"
      ],
      "text/plain": [
       "              ID Case Number                    Date                Block  \\\n",
       "249750  12310456    JE163205  03/08/2021 08:00:00 PM    049XX N DRAKE AVE   \n",
       "249751  12310095    JE162477  03/08/2021 08:25:00 AM  043XX N SHERIDAN RD   \n",
       "\n",
       "        IUCR        Primary Type                              Description  \\\n",
       "249750  1153  DECEPTIVE PRACTICE      FINANCIAL IDENTITY THEFT OVER $ 300   \n",
       "249751  0520             ASSAULT  AGGRAVATED - KNIFE / CUTTING INSTRUMENT   \n",
       "\n",
       "       Location Description Arrest Domestic  ... Ward Community Area FBI Code  \\\n",
       "249750            APARTMENT  false    false  ...   33             14       11   \n",
       "249751   GROCERY FOOD STORE  false    false  ...   46              3      04A   \n",
       "\n",
       "       X Coordinate Y Coordinate  Year              Updated On      Latitude  \\\n",
       "249750      1151826      1932595  2021  03/15/2021 04:48:08 PM  41.970917783   \n",
       "249751      1168812      1929247  2021  03/15/2021 04:48:08 PM   41.96137851   \n",
       "\n",
       "            Longitude                       Location  \n",
       "249750  -87.717102456  (41.970917783, -87.717102456)  \n",
       "249751   -87.65474101    (41.96137851, -87.65474101)  \n",
       "\n",
       "[2 rows x 22 columns]"
      ]
     },
     "execution_count": 7,
     "metadata": {},
     "output_type": "execute_result"
    }
   ],
   "source": [
    "ddf.tail(2)"
   ]
  },
  {
   "cell_type": "markdown",
   "metadata": {},
   "source": [
    "2. 파일저장하기"
   ]
  },
  {
   "cell_type": "code",
   "execution_count": 8,
   "metadata": {},
   "outputs": [],
   "source": [
    "!mkdir datas/crimes"
   ]
  },
  {
   "cell_type": "code",
   "execution_count": 10,
   "metadata": {},
   "outputs": [
    {
     "data": {
      "text/plain": [
       "['/Users/song-kang/Desktop/Fastcampus/Coding/pandas/datas/crimes/data_00.csv',\n",
       " '/Users/song-kang/Desktop/Fastcampus/Coding/pandas/datas/crimes/data_01.csv',\n",
       " '/Users/song-kang/Desktop/Fastcampus/Coding/pandas/datas/crimes/data_02.csv',\n",
       " '/Users/song-kang/Desktop/Fastcampus/Coding/pandas/datas/crimes/data_03.csv',\n",
       " '/Users/song-kang/Desktop/Fastcampus/Coding/pandas/datas/crimes/data_04.csv',\n",
       " '/Users/song-kang/Desktop/Fastcampus/Coding/pandas/datas/crimes/data_05.csv',\n",
       " '/Users/song-kang/Desktop/Fastcampus/Coding/pandas/datas/crimes/data_06.csv',\n",
       " '/Users/song-kang/Desktop/Fastcampus/Coding/pandas/datas/crimes/data_07.csv',\n",
       " '/Users/song-kang/Desktop/Fastcampus/Coding/pandas/datas/crimes/data_08.csv',\n",
       " '/Users/song-kang/Desktop/Fastcampus/Coding/pandas/datas/crimes/data_09.csv',\n",
       " '/Users/song-kang/Desktop/Fastcampus/Coding/pandas/datas/crimes/data_10.csv',\n",
       " '/Users/song-kang/Desktop/Fastcampus/Coding/pandas/datas/crimes/data_11.csv',\n",
       " '/Users/song-kang/Desktop/Fastcampus/Coding/pandas/datas/crimes/data_12.csv',\n",
       " '/Users/song-kang/Desktop/Fastcampus/Coding/pandas/datas/crimes/data_13.csv',\n",
       " '/Users/song-kang/Desktop/Fastcampus/Coding/pandas/datas/crimes/data_14.csv',\n",
       " '/Users/song-kang/Desktop/Fastcampus/Coding/pandas/datas/crimes/data_15.csv',\n",
       " '/Users/song-kang/Desktop/Fastcampus/Coding/pandas/datas/crimes/data_16.csv',\n",
       " '/Users/song-kang/Desktop/Fastcampus/Coding/pandas/datas/crimes/data_17.csv',\n",
       " '/Users/song-kang/Desktop/Fastcampus/Coding/pandas/datas/crimes/data_18.csv',\n",
       " '/Users/song-kang/Desktop/Fastcampus/Coding/pandas/datas/crimes/data_19.csv',\n",
       " '/Users/song-kang/Desktop/Fastcampus/Coding/pandas/datas/crimes/data_20.csv',\n",
       " '/Users/song-kang/Desktop/Fastcampus/Coding/pandas/datas/crimes/data_21.csv',\n",
       " '/Users/song-kang/Desktop/Fastcampus/Coding/pandas/datas/crimes/data_22.csv',\n",
       " '/Users/song-kang/Desktop/Fastcampus/Coding/pandas/datas/crimes/data_23.csv',\n",
       " '/Users/song-kang/Desktop/Fastcampus/Coding/pandas/datas/crimes/data_24.csv',\n",
       " '/Users/song-kang/Desktop/Fastcampus/Coding/pandas/datas/crimes/data_25.csv',\n",
       " '/Users/song-kang/Desktop/Fastcampus/Coding/pandas/datas/crimes/data_26.csv']"
      ]
     },
     "execution_count": 10,
     "metadata": {},
     "output_type": "execute_result"
    }
   ],
   "source": [
    "ddf.to_csv(\"datas/crimes/data_*.csv\",index=False)"
   ]
  },
  {
   "cell_type": "code",
   "execution_count": 11,
   "metadata": {},
   "outputs": [],
   "source": [
    "#저장한 파일 불러오기\n",
    "load_df = dd.read_csv(\"datas/crimes/data_*.csv\")"
   ]
  },
  {
   "cell_type": "code",
   "execution_count": 13,
   "metadata": {},
   "outputs": [
    {
     "data": {
      "text/html": [
       "<div>\n",
       "<style scoped>\n",
       "    .dataframe tbody tr th:only-of-type {\n",
       "        vertical-align: middle;\n",
       "    }\n",
       "\n",
       "    .dataframe tbody tr th {\n",
       "        vertical-align: top;\n",
       "    }\n",
       "\n",
       "    .dataframe thead th {\n",
       "        text-align: right;\n",
       "    }\n",
       "</style>\n",
       "<table border=\"1\" class=\"dataframe\">\n",
       "  <thead>\n",
       "    <tr style=\"text-align: right;\">\n",
       "      <th></th>\n",
       "      <th>ID</th>\n",
       "      <th>Case Number</th>\n",
       "      <th>Date</th>\n",
       "      <th>Block</th>\n",
       "      <th>IUCR</th>\n",
       "      <th>Primary Type</th>\n",
       "      <th>Description</th>\n",
       "      <th>Location Description</th>\n",
       "      <th>Arrest</th>\n",
       "      <th>Domestic</th>\n",
       "      <th>...</th>\n",
       "      <th>Ward</th>\n",
       "      <th>Community Area</th>\n",
       "      <th>FBI Code</th>\n",
       "      <th>X Coordinate</th>\n",
       "      <th>Y Coordinate</th>\n",
       "      <th>Year</th>\n",
       "      <th>Updated On</th>\n",
       "      <th>Latitude</th>\n",
       "      <th>Longitude</th>\n",
       "      <th>Location</th>\n",
       "    </tr>\n",
       "  </thead>\n",
       "  <tbody>\n",
       "    <tr>\n",
       "      <th>249750</th>\n",
       "      <td>12310456</td>\n",
       "      <td>JE163205</td>\n",
       "      <td>03/08/2021 08:00:00 PM</td>\n",
       "      <td>049XX N DRAKE AVE</td>\n",
       "      <td>1153</td>\n",
       "      <td>DECEPTIVE PRACTICE</td>\n",
       "      <td>FINANCIAL IDENTITY THEFT OVER $ 300</td>\n",
       "      <td>APARTMENT</td>\n",
       "      <td>False</td>\n",
       "      <td>False</td>\n",
       "      <td>...</td>\n",
       "      <td>33.0</td>\n",
       "      <td>14.0</td>\n",
       "      <td>11</td>\n",
       "      <td>1151826.0</td>\n",
       "      <td>1932595.0</td>\n",
       "      <td>2021</td>\n",
       "      <td>03/15/2021 04:48:08 PM</td>\n",
       "      <td>41.970918</td>\n",
       "      <td>-87.717102</td>\n",
       "      <td>(41.970917783, -87.717102456)</td>\n",
       "    </tr>\n",
       "    <tr>\n",
       "      <th>249751</th>\n",
       "      <td>12310095</td>\n",
       "      <td>JE162477</td>\n",
       "      <td>03/08/2021 08:25:00 AM</td>\n",
       "      <td>043XX N SHERIDAN RD</td>\n",
       "      <td>0520</td>\n",
       "      <td>ASSAULT</td>\n",
       "      <td>AGGRAVATED - KNIFE / CUTTING INSTRUMENT</td>\n",
       "      <td>GROCERY FOOD STORE</td>\n",
       "      <td>False</td>\n",
       "      <td>False</td>\n",
       "      <td>...</td>\n",
       "      <td>46.0</td>\n",
       "      <td>3.0</td>\n",
       "      <td>04A</td>\n",
       "      <td>1168812.0</td>\n",
       "      <td>1929247.0</td>\n",
       "      <td>2021</td>\n",
       "      <td>03/15/2021 04:48:08 PM</td>\n",
       "      <td>41.961379</td>\n",
       "      <td>-87.654741</td>\n",
       "      <td>(41.96137851, -87.65474101)</td>\n",
       "    </tr>\n",
       "  </tbody>\n",
       "</table>\n",
       "<p>2 rows × 22 columns</p>\n",
       "</div>"
      ],
      "text/plain": [
       "              ID Case Number                    Date                Block  \\\n",
       "249750  12310456    JE163205  03/08/2021 08:00:00 PM    049XX N DRAKE AVE   \n",
       "249751  12310095    JE162477  03/08/2021 08:25:00 AM  043XX N SHERIDAN RD   \n",
       "\n",
       "        IUCR        Primary Type                              Description  \\\n",
       "249750  1153  DECEPTIVE PRACTICE      FINANCIAL IDENTITY THEFT OVER $ 300   \n",
       "249751  0520             ASSAULT  AGGRAVATED - KNIFE / CUTTING INSTRUMENT   \n",
       "\n",
       "       Location Description  Arrest  Domestic  ...  Ward  Community Area  \\\n",
       "249750            APARTMENT   False     False  ...  33.0            14.0   \n",
       "249751   GROCERY FOOD STORE   False     False  ...  46.0             3.0   \n",
       "\n",
       "        FBI Code  X Coordinate Y Coordinate  Year              Updated On  \\\n",
       "249750        11     1151826.0    1932595.0  2021  03/15/2021 04:48:08 PM   \n",
       "249751       04A     1168812.0    1929247.0  2021  03/15/2021 04:48:08 PM   \n",
       "\n",
       "         Latitude  Longitude                       Location  \n",
       "249750  41.970918 -87.717102  (41.970917783, -87.717102456)  \n",
       "249751  41.961379 -87.654741    (41.96137851, -87.65474101)  \n",
       "\n",
       "[2 rows x 22 columns]"
      ]
     },
     "execution_count": 13,
     "metadata": {},
     "output_type": "execute_result"
    }
   ],
   "source": [
    "load_df.tail(2)"
   ]
  },
  {
   "cell_type": "markdown",
   "metadata": {},
   "source": [
    "3. 함수 실행하기"
   ]
  },
  {
   "cell_type": "code",
   "execution_count": 14,
   "metadata": {},
   "outputs": [
    {
     "name": "stdout",
     "output_type": "stream",
     "text": [
      "CPU times: user 507 ms, sys: 91 ms, total: 599 ms\n",
      "Wall time: 602 ms\n"
     ]
    }
   ],
   "source": [
    "%%time\n",
    "seoul_df = pd.read_csv(\"datas/seoul.csv\",dtype={\"type_of_business\":np.str})"
   ]
  },
  {
   "cell_type": "code",
   "execution_count": 15,
   "metadata": {},
   "outputs": [
    {
     "data": {
      "text/html": [
       "<div>\n",
       "<style scoped>\n",
       "    .dataframe tbody tr th:only-of-type {\n",
       "        vertical-align: middle;\n",
       "    }\n",
       "\n",
       "    .dataframe tbody tr th {\n",
       "        vertical-align: top;\n",
       "    }\n",
       "\n",
       "    .dataframe thead th {\n",
       "        text-align: right;\n",
       "    }\n",
       "</style>\n",
       "<table border=\"1\" class=\"dataframe\">\n",
       "  <thead>\n",
       "    <tr style=\"text-align: right;\">\n",
       "      <th></th>\n",
       "      <th>Unnamed: 0</th>\n",
       "      <th>store_id</th>\n",
       "      <th>card_id</th>\n",
       "      <th>card_company</th>\n",
       "      <th>transacted_date</th>\n",
       "      <th>transacted_time</th>\n",
       "      <th>installment_term</th>\n",
       "      <th>region</th>\n",
       "      <th>type_of_business</th>\n",
       "      <th>amount</th>\n",
       "    </tr>\n",
       "  </thead>\n",
       "  <tbody>\n",
       "    <tr>\n",
       "      <th>704436</th>\n",
       "      <td>6236963</td>\n",
       "      <td>2043</td>\n",
       "      <td>4447715</td>\n",
       "      <td>e</td>\n",
       "      <td>2019-02-28</td>\n",
       "      <td>19:20</td>\n",
       "      <td>0</td>\n",
       "      <td>서울 성북구</td>\n",
       "      <td>NaN</td>\n",
       "      <td>8571.428571</td>\n",
       "    </tr>\n",
       "  </tbody>\n",
       "</table>\n",
       "</div>"
      ],
      "text/plain": [
       "        Unnamed: 0  store_id  card_id card_company transacted_date  \\\n",
       "704436     6236963      2043  4447715            e      2019-02-28   \n",
       "\n",
       "       transacted_time  installment_term  region type_of_business       amount  \n",
       "704436           19:20                 0  서울 성북구              NaN  8571.428571  "
      ]
     },
     "execution_count": 15,
     "metadata": {},
     "output_type": "execute_result"
    }
   ],
   "source": [
    "seoul_df.tail(1)"
   ]
  },
  {
   "cell_type": "code",
   "execution_count": 17,
   "metadata": {},
   "outputs": [
    {
     "name": "stdout",
     "output_type": "stream",
     "text": [
      "CPU times: user 31.1 ms, sys: 11.6 ms, total: 42.7 ms\n",
      "Wall time: 42.4 ms\n"
     ]
    }
   ],
   "source": [
    "%%time\n",
    "df_1 = seoul_df.drop(columns=[\"Unnamed: 0\"])"
   ]
  },
  {
   "cell_type": "code",
   "execution_count": 18,
   "metadata": {},
   "outputs": [
    {
     "name": "stdout",
     "output_type": "stream",
     "text": [
      "CPU times: user 9.24 ms, sys: 4.53 ms, total: 13.8 ms\n",
      "Wall time: 12.9 ms\n"
     ]
    }
   ],
   "source": [
    "%%time\n",
    "seoul_df = dd.read_csv(\"datas/seoul.csv\",dtype={\"type_of_business\":np.str})"
   ]
  },
  {
   "cell_type": "code",
   "execution_count": 19,
   "metadata": {},
   "outputs": [
    {
     "name": "stdout",
     "output_type": "stream",
     "text": [
      "CPU times: user 4.26 ms, sys: 524 µs, total: 4.78 ms\n",
      "Wall time: 4.35 ms\n"
     ]
    }
   ],
   "source": [
    "%%time\n",
    "df_2 = seoul_df.drop(columns=[\"Unnamed: 0\"])"
   ]
  },
  {
   "cell_type": "code",
   "execution_count": 20,
   "metadata": {},
   "outputs": [],
   "source": [
    "#연산 수행 : compute()"
   ]
  },
  {
   "cell_type": "code",
   "execution_count": 22,
   "metadata": {},
   "outputs": [
    {
     "name": "stdout",
     "output_type": "stream",
     "text": [
      "CPU times: user 1.6 ms, sys: 788 µs, total: 2.39 ms\n",
      "Wall time: 1.21 ms\n"
     ]
    },
    {
     "data": {
      "text/plain": [
       "15048.562573674246"
      ]
     },
     "execution_count": 22,
     "metadata": {},
     "output_type": "execute_result"
    }
   ],
   "source": [
    "%%time\n",
    "df_1.amount.mean()"
   ]
  },
  {
   "cell_type": "code",
   "execution_count": 23,
   "metadata": {},
   "outputs": [
    {
     "name": "stdout",
     "output_type": "stream",
     "text": [
      "CPU times: user 576 ms, sys: 136 ms, total: 712 ms\n",
      "Wall time: 711 ms\n"
     ]
    },
    {
     "data": {
      "text/plain": [
       "15048.562573678388"
      ]
     },
     "execution_count": 23,
     "metadata": {},
     "output_type": "execute_result"
    }
   ],
   "source": [
    "%%time\n",
    "df_2.amount.mean().compute()"
   ]
  },
  {
   "cell_type": "code",
   "execution_count": 26,
   "metadata": {},
   "outputs": [
    {
     "data": {
      "text/html": [
       "<div>\n",
       "<style scoped>\n",
       "    .dataframe tbody tr th:only-of-type {\n",
       "        vertical-align: middle;\n",
       "    }\n",
       "\n",
       "    .dataframe tbody tr th {\n",
       "        vertical-align: top;\n",
       "    }\n",
       "\n",
       "    .dataframe thead th {\n",
       "        text-align: right;\n",
       "    }\n",
       "</style>\n",
       "<table border=\"1\" class=\"dataframe\">\n",
       "  <thead>\n",
       "    <tr style=\"text-align: right;\">\n",
       "      <th></th>\n",
       "      <th>store_id</th>\n",
       "      <th>card_id</th>\n",
       "      <th>card_company</th>\n",
       "      <th>transacted_date</th>\n",
       "      <th>transacted_time</th>\n",
       "      <th>installment_term</th>\n",
       "      <th>region</th>\n",
       "      <th>type_of_business</th>\n",
       "      <th>amount</th>\n",
       "    </tr>\n",
       "  </thead>\n",
       "  <tbody>\n",
       "    <tr>\n",
       "      <th>704435</th>\n",
       "      <td>2043</td>\n",
       "      <td>4447452</td>\n",
       "      <td>b</td>\n",
       "      <td>2019-02-28</td>\n",
       "      <td>18:49</td>\n",
       "      <td>0</td>\n",
       "      <td>서울 성북구</td>\n",
       "      <td>NaN</td>\n",
       "      <td>1428.571429</td>\n",
       "    </tr>\n",
       "    <tr>\n",
       "      <th>704436</th>\n",
       "      <td>2043</td>\n",
       "      <td>4447715</td>\n",
       "      <td>e</td>\n",
       "      <td>2019-02-28</td>\n",
       "      <td>19:20</td>\n",
       "      <td>0</td>\n",
       "      <td>서울 성북구</td>\n",
       "      <td>NaN</td>\n",
       "      <td>8571.428571</td>\n",
       "    </tr>\n",
       "  </tbody>\n",
       "</table>\n",
       "</div>"
      ],
      "text/plain": [
       "        store_id  card_id card_company transacted_date transacted_time  \\\n",
       "704435      2043  4447452            b      2019-02-28           18:49   \n",
       "704436      2043  4447715            e      2019-02-28           19:20   \n",
       "\n",
       "        installment_term  region type_of_business       amount  \n",
       "704435                 0  서울 성북구              NaN  1428.571429  \n",
       "704436                 0  서울 성북구              NaN  8571.428571  "
      ]
     },
     "execution_count": 26,
     "metadata": {},
     "output_type": "execute_result"
    }
   ],
   "source": [
    "df_2.compute().tail(2)"
   ]
  },
  {
   "cell_type": "code",
   "execution_count": 27,
   "metadata": {},
   "outputs": [],
   "source": [
    "# assign() : 연산한 결과를 바로 컬럼에 할당하는 함수"
   ]
  },
  {
   "cell_type": "code",
   "execution_count": 28,
   "metadata": {},
   "outputs": [
    {
     "data": {
      "text/plain": [
       "0         3.428571e+05\n",
       "1         3.285714e+05\n",
       "2         2.300000e+06\n",
       "3         1.557143e+06\n",
       "4        -1.557143e+06\n",
       "              ...     \n",
       "704432    3.571429e+05\n",
       "704433    1.428571e+05\n",
       "704434    1.428571e+05\n",
       "704435    1.428571e+05\n",
       "704436    8.571429e+05\n",
       "Name: amount, Length: 704437, dtype: float64"
      ]
     },
     "execution_count": 28,
     "metadata": {},
     "output_type": "execute_result"
    }
   ],
   "source": [
    "df_1[\"amount_2\"] = df_1.amount * 100"
   ]
  },
  {
   "cell_type": "code",
   "execution_count": 29,
   "metadata": {},
   "outputs": [
    {
     "data": {
      "text/html": [
       "<div>\n",
       "<style scoped>\n",
       "    .dataframe tbody tr th:only-of-type {\n",
       "        vertical-align: middle;\n",
       "    }\n",
       "\n",
       "    .dataframe tbody tr th {\n",
       "        vertical-align: top;\n",
       "    }\n",
       "\n",
       "    .dataframe thead th {\n",
       "        text-align: right;\n",
       "    }\n",
       "</style>\n",
       "<table border=\"1\" class=\"dataframe\">\n",
       "  <thead>\n",
       "    <tr style=\"text-align: right;\">\n",
       "      <th></th>\n",
       "      <th>store_id</th>\n",
       "      <th>card_id</th>\n",
       "      <th>card_company</th>\n",
       "      <th>transacted_date</th>\n",
       "      <th>transacted_time</th>\n",
       "      <th>installment_term</th>\n",
       "      <th>region</th>\n",
       "      <th>type_of_business</th>\n",
       "      <th>amount</th>\n",
       "      <th>amount_2</th>\n",
       "    </tr>\n",
       "  </thead>\n",
       "  <tbody>\n",
       "    <tr>\n",
       "      <th>704435</th>\n",
       "      <td>2043</td>\n",
       "      <td>4447452</td>\n",
       "      <td>b</td>\n",
       "      <td>2019-02-28</td>\n",
       "      <td>18:49</td>\n",
       "      <td>0</td>\n",
       "      <td>서울 성북구</td>\n",
       "      <td>NaN</td>\n",
       "      <td>1428.571429</td>\n",
       "      <td>142857.142857</td>\n",
       "    </tr>\n",
       "    <tr>\n",
       "      <th>704436</th>\n",
       "      <td>2043</td>\n",
       "      <td>4447715</td>\n",
       "      <td>e</td>\n",
       "      <td>2019-02-28</td>\n",
       "      <td>19:20</td>\n",
       "      <td>0</td>\n",
       "      <td>서울 성북구</td>\n",
       "      <td>NaN</td>\n",
       "      <td>8571.428571</td>\n",
       "      <td>857142.857143</td>\n",
       "    </tr>\n",
       "  </tbody>\n",
       "</table>\n",
       "</div>"
      ],
      "text/plain": [
       "        store_id  card_id card_company transacted_date transacted_time  \\\n",
       "704435      2043  4447452            b      2019-02-28           18:49   \n",
       "704436      2043  4447715            e      2019-02-28           19:20   \n",
       "\n",
       "        installment_term  region type_of_business       amount       amount_2  \n",
       "704435                 0  서울 성북구              NaN  1428.571429  142857.142857  \n",
       "704436                 0  서울 성북구              NaN  8571.428571  857142.857143  "
      ]
     },
     "execution_count": 29,
     "metadata": {},
     "output_type": "execute_result"
    }
   ],
   "source": [
    "df_2.assign(amount_2 = df_2.amount*100).tail(2)"
   ]
  },
  {
   "cell_type": "code",
   "execution_count": null,
   "metadata": {},
   "outputs": [],
   "source": []
  },
  {
   "cell_type": "markdown",
   "metadata": {},
   "source": [
    "4. 병렬처리\n",
    "- cpu 코어 수만큼 병렬처리가 가능"
   ]
  },
  {
   "cell_type": "code",
   "execution_count": 30,
   "metadata": {},
   "outputs": [
    {
     "data": {
      "text/html": [
       "<div>\n",
       "<style scoped>\n",
       "    .dataframe tbody tr th:only-of-type {\n",
       "        vertical-align: middle;\n",
       "    }\n",
       "\n",
       "    .dataframe tbody tr th {\n",
       "        vertical-align: top;\n",
       "    }\n",
       "\n",
       "    .dataframe thead th {\n",
       "        text-align: right;\n",
       "    }\n",
       "</style>\n",
       "<table border=\"1\" class=\"dataframe\">\n",
       "  <thead>\n",
       "    <tr style=\"text-align: right;\">\n",
       "      <th></th>\n",
       "      <th>ID</th>\n",
       "      <th>Case Number</th>\n",
       "      <th>Date</th>\n",
       "      <th>Block</th>\n",
       "      <th>IUCR</th>\n",
       "      <th>Primary Type</th>\n",
       "      <th>Description</th>\n",
       "      <th>Location Description</th>\n",
       "      <th>Arrest</th>\n",
       "      <th>Domestic</th>\n",
       "      <th>...</th>\n",
       "      <th>Ward</th>\n",
       "      <th>Community Area</th>\n",
       "      <th>FBI Code</th>\n",
       "      <th>X Coordinate</th>\n",
       "      <th>Y Coordinate</th>\n",
       "      <th>Year</th>\n",
       "      <th>Updated On</th>\n",
       "      <th>Latitude</th>\n",
       "      <th>Longitude</th>\n",
       "      <th>Location</th>\n",
       "    </tr>\n",
       "  </thead>\n",
       "  <tbody>\n",
       "    <tr>\n",
       "      <th>0</th>\n",
       "      <td>10224738</td>\n",
       "      <td>HY411648</td>\n",
       "      <td>09/05/2015 01:30:00 PM</td>\n",
       "      <td>043XX S WOOD ST</td>\n",
       "      <td>0486</td>\n",
       "      <td>BATTERY</td>\n",
       "      <td>DOMESTIC BATTERY SIMPLE</td>\n",
       "      <td>RESIDENCE</td>\n",
       "      <td>false</td>\n",
       "      <td>true</td>\n",
       "      <td>...</td>\n",
       "      <td>12</td>\n",
       "      <td>61</td>\n",
       "      <td>08B</td>\n",
       "      <td>1165074</td>\n",
       "      <td>1875917</td>\n",
       "      <td>2015</td>\n",
       "      <td>02/10/2018 03:50:01 PM</td>\n",
       "      <td>41.815117282</td>\n",
       "      <td>-87.669999562</td>\n",
       "      <td>(41.815117282, -87.669999562)</td>\n",
       "    </tr>\n",
       "    <tr>\n",
       "      <th>1</th>\n",
       "      <td>10224739</td>\n",
       "      <td>HY411615</td>\n",
       "      <td>09/04/2015 11:30:00 AM</td>\n",
       "      <td>008XX N CENTRAL AVE</td>\n",
       "      <td>0870</td>\n",
       "      <td>THEFT</td>\n",
       "      <td>POCKET-PICKING</td>\n",
       "      <td>CTA BUS</td>\n",
       "      <td>false</td>\n",
       "      <td>false</td>\n",
       "      <td>...</td>\n",
       "      <td>29</td>\n",
       "      <td>25</td>\n",
       "      <td>06</td>\n",
       "      <td>1138875</td>\n",
       "      <td>1904869</td>\n",
       "      <td>2015</td>\n",
       "      <td>02/10/2018 03:50:01 PM</td>\n",
       "      <td>41.895080471</td>\n",
       "      <td>-87.765400451</td>\n",
       "      <td>(41.895080471, -87.765400451)</td>\n",
       "    </tr>\n",
       "  </tbody>\n",
       "</table>\n",
       "<p>2 rows × 22 columns</p>\n",
       "</div>"
      ],
      "text/plain": [
       "         ID Case Number                    Date                Block  IUCR  \\\n",
       "0  10224738    HY411648  09/05/2015 01:30:00 PM      043XX S WOOD ST  0486   \n",
       "1  10224739    HY411615  09/04/2015 11:30:00 AM  008XX N CENTRAL AVE  0870   \n",
       "\n",
       "  Primary Type              Description Location Description Arrest Domestic  \\\n",
       "0      BATTERY  DOMESTIC BATTERY SIMPLE            RESIDENCE  false     true   \n",
       "1        THEFT           POCKET-PICKING              CTA BUS  false    false   \n",
       "\n",
       "   ... Ward Community Area FBI Code X Coordinate Y Coordinate  Year  \\\n",
       "0  ...   12             61      08B      1165074      1875917  2015   \n",
       "1  ...   29             25       06      1138875      1904869  2015   \n",
       "\n",
       "               Updated On      Latitude      Longitude  \\\n",
       "0  02/10/2018 03:50:01 PM  41.815117282  -87.669999562   \n",
       "1  02/10/2018 03:50:01 PM  41.895080471  -87.765400451   \n",
       "\n",
       "                        Location  \n",
       "0  (41.815117282, -87.669999562)  \n",
       "1  (41.895080471, -87.765400451)  \n",
       "\n",
       "[2 rows x 22 columns]"
      ]
     },
     "execution_count": 30,
     "metadata": {},
     "output_type": "execute_result"
    }
   ],
   "source": [
    "ddf.head(2)"
   ]
  },
  {
   "cell_type": "code",
   "execution_count": 32,
   "metadata": {},
   "outputs": [
    {
     "name": "stdout",
     "output_type": "stream",
     "text": [
      "CPU times: user 50.3 s, sys: 6.67 s, total: 56.9 s\n",
      "Wall time: 46.2 s\n"
     ]
    }
   ],
   "source": [
    "%%time\n",
    "result_df = ddf.dropna().compute()"
   ]
  },
  {
   "cell_type": "code",
   "execution_count": 33,
   "metadata": {},
   "outputs": [
    {
     "data": {
      "text/plain": [
       "(6608245, 7291881)"
      ]
     },
     "execution_count": 33,
     "metadata": {},
     "output_type": "execute_result"
    }
   ],
   "source": [
    "len(result_df), len(ddf)"
   ]
  },
  {
   "cell_type": "code",
   "execution_count": 34,
   "metadata": {},
   "outputs": [],
   "source": [
    "#프로그래스바 설정"
   ]
  },
  {
   "cell_type": "code",
   "execution_count": 36,
   "metadata": {},
   "outputs": [],
   "source": [
    "from dask.diagnostics import ProgressBar"
   ]
  },
  {
   "cell_type": "code",
   "execution_count": 37,
   "metadata": {},
   "outputs": [],
   "source": [
    "ProgressBar().register()"
   ]
  },
  {
   "cell_type": "code",
   "execution_count": 38,
   "metadata": {},
   "outputs": [
    {
     "name": "stdout",
     "output_type": "stream",
     "text": [
      "[########################################] | 100% Completed | 43.4s\n"
     ]
    },
    {
     "data": {
      "text/plain": [
       "ID                      7291881\n",
       "Case Number             7291877\n",
       "Date                    7291881\n",
       "Block                   7291881\n",
       "IUCR                    7291881\n",
       "Primary Type            7291881\n",
       "Description             7291881\n",
       "Location Description    7283805\n",
       "Arrest                  7291881\n",
       "Domestic                7291881\n",
       "Beat                    7291881\n",
       "District                7291834\n",
       "Ward                    6677046\n",
       "Community Area          6678397\n",
       "FBI Code                7291881\n",
       "X Coordinate            7220287\n",
       "Y Coordinate            7220287\n",
       "Year                    7291881\n",
       "Updated On              7291881\n",
       "Latitude                7220287\n",
       "Longitude               7220287\n",
       "Location                7220287\n",
       "dtype: int64"
      ]
     },
     "execution_count": 38,
     "metadata": {},
     "output_type": "execute_result"
    }
   ],
   "source": [
    "# 컬럼별 카운트\n",
    "ddf.count().compute()"
   ]
  },
  {
   "cell_type": "code",
   "execution_count": 39,
   "metadata": {},
   "outputs": [],
   "source": [
    "# cpu 코어수 확인\n",
    "import os "
   ]
  },
  {
   "cell_type": "code",
   "execution_count": 40,
   "metadata": {},
   "outputs": [
    {
     "data": {
      "text/plain": [
       "8"
      ]
     },
     "execution_count": 40,
     "metadata": {},
     "output_type": "execute_result"
    }
   ],
   "source": [
    "os.cpu_count()"
   ]
  },
  {
   "cell_type": "code",
   "execution_count": 41,
   "metadata": {},
   "outputs": [
    {
     "name": "stdout",
     "output_type": "stream",
     "text": [
      "[########################################] | 100% Completed | 15.7s\n"
     ]
    },
    {
     "data": {
      "text/plain": [
       "ID                      7291881\n",
       "Case Number             7291877\n",
       "Date                    7291881\n",
       "Block                   7291881\n",
       "IUCR                    7291881\n",
       "Primary Type            7291881\n",
       "Description             7291881\n",
       "Location Description    7283805\n",
       "Arrest                  7291881\n",
       "Domestic                7291881\n",
       "Beat                    7291881\n",
       "District                7291834\n",
       "Ward                    6677046\n",
       "Community Area          6678397\n",
       "FBI Code                7291881\n",
       "X Coordinate            7220287\n",
       "Y Coordinate            7220287\n",
       "Year                    7291881\n",
       "Updated On              7291881\n",
       "Latitude                7220287\n",
       "Longitude               7220287\n",
       "Location                7220287\n",
       "dtype: int64"
      ]
     },
     "execution_count": 41,
     "metadata": {},
     "output_type": "execute_result"
    }
   ],
   "source": [
    "ddf.count().compute(scheduler=\"processes\",num_workers = 8)"
   ]
  },
  {
   "cell_type": "code",
   "execution_count": null,
   "metadata": {},
   "outputs": [],
   "source": []
  }
 ],
 "metadata": {
  "kernelspec": {
   "display_name": "Python 3",
   "language": "python",
   "name": "python3"
  },
  "language_info": {
   "codemirror_mode": {
    "name": "ipython",
    "version": 3
   },
   "file_extension": ".py",
   "mimetype": "text/x-python",
   "name": "python",
   "nbconvert_exporter": "python",
   "pygments_lexer": "ipython3",
   "version": "3.8.5"
  }
 },
 "nbformat": 4,
 "nbformat_minor": 4
}
