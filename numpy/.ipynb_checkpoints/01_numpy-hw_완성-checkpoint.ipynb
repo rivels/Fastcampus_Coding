{
 "cells": [
  {
   "cell_type": "markdown",
   "metadata": {},
   "source": [
    "### 복합 화력발전소 발전량 예측\n",
    "- Feature\n",
    "    - AT (temperature) : 온도\n",
    "    - V (Exhaust Vacuum) : 배기진공\n",
    "    - AP (Ambient Pressure) : 주위압력\n",
    "    - RH (Relative Humidity) : 상대습도\n",
    "- Target\n",
    "    - PE (net hourly eletrical energy output) : 시간당 전기 에너지 출력"
   ]
  },
  {
   "cell_type": "markdown",
   "metadata": {},
   "source": [
    "#### 1. 데이터 로드"
   ]
  },
  {
   "cell_type": "code",
   "execution_count": 10,
   "metadata": {},
   "outputs": [
    {
     "data": {
      "text/plain": [
       "array([[   8.34,   40.77, 1010.84,   90.01,  480.48],\n",
       "       [  23.64,   58.49, 1011.4 ,   74.2 ,  445.75],\n",
       "       [  29.74,   56.9 , 1007.15,   41.91,  438.76],\n",
       "       ...,\n",
       "       [  15.99,   43.34, 1014.2 ,   78.66,  465.96],\n",
       "       [  17.65,   59.87, 1018.58,   94.65,  450.93],\n",
       "       [  23.68,   51.3 , 1011.86,   71.24,  451.67]])"
      ]
     },
     "execution_count": 10,
     "metadata": {},
     "output_type": "execute_result"
    }
   ],
   "source": [
    "columns = [\"AT\", \"V\", \"AP\", \"RH\", \"PE\"]\n",
    "\n",
    "with open(\"datas/thermal_power_plant.plk\", \"rb\") as file:\n",
    "    datas = pickle.load(file)\n",
    "    \n",
    "datas"
   ]
  },
  {
   "cell_type": "markdown",
   "metadata": {},
   "source": [
    "#### 2. 각 컬럼별 상관계수 구하기"
   ]
  },
  {
   "cell_type": "code",
   "execution_count": null,
   "metadata": {},
   "outputs": [],
   "source": []
  },
  {
   "cell_type": "markdown",
   "metadata": {},
   "source": [
    "#### 3. 각 컬럼별 회귀분석 모델 만들기"
   ]
  },
  {
   "cell_type": "code",
   "execution_count": null,
   "metadata": {},
   "outputs": [],
   "source": []
  },
  {
   "cell_type": "markdown",
   "metadata": {},
   "source": [
    "#### 4. 각 컬럼별 모델 평가하기"
   ]
  },
  {
   "cell_type": "code",
   "execution_count": null,
   "metadata": {},
   "outputs": [],
   "source": []
  },
  {
   "cell_type": "markdown",
   "metadata": {},
   "source": [
    "#### 5. 모든 컬럼을 사용하여 회귀분석 모델 만들어서 평가하기"
   ]
  },
  {
   "cell_type": "code",
   "execution_count": null,
   "metadata": {},
   "outputs": [],
   "source": []
  }
 ],
 "metadata": {
  "kernelspec": {
   "display_name": "Python 3",
   "language": "python",
   "name": "python3"
  },
  "language_info": {
   "codemirror_mode": {
    "name": "ipython",
    "version": 3
   },
   "file_extension": ".py",
   "mimetype": "text/x-python",
   "name": "python",
   "nbconvert_exporter": "python",
   "pygments_lexer": "ipython3",
   "version": "3.8.5"
  },
  "varInspector": {
   "cols": {
    "lenName": 16,
    "lenType": 16,
    "lenVar": 40
   },
   "kernels_config": {
    "python": {
     "delete_cmd_postfix": "",
     "delete_cmd_prefix": "del ",
     "library": "var_list.py",
     "varRefreshCmd": "print(var_dic_list())"
    },
    "r": {
     "delete_cmd_postfix": ") ",
     "delete_cmd_prefix": "rm(",
     "library": "var_list.r",
     "varRefreshCmd": "cat(var_dic_list()) "
    }
   },
   "types_to_exclude": [
    "module",
    "function",
    "builtin_function_or_method",
    "instance",
    "_Feature"
   ],
   "window_display": false
  }
 },
 "nbformat": 4,
 "nbformat_minor": 4
}
