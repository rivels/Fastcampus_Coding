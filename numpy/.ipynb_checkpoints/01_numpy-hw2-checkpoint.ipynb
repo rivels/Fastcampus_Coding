{
 "cells": [
  {
   "cell_type": "markdown",
   "metadata": {},
   "source": [
    "### 복합 화력발전소 발전량 예측\n",
    "- Feature\n",
    "    - AT (temperature) : 온도\n",
    "    - V (Exhaust Vacuum) : 배기진공\n",
    "    - AP (Ambient Pressure) : 주위압력\n",
    "    - RH (Relative Humidity) : 상대습도\n",
    "- Target\n",
    "    - PE (net hourly eletrical energy output) : 시간당 전기 에너지 출력"
   ]
  },
  {
   "cell_type": "markdown",
   "metadata": {},
   "source": [
    "#### 1. 데이터 로드"
   ]
  },
  {
   "cell_type": "code",
   "execution_count": 2,
   "metadata": {},
   "outputs": [],
   "source": [
    "import pickle"
   ]
  },
  {
   "cell_type": "code",
   "execution_count": 3,
   "metadata": {},
   "outputs": [
    {
     "data": {
      "text/plain": [
       "array([[   8.34,   40.77, 1010.84,   90.01,  480.48],\n",
       "       [  23.64,   58.49, 1011.4 ,   74.2 ,  445.75],\n",
       "       [  29.74,   56.9 , 1007.15,   41.91,  438.76],\n",
       "       ...,\n",
       "       [  15.99,   43.34, 1014.2 ,   78.66,  465.96],\n",
       "       [  17.65,   59.87, 1018.58,   94.65,  450.93],\n",
       "       [  23.68,   51.3 , 1011.86,   71.24,  451.67]])"
      ]
     },
     "execution_count": 3,
     "metadata": {},
     "output_type": "execute_result"
    }
   ],
   "source": [
    "columns = [\"AT\", \"V\", \"AP\", \"RH\", \"PE\"]\n",
    "\n",
    "with open(\"datas/thermal_power_plant.plk\", \"rb\") as file:\n",
    "    datas = pickle.load(file)\n",
    "    \n",
    "datas"
   ]
  },
  {
   "cell_type": "code",
   "execution_count": 25,
   "metadata": {},
   "outputs": [],
   "source": [
    "idx = int(len(datas)*0.3)"
   ]
  },
  {
   "cell_type": "code",
   "execution_count": 26,
   "metadata": {},
   "outputs": [],
   "source": [
    "train_AT = datas[:-idx,0]\n",
    "train_V = datas[:-idx,1]\n",
    "train_AP = datas[:-idx,2]\n",
    "train_RH = datas[:-idx,3]\n",
    "\n",
    "train_PE = datas[:-idx,4]\n",
    "\n",
    "\n",
    "test_AT = datas[-idx:,0]\n",
    "test_V = datas[-idx:,1]\n",
    "test_AP = datas[-idx:,2]\n",
    "test_RH = datas[-idx:,3]\n",
    "\n",
    "test_PE = datas[-idx:,4]"
   ]
  },
  {
   "cell_type": "markdown",
   "metadata": {},
   "source": [
    "#### 2. 각 컬럼별 상관계수 구하기"
   ]
  },
  {
   "cell_type": "code",
   "execution_count": 28,
   "metadata": {},
   "outputs": [
    {
     "data": {
      "text/plain": [
       "0.3879109242581739"
      ]
     },
     "execution_count": 28,
     "metadata": {},
     "output_type": "execute_result"
    }
   ],
   "source": [
    "# 상관계수들 // corrcoef함수는 매트릭스 형태로 값을 반환해주기 때문에 [0,1]의 인덱싱을 해준다.\n",
    "np.corrcoef(train_AT,train_PE)[0,1]\n",
    "np.corrcoef(train_V,train_PE)[0,1]\n",
    "np.corrcoef(train_AP,train_PE)[0,1]\n",
    "np.corrcoef(train_RH,train_PE)[0,1]"
   ]
  },
  {
   "cell_type": "code",
   "execution_count": 29,
   "metadata": {},
   "outputs": [
    {
     "data": {
      "text/plain": [
       "(0.8972298219790403,\n",
       " 0.7597928458067955,\n",
       " 0.2632116141898373,\n",
       " 0.15047488515883073)"
      ]
     },
     "execution_count": 29,
     "metadata": {},
     "output_type": "execute_result"
    }
   ],
   "source": [
    "# 결정계수들 // 상관계수의 제곱\n",
    "cor_AT = np.corrcoef(train_AT,train_PE)[0,1]**2\n",
    "cor_AP = np.corrcoef(train_AP,train_PE)[0,1]**2\n",
    "cor_V = np.corrcoef(train_V,train_PE)[0,1]**2\n",
    "cor_RH = np.corrcoef(train_RH,train_PE)[0,1]**2\n",
    "cor_AT,cor_V,cor_AP,cor_RH"
   ]
  },
  {
   "cell_type": "markdown",
   "metadata": {},
   "source": [
    "#### 3. 각 컬럼별 회귀분석 모델 만들기"
   ]
  },
  {
   "cell_type": "code",
   "execution_count": 18,
   "metadata": {},
   "outputs": [],
   "source": [
    "from sklearn.linear_model import LinearRegression"
   ]
  },
  {
   "cell_type": "code",
   "execution_count": 31,
   "metadata": {},
   "outputs": [],
   "source": [
    "model_AT = LinearRegression().fit(train_AT.reshape(-1,1),train_PE)\n",
    "model_V = LinearRegression().fit(train_V.reshape(-1,1),train_PE)\n",
    "model_AP = LinearRegression().fit(train_AP.reshape(-1,1),train_PE)\n",
    "model_RH = LinearRegression().fit(train_RH.reshape(-1,1),train_PE)"
   ]
  },
  {
   "cell_type": "code",
   "execution_count": 39,
   "metadata": {},
   "outputs": [],
   "source": [
    "## predict에 값이 들어갈때도 기본적으로는 여러 변수(column)의 데이터가 들어간다\n",
    "## 그렇기 때문에 하나의 변수인 데이터를 넣기때문에 reshape을 해줘야만 함\n",
    "predict_AT = model_AT.predict(test_AT.reshape(-1,1))\n",
    "predict_V = model_V.predict(test_V.reshape(-1,1))\n",
    "predict_AP = model_AP.predict(test_AP.reshape(-1,1))\n",
    "predict_RH = model_RH.predict(test_RH.reshape(-1,1))"
   ]
  },
  {
   "cell_type": "markdown",
   "metadata": {},
   "source": [
    "#### 4. 각 컬럼별 모델 평가하기"
   ]
  },
  {
   "cell_type": "code",
   "execution_count": 40,
   "metadata": {},
   "outputs": [
    {
     "data": {
      "text/plain": [
       "(4.287757845516818, 6.709245406136585, 12.011595029145708, 13.34736775715531)"
      ]
     },
     "execution_count": 40,
     "metadata": {},
     "output_type": "execute_result"
    }
   ],
   "source": [
    "mae_AT = np.sum(np.absolute(predict_AT - test_PE)) / len(test_PE)\n",
    "mae_V = np.sum(np.absolute(predict_V - test_PE)) / len(test_PE)\n",
    "mae_AP = np.sum(np.absolute(predict_AP - test_PE)) / len(test_PE)\n",
    "mae_RH = np.sum(np.absolute(predict_RH - test_PE)) / len(test_PE)\n",
    "\n",
    "mae_AT, mae_V, mae_AP, mae_RH"
   ]
  },
  {
   "cell_type": "markdown",
   "metadata": {},
   "source": [
    "#### 5. 모든 컬럼을 사용하여 회귀분석 모델 만들어서 평가하기"
   ]
  },
  {
   "cell_type": "code",
   "execution_count": 47,
   "metadata": {},
   "outputs": [],
   "source": [
    "train_all = datas[:-idx,:-1]\n",
    "test_all = datas[-idx:,:-1]\n",
    "\n",
    "train_PE = datas[:-idx,4]\n",
    "test_PE = datas[-idx:,4]"
   ]
  },
  {
   "cell_type": "code",
   "execution_count": 49,
   "metadata": {},
   "outputs": [],
   "source": [
    "model_all = LinearRegression().fit(train_all,train_PE)"
   ]
  },
  {
   "cell_type": "code",
   "execution_count": 51,
   "metadata": {},
   "outputs": [],
   "source": [
    "predict_all = model_all.predict(test_all)"
   ]
  },
  {
   "cell_type": "code",
   "execution_count": 52,
   "metadata": {},
   "outputs": [],
   "source": [
    "all_mae = np.sum(np.absolute(predict_all - test_PE)) / len(test_PE)"
   ]
  },
  {
   "cell_type": "code",
   "execution_count": 53,
   "metadata": {},
   "outputs": [
    {
     "data": {
      "text/plain": [
       "3.616714709526299"
      ]
     },
     "execution_count": 53,
     "metadata": {},
     "output_type": "execute_result"
    }
   ],
   "source": [
    "all_mae"
   ]
  },
  {
   "cell_type": "code",
   "execution_count": null,
   "metadata": {},
   "outputs": [],
   "source": []
  }
 ],
 "metadata": {
  "kernelspec": {
   "display_name": "Python 3",
   "language": "python",
   "name": "python3"
  },
  "language_info": {
   "codemirror_mode": {
    "name": "ipython",
    "version": 3
   },
   "file_extension": ".py",
   "mimetype": "text/x-python",
   "name": "python",
   "nbconvert_exporter": "python",
   "pygments_lexer": "ipython3",
   "version": "3.8.5"
  },
  "varInspector": {
   "cols": {
    "lenName": 16,
    "lenType": 16,
    "lenVar": 40
   },
   "kernels_config": {
    "python": {
     "delete_cmd_postfix": "",
     "delete_cmd_prefix": "del ",
     "library": "var_list.py",
     "varRefreshCmd": "print(var_dic_list())"
    },
    "r": {
     "delete_cmd_postfix": ") ",
     "delete_cmd_prefix": "rm(",
     "library": "var_list.r",
     "varRefreshCmd": "cat(var_dic_list()) "
    }
   },
   "types_to_exclude": [
    "module",
    "function",
    "builtin_function_or_method",
    "instance",
    "_Feature"
   ],
   "window_display": false
  }
 },
 "nbformat": 4,
 "nbformat_minor": 4
}
