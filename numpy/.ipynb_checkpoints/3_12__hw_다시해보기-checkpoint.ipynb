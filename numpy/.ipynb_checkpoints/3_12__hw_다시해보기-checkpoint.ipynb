{
 "cells": [
  {
   "cell_type": "markdown",
   "metadata": {},
   "source": [
    "### 복합 화력발전소 발전량 예측\n",
    "- Feature\n",
    "    - AT (temperature) : 온도\n",
    "    - V (Exhaust Vacuum) : 배기진공\n",
    "    - AP (Ambient Pressure) : 주위압력\n",
    "    - RH (Relative Humidity) : 상대습도\n",
    "- Target\n",
    "    - PE (net hourly eletrical energy output) : 시간당 전기 에너지 출력"
   ]
  },
  {
   "cell_type": "code",
   "execution_count": 1,
   "metadata": {},
   "outputs": [],
   "source": [
    "import pickle"
   ]
  },
  {
   "cell_type": "markdown",
   "metadata": {},
   "source": [
    "#### 1. 데이터 로드"
   ]
  },
  {
   "cell_type": "code",
   "execution_count": 2,
   "metadata": {},
   "outputs": [
    {
     "data": {
      "text/plain": [
       "array([[   8.34,   40.77, 1010.84,   90.01,  480.48],\n",
       "       [  23.64,   58.49, 1011.4 ,   74.2 ,  445.75],\n",
       "       [  29.74,   56.9 , 1007.15,   41.91,  438.76],\n",
       "       ...,\n",
       "       [  15.99,   43.34, 1014.2 ,   78.66,  465.96],\n",
       "       [  17.65,   59.87, 1018.58,   94.65,  450.93],\n",
       "       [  23.68,   51.3 , 1011.86,   71.24,  451.67]])"
      ]
     },
     "execution_count": 2,
     "metadata": {},
     "output_type": "execute_result"
    }
   ],
   "source": [
    "columns = [\"AT\", \"V\", \"AP\", \"RH\", \"PE\"]\n",
    "\n",
    "with open(\"datas/thermal_power_plant.plk\", \"rb\") as file:\n",
    "    datas = pickle.load(file)\n",
    "\n",
    "datas"
   ]
  },
  {
   "cell_type": "markdown",
   "metadata": {},
   "source": [
    "#### 2. 각 컬럼별 상관계수 구하기"
   ]
  },
  {
   "cell_type": "code",
   "execution_count": 12,
   "metadata": {},
   "outputs": [],
   "source": [
    "features = {}\n",
    "for idx, column in enumerate(columns[:-1]) :\n",
    "    features[column] = datas[:, idx]\n",
    "target = datas[:, -1]"
   ]
  },
  {
   "cell_type": "code",
   "execution_count": 18,
   "metadata": {},
   "outputs": [
    {
     "data": {
      "text/html": [
       "<div>\n",
       "<style scoped>\n",
       "    .dataframe tbody tr th:only-of-type {\n",
       "        vertical-align: middle;\n",
       "    }\n",
       "\n",
       "    .dataframe tbody tr th {\n",
       "        vertical-align: top;\n",
       "    }\n",
       "\n",
       "    .dataframe thead th {\n",
       "        text-align: right;\n",
       "    }\n",
       "</style>\n",
       "<table border=\"1\" class=\"dataframe\">\n",
       "  <thead>\n",
       "    <tr style=\"text-align: right;\">\n",
       "      <th></th>\n",
       "      <th>feature</th>\n",
       "      <th>corr</th>\n",
       "      <th>deter</th>\n",
       "    </tr>\n",
       "  </thead>\n",
       "  <tbody>\n",
       "    <tr>\n",
       "      <th>0</th>\n",
       "      <td>AT</td>\n",
       "      <td>-0.95</td>\n",
       "      <td>0.90</td>\n",
       "    </tr>\n",
       "    <tr>\n",
       "      <th>1</th>\n",
       "      <td>V</td>\n",
       "      <td>-0.87</td>\n",
       "      <td>0.76</td>\n",
       "    </tr>\n",
       "    <tr>\n",
       "      <th>2</th>\n",
       "      <td>AP</td>\n",
       "      <td>0.52</td>\n",
       "      <td>0.27</td>\n",
       "    </tr>\n",
       "    <tr>\n",
       "      <th>3</th>\n",
       "      <td>RH</td>\n",
       "      <td>0.39</td>\n",
       "      <td>0.15</td>\n",
       "    </tr>\n",
       "  </tbody>\n",
       "</table>\n",
       "</div>"
      ],
      "text/plain": [
       "  feature  corr  deter\n",
       "0      AT -0.95   0.90\n",
       "1       V -0.87   0.76\n",
       "2      AP  0.52   0.27\n",
       "3      RH  0.39   0.15"
      ]
     },
     "execution_count": 18,
     "metadata": {},
     "output_type": "execute_result"
    }
   ],
   "source": [
    "corr_df = pd.DataFrame(columns=[\"feature\", \"corr\", \"deter\"])\n",
    "\n",
    "for key, values in features.items():\n",
    "    corr = np.corrcoef(target, values)[0, 1]\n",
    "    corr_df.loc[len(corr_df)] = [key, np.round(corr, 2), np.round(corr**2, 2)]\n",
    "    \n",
    "corr_df"
   ]
  },
  {
   "cell_type": "markdown",
   "metadata": {},
   "source": [
    "#### 3. 각 컬럼별 회귀분석 모델 만들기"
   ]
  },
  {
   "cell_type": "code",
   "execution_count": 19,
   "metadata": {},
   "outputs": [],
   "source": [
    "from sklearn.linear_model import LinearRegression"
   ]
  },
  {
   "cell_type": "code",
   "execution_count": 23,
   "metadata": {},
   "outputs": [],
   "source": [
    "models = {}\n",
    "for key, value in features.items():\n",
    "    models[key] = LinearRegression().fit(value.reshape(-1, 1), target)"
   ]
  },
  {
   "cell_type": "code",
   "execution_count": 26,
   "metadata": {},
   "outputs": [
    {
     "data": {
      "text/plain": [
       "(dict_keys(['AT', 'V', 'AP', 'RH']), LinearRegression())"
      ]
     },
     "execution_count": 26,
     "metadata": {},
     "output_type": "execute_result"
    }
   ],
   "source": [
    "models.keys(), models[\"AT\"]"
   ]
  },
  {
   "cell_type": "markdown",
   "metadata": {},
   "source": [
    "#### 4. 각 컬럼별 모델 평가하기"
   ]
  },
  {
   "cell_type": "code",
   "execution_count": 36,
   "metadata": {},
   "outputs": [],
   "source": [
    "from sklearn.metrics import mean_absolute_error"
   ]
  },
  {
   "cell_type": "code",
   "execution_count": 37,
   "metadata": {},
   "outputs": [
    {
     "data": {
      "text/html": [
       "<div>\n",
       "<style scoped>\n",
       "    .dataframe tbody tr th:only-of-type {\n",
       "        vertical-align: middle;\n",
       "    }\n",
       "\n",
       "    .dataframe tbody tr th {\n",
       "        vertical-align: top;\n",
       "    }\n",
       "\n",
       "    .dataframe thead th {\n",
       "        text-align: right;\n",
       "    }\n",
       "</style>\n",
       "<table border=\"1\" class=\"dataframe\">\n",
       "  <thead>\n",
       "    <tr style=\"text-align: right;\">\n",
       "      <th></th>\n",
       "      <th>feature</th>\n",
       "      <th>score</th>\n",
       "    </tr>\n",
       "  </thead>\n",
       "  <tbody>\n",
       "    <tr>\n",
       "      <th>0</th>\n",
       "      <td>AT</td>\n",
       "      <td>4.29</td>\n",
       "    </tr>\n",
       "    <tr>\n",
       "      <th>1</th>\n",
       "      <td>V</td>\n",
       "      <td>6.58</td>\n",
       "    </tr>\n",
       "    <tr>\n",
       "      <th>2</th>\n",
       "      <td>AP</td>\n",
       "      <td>11.96</td>\n",
       "    </tr>\n",
       "    <tr>\n",
       "      <th>3</th>\n",
       "      <td>RH</td>\n",
       "      <td>13.19</td>\n",
       "    </tr>\n",
       "  </tbody>\n",
       "</table>\n",
       "</div>"
      ],
      "text/plain": [
       "  feature  score\n",
       "0      AT   4.29\n",
       "1       V   6.58\n",
       "2      AP  11.96\n",
       "3      RH  13.19"
      ]
     },
     "execution_count": 37,
     "metadata": {},
     "output_type": "execute_result"
    }
   ],
   "source": [
    "score_df = pd.DataFrame(columns=[\"feature\", \"score\"])\n",
    "\n",
    "for key, model in models.items():\n",
    "    \n",
    "    # 모델의 예측 결과\n",
    "    pred_y = model.predict(features[key].reshape(-1, 1))\n",
    "    \n",
    "    # 예측데이터와 실제데이터를 이용 > MAE\n",
    "    # mae = np.sum(np.absolute(pred_y - target)) / len(target) \n",
    "    mae = mean_absolute_error(target, pred_y)\n",
    "    mae = np.round(mae, 2)\n",
    "    \n",
    "    # MAE 데이터를 데이터 프레임에 추가\n",
    "    score_df.loc[len(score_df)] = [key, mae]\n",
    "\n",
    "score_df"
   ]
  },
  {
   "cell_type": "markdown",
   "metadata": {},
   "source": [
    "#### 5. 모든 컬럼을 사용하여 회귀분석 모델 만들어서 평가하기\n",
    "- 데이터셋 분리"
   ]
  },
  {
   "cell_type": "code",
   "execution_count": 39,
   "metadata": {},
   "outputs": [
    {
     "data": {
      "text/plain": [
       "2870"
      ]
     },
     "execution_count": 39,
     "metadata": {},
     "output_type": "execute_result"
    }
   ],
   "source": [
    "rate = 0.3\n",
    "idx = int(len(datas) * rate)\n",
    "idx"
   ]
  },
  {
   "cell_type": "code",
   "execution_count": 42,
   "metadata": {},
   "outputs": [
    {
     "data": {
      "text/plain": [
       "((6698, 4), (6698,), (2870, 4), (2870,))"
      ]
     },
     "execution_count": 42,
     "metadata": {},
     "output_type": "execute_result"
    }
   ],
   "source": [
    "train_x = datas[:-idx, :-1]\n",
    "train_y = datas[:-idx, -1]\n",
    "test_x = datas[-idx:, :-1]\n",
    "test_y = datas[-idx:, -1]\n",
    "\n",
    "train_x.shape, train_y.shape, test_x.shape, test_y.shape"
   ]
  },
  {
   "cell_type": "code",
   "execution_count": 43,
   "metadata": {},
   "outputs": [],
   "source": [
    "model = LinearRegression().fit(train_x, train_y)"
   ]
  },
  {
   "cell_type": "code",
   "execution_count": 46,
   "metadata": {},
   "outputs": [
    {
     "data": {
      "text/plain": [
       "3.62"
      ]
     },
     "execution_count": 46,
     "metadata": {},
     "output_type": "execute_result"
    }
   ],
   "source": [
    "mae = np.round(mean_absolute_error(test_y, model.predict(test_x)), 2)\n",
    "mae"
   ]
  },
  {
   "cell_type": "markdown",
   "metadata": {},
   "source": [
    "#### 결정계수가 가장 높은 AT 빼고 모델 생성"
   ]
  },
  {
   "cell_type": "code",
   "execution_count": 51,
   "metadata": {},
   "outputs": [
    {
     "data": {
      "text/plain": [
       "5.98"
      ]
     },
     "execution_count": 51,
     "metadata": {},
     "output_type": "execute_result"
    }
   ],
   "source": [
    "train_x = datas[:-idx, [1, 2, 3]]\n",
    "train_y = datas[:-idx, -1]\n",
    "test_x = datas[-idx:, [1, 2, 3]]\n",
    "test_y = datas[-idx:, -1]\n",
    "\n",
    "model = LinearRegression().fit(train_x, train_y)\n",
    "mae = np.round(mean_absolute_error(test_y, model.predict(test_x)), 2)\n",
    "mae"
   ]
  },
  {
   "cell_type": "markdown",
   "metadata": {},
   "source": [
    "#### 결정계수가 가장 작은 RH 빼고 모델 생성"
   ]
  },
  {
   "cell_type": "code",
   "execution_count": 52,
   "metadata": {},
   "outputs": [
    {
     "data": {
      "text/plain": [
       "3.88"
      ]
     },
     "execution_count": 52,
     "metadata": {},
     "output_type": "execute_result"
    }
   ],
   "source": [
    "train_x = datas[:-idx, [0, 1, 2]]\n",
    "train_y = datas[:-idx, -1]\n",
    "test_x = datas[-idx:, [0, 1, 2]]\n",
    "test_y = datas[-idx:, -1]\n",
    "\n",
    "model = LinearRegression().fit(train_x, train_y)\n",
    "mae = np.round(mean_absolute_error(test_y, model.predict(test_x)), 2)\n",
    "maess"
   ]
  },
  {
   "cell_type": "code",
   "execution_count": 53,
   "metadata": {},
   "outputs": [],
   "source": [
    "# 컬럼별 상관계수 출력"
   ]
  },
  {
   "cell_type": "code",
   "execution_count": 56,
   "metadata": {},
   "outputs": [
    {
     "data": {
      "text/plain": [
       "dict_keys(['AT', 'V', 'AP', 'RH'])"
      ]
     },
     "execution_count": 56,
     "metadata": {},
     "output_type": "execute_result"
    }
   ],
   "source": [
    "features.keys()"
   ]
  },
  {
   "cell_type": "code",
   "execution_count": 60,
   "metadata": {},
   "outputs": [
    {
     "data": {
      "text/plain": [
       "(0.8441067318678673, -0.5075493390955095, -0.5425346521044598)"
      ]
     },
     "execution_count": 60,
     "metadata": {},
     "output_type": "execute_result"
    }
   ],
   "source": [
    "np.corrcoef(features[\"AT\"], features[\"V\"])[0, 1],\\\n",
    "np.corrcoef(features[\"AT\"], features[\"AP\"])[0, 1],\\\n",
    "np.corrcoef(features[\"AT\"], features[\"RH\"])[0, 1]"
   ]
  },
  {
   "cell_type": "code",
   "execution_count": null,
   "metadata": {},
   "outputs": [],
   "source": []
  }
 ],
 "metadata": {
  "kernelspec": {
   "display_name": "Python 3",
   "language": "python",
   "name": "python3"
  },
  "language_info": {
   "codemirror_mode": {
    "name": "ipython",
    "version": 3
   },
   "file_extension": ".py",
   "mimetype": "text/x-python",
   "name": "python",
   "nbconvert_exporter": "python",
   "pygments_lexer": "ipython3",
   "version": "3.8.5"
  }
 },
 "nbformat": 4,
 "nbformat_minor": 4
}
