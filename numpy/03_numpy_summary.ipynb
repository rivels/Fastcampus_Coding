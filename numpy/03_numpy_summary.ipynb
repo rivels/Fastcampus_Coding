{
 "cells": [
  {
   "cell_type": "markdown",
   "id": "fantastic-manufacturer",
   "metadata": {},
   "source": [
    "#### Numpy Summary"
   ]
  },
  {
   "cell_type": "code",
   "execution_count": 5,
   "id": "outdoor-jungle",
   "metadata": {},
   "outputs": [],
   "source": [
    "import numpy as np"
   ]
  },
  {
   "cell_type": "code",
   "execution_count": 1,
   "id": "electrical-lending",
   "metadata": {},
   "outputs": [],
   "source": [
    "# 1. ndarray 객체 생성 : Create"
   ]
  },
  {
   "cell_type": "code",
   "execution_count": 10,
   "id": "antique-blend",
   "metadata": {},
   "outputs": [
    {
     "data": {
      "text/plain": [
       "(array([1, 2, 3]),\n",
       " array([5, 7, 9]),\n",
       " array([[8, 6, 7],\n",
       "        [8, 9, 9]]),\n",
       " array([[0., 0., 0.],\n",
       "        [0., 0., 0.]]))"
      ]
     },
     "execution_count": 10,
     "metadata": {},
     "output_type": "execute_result"
    }
   ],
   "source": [
    "arr1 = np.array([1, 2, 3])\n",
    "arr2 = np.arange(5, 10, 2)\n",
    "arr3 = np.random.randint(5, 10, size=(2, 3))\n",
    "arr4 = np.zeros((2, 3))\n",
    "arr1, arr2, arr3, arr4"
   ]
  },
  {
   "cell_type": "code",
   "execution_count": 2,
   "id": "prescription-bundle",
   "metadata": {},
   "outputs": [],
   "source": [
    "# 2. ndarray 데이터 선택 : Read, Delete"
   ]
  },
  {
   "cell_type": "code",
   "execution_count": 11,
   "id": "representative-shopper",
   "metadata": {},
   "outputs": [
    {
     "data": {
      "text/plain": [
       "array([[9, 9, 7, 8],\n",
       "       [7, 6, 8, 7],\n",
       "       [6, 8, 5, 6]])"
      ]
     },
     "execution_count": 11,
     "metadata": {},
     "output_type": "execute_result"
    }
   ],
   "source": [
    "arr = np.random.randint(5, 10, size=(3, 4))\n",
    "arr"
   ]
  },
  {
   "cell_type": "code",
   "execution_count": 14,
   "id": "together-practitioner",
   "metadata": {},
   "outputs": [
    {
     "data": {
      "text/plain": [
       "(array([[6, 8, 5, 6]]),\n",
       " array([[6, 8, 7],\n",
       "        [8, 5, 6]]))"
      ]
     },
     "execution_count": 14,
     "metadata": {},
     "output_type": "execute_result"
    }
   ],
   "source": [
    "arr[1:][1:], arr[1:, 1:]"
   ]
  },
  {
   "cell_type": "code",
   "execution_count": 17,
   "id": "cognitive-intranet",
   "metadata": {},
   "outputs": [
    {
     "data": {
      "text/plain": [
       "array([9, 9, 7, 8, 7, 8, 7, 8])"
      ]
     },
     "execution_count": 17,
     "metadata": {},
     "output_type": "execute_result"
    }
   ],
   "source": [
    "arr[arr >= 7]"
   ]
  },
  {
   "cell_type": "code",
   "execution_count": 3,
   "id": "killing-weather",
   "metadata": {},
   "outputs": [],
   "source": [
    "# 3. ndarray 데이터 수정 : Update"
   ]
  },
  {
   "cell_type": "code",
   "execution_count": 19,
   "id": "determined-tokyo",
   "metadata": {},
   "outputs": [
    {
     "data": {
      "text/plain": [
       "array([[9, 9, 7, 8],\n",
       "       [7, 6, 8, 7],\n",
       "       [6, 8, 5, 6]])"
      ]
     },
     "execution_count": 19,
     "metadata": {},
     "output_type": "execute_result"
    }
   ],
   "source": [
    "arr"
   ]
  },
  {
   "cell_type": "code",
   "execution_count": 21,
   "id": "endangered-chambers",
   "metadata": {},
   "outputs": [
    {
     "data": {
      "text/plain": [
       "array([[10, 10, 10, 10],\n",
       "       [10,  6, 10, 10],\n",
       "       [ 6, 10,  5,  6]])"
      ]
     },
     "execution_count": 21,
     "metadata": {},
     "output_type": "execute_result"
    }
   ],
   "source": [
    "arr[arr >= 7] = 10\n",
    "arr"
   ]
  },
  {
   "cell_type": "code",
   "execution_count": 4,
   "id": "thermal-election",
   "metadata": {},
   "outputs": [],
   "source": [
    "# 4. ndarray 연산"
   ]
  },
  {
   "cell_type": "code",
   "execution_count": 22,
   "id": "starting-mongolia",
   "metadata": {},
   "outputs": [
    {
     "data": {
      "text/plain": [
       "array([[9, 3, 0],\n",
       "       [3, 7, 6]])"
      ]
     },
     "execution_count": 22,
     "metadata": {},
     "output_type": "execute_result"
    }
   ],
   "source": [
    "data1 = np.array([1, 2, 3])\n",
    "data2 = np.array([4, 5, 6])\n",
    "data3 = np.random.randint(10, size=(2, 3))\n",
    "data3"
   ]
  },
  {
   "cell_type": "code",
   "execution_count": 28,
   "id": "nervous-australia",
   "metadata": {},
   "outputs": [
    {
     "data": {
      "text/plain": [
       "array([5, 7, 9])"
      ]
     },
     "execution_count": 28,
     "metadata": {},
     "output_type": "execute_result"
    }
   ],
   "source": [
    "# 벡터 * 벡터\n",
    "data1 + data2"
   ]
  },
  {
   "cell_type": "code",
   "execution_count": 30,
   "id": "upper-institute",
   "metadata": {},
   "outputs": [
    {
     "data": {
      "text/plain": [
       "array([11, 12, 13])"
      ]
     },
     "execution_count": 30,
     "metadata": {},
     "output_type": "execute_result"
    }
   ],
   "source": [
    "# 벡터 * 스칼라\n",
    "data1 + 10"
   ]
  },
  {
   "cell_type": "code",
   "execution_count": 32,
   "id": "mediterranean-hollow",
   "metadata": {},
   "outputs": [
    {
     "data": {
      "text/plain": [
       "array([[81,  9,  0],\n",
       "       [ 9, 49, 36]])"
      ]
     },
     "execution_count": 32,
     "metadata": {},
     "output_type": "execute_result"
    }
   ],
   "source": [
    "# 매트릭스 * 매트릭스\n",
    "data3 * data3"
   ]
  },
  {
   "cell_type": "code",
   "execution_count": 33,
   "id": "continent-smith",
   "metadata": {},
   "outputs": [
    {
     "data": {
      "text/plain": [
       "array([[ 9,  6,  0],\n",
       "       [ 3, 14, 18]])"
      ]
     },
     "execution_count": 33,
     "metadata": {},
     "output_type": "execute_result"
    }
   ],
   "source": [
    "# 매트릭스 * 벡터\n",
    "data3 * data1"
   ]
  },
  {
   "cell_type": "code",
   "execution_count": 34,
   "id": "outer-neighborhood",
   "metadata": {},
   "outputs": [
    {
     "data": {
      "text/plain": [
       "((2, 3), (3,))"
      ]
     },
     "execution_count": 34,
     "metadata": {},
     "output_type": "execute_result"
    }
   ],
   "source": [
    "data3.shape, data1.shape"
   ]
  },
  {
   "cell_type": "code",
   "execution_count": 35,
   "id": "completed-lobby",
   "metadata": {},
   "outputs": [
    {
     "data": {
      "text/plain": [
       "(2, 1)"
      ]
     },
     "execution_count": 35,
     "metadata": {},
     "output_type": "execute_result"
    }
   ],
   "source": [
    "data4 = np.array([[10], [20]])\n",
    "data4.shape"
   ]
  },
  {
   "cell_type": "code",
   "execution_count": 37,
   "id": "amino-violation",
   "metadata": {},
   "outputs": [
    {
     "data": {
      "text/plain": [
       "array([[ 90,  30,   0],\n",
       "       [ 60, 140, 120]])"
      ]
     },
     "execution_count": 37,
     "metadata": {},
     "output_type": "execute_result"
    }
   ],
   "source": [
    "data3 * data4"
   ]
  },
  {
   "cell_type": "code",
   "execution_count": 27,
   "id": "sound-sense",
   "metadata": {},
   "outputs": [],
   "source": [
    "# 매트릭스 * 스칼라"
   ]
  },
  {
   "cell_type": "code",
   "execution_count": 39,
   "id": "consolidated-steam",
   "metadata": {},
   "outputs": [
    {
     "data": {
      "text/plain": [
       "array([[90, 30,  0],\n",
       "       [30, 70, 60]])"
      ]
     },
     "execution_count": 39,
     "metadata": {},
     "output_type": "execute_result"
    }
   ],
   "source": [
    "data3 * 10"
   ]
  }
 ],
 "metadata": {
  "kernelspec": {
   "display_name": "Python 3",
   "language": "python",
   "name": "python3"
  },
  "language_info": {
   "codemirror_mode": {
    "name": "ipython",
    "version": 3
   },
   "file_extension": ".py",
   "mimetype": "text/x-python",
   "name": "python",
   "nbconvert_exporter": "python",
   "pygments_lexer": "ipython3",
   "version": "3.8.5"
  }
 },
 "nbformat": 4,
 "nbformat_minor": 5
}
