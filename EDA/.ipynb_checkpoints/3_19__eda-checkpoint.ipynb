{
 "cells": [
  {
   "cell_type": "markdown",
   "metadata": {},
   "source": [
    "### EDA\n",
    "- EDA : Exporatory Data Analysis : 탐색적 데이터 분석\n",
    "- 1977년 존 투기가 책으로 통계학을 컴퓨터에 접목하면서 시작"
   ]
  },
  {
   "cell_type": "markdown",
   "metadata": {},
   "source": [
    "#### 데이터 분석 절차\n",
    "- 문제정의\n",
    "- 데이터 수집\n",
    "    - 문제와 관계가 있는 모든 데이터 수집\n",
    "- 데이터 처리\n",
    "    - EDA : 데이터를 가공하기 전에 데이터를 이해\n",
    "    - 분석과 모델링을 하기 쉽게 데이터를 가공\n",
    "- 데이터 분석 및 모델링\n",
    "- 리포팅 및 피드백"
   ]
  },
  {
   "cell_type": "markdown",
   "metadata": {},
   "source": [
    "#### EDA 프로젝트 참고\n",
    "- kaggle 참고\n",
    "- 팀 단위로 프로젝트 진행 : 2 ~ 3명\n",
    "- 주제선정\n",
    "    - 프로젝트를 위한 주제선정 X\n",
    "    - 목적성을 가진 관심있는 데이터를 주제로 선정\n",
    "- 프로젝트시 코드는 github를 통해 공유\n",
    "    - jupyter notebook 으로 공유하지말고  .py같은 모듈파일로 공유하는게 좋음"
   ]
  },
  {
   "cell_type": "code",
   "execution_count": null,
   "metadata": {},
   "outputs": [],
   "source": []
  },
  {
   "cell_type": "code",
   "execution_count": null,
   "metadata": {},
   "outputs": [],
   "source": []
  },
  {
   "cell_type": "code",
   "execution_count": null,
   "metadata": {},
   "outputs": [],
   "source": []
  },
  {
   "cell_type": "code",
   "execution_count": null,
   "metadata": {},
   "outputs": [],
   "source": []
  },
  {
   "cell_type": "code",
   "execution_count": null,
   "metadata": {},
   "outputs": [],
   "source": []
  },
  {
   "cell_type": "code",
   "execution_count": null,
   "metadata": {},
   "outputs": [],
   "source": []
  },
  {
   "cell_type": "code",
   "execution_count": null,
   "metadata": {},
   "outputs": [],
   "source": []
  },
  {
   "cell_type": "code",
   "execution_count": null,
   "metadata": {},
   "outputs": [],
   "source": []
  }
 ],
 "metadata": {
  "kernelspec": {
   "display_name": "Python 3",
   "language": "python",
   "name": "python3"
  },
  "language_info": {
   "codemirror_mode": {
    "name": "ipython",
    "version": 3
   },
   "file_extension": ".py",
   "mimetype": "text/x-python",
   "name": "python",
   "nbconvert_exporter": "python",
   "pygments_lexer": "ipython3",
   "version": "3.8.5"
  }
 },
 "nbformat": 4,
 "nbformat_minor": 4
}
